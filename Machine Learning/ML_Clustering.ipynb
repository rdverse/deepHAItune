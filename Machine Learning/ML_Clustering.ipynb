{
 "cells": [
  {
   "cell_type": "markdown",
   "metadata": {},
   "source": [
    "# Analyze the effect of clustering on the speed data\n",
    "\n",
    "<b>Intuition</b> : Classification is not possible to classify the speed range between 3.0mph-7.0mph as some people might be walking or running at intermittent speeds such as 4.0-6.0mph.\n",
    "\n",
    "Therefore in this I have used different clustering algorithms. The challenge associated with this model is that we cannot test it against metrics such as homogeniety score or sihouette coeffecient. So a step in hyperparameter tuning involves using a RandomForestRegressor to rank the models based on the precision observed in the model.\n",
    "\n",
    "## Algorithms used :\n",
    "<ol>\n",
    "    <li>KMeans</li>\n",
    "    <li>DbScan</li>\n",
    "    <li>Affinity Propagation</li>\n",
    "</ol>"
   ]
  },
  {
   "cell_type": "markdown",
   "metadata": {},
   "source": [
    "# Import Libraries"
   ]
  },
  {
   "cell_type": "code",
   "execution_count": 52,
   "metadata": {},
   "outputs": [],
   "source": [
    "try:\n",
    "    rel('DataBuilder')\n",
    "    rel('MLData')\n",
    "except:\n",
    "    print('importing for the first time')\n",
    "from DataBuilder import DataBuilder\n",
    "import ClassEvaluator\n",
    "import numpy as np\n",
    "import importlib,sys \n",
    "from IPython.display import clear_output"
   ]
  },
  {
   "cell_type": "code",
   "execution_count": 53,
   "metadata": {},
   "outputs": [],
   "source": [
    "def rel(name):\n",
    "    importlib.reload(sys.modules[name])"
   ]
  },
  {
   "cell_type": "markdown",
   "metadata": {},
   "source": [
    "# Build Data "
   ]
  },
  {
   "cell_type": "code",
   "execution_count": 54,
   "metadata": {},
   "outputs": [
    {
     "name": "stderr",
     "output_type": "stream",
     "text": [
      "  0%|          | 0/3 [00:00<?, ?it/s]"
     ]
    },
    {
     "name": "stdout",
     "output_type": "stream",
     "text": [
      "building data\n",
      "Accel\n",
      "29\n",
      "Train Labels shape   : (3613, 1)\n",
      "Train Features shape : (3613, 150)\n",
      "Test labels shape    : (1549, 1)\n",
      "Test Features shape  : (1549, 150)\n",
      "Gyro\n",
      "29\n",
      "Train Labels shape   : (3613, 1)\n",
      "Train Features shape : (3613, 150)\n",
      "Test labels shape    : (1549, 1)\n",
      "Test Features shape  : (1549, 150)\n",
      "Accel\n",
      "29\n",
      "Train Labels shape   : (3613, 1)\n",
      "Train Features shape : (3613, 50)\n",
      "Test labels shape    : (1549, 1)\n",
      "Test Features shape  : (1549, 50)\n",
      "Gyro\n",
      "29\n"
     ]
    },
    {
     "name": "stderr",
     "output_type": "stream",
     "text": [
      " 33%|███▎      | 1/3 [00:08<00:17,  8.69s/it]"
     ]
    },
    {
     "name": "stdout",
     "output_type": "stream",
     "text": [
      "Train Labels shape   : (3613, 1)\n",
      "Train Features shape : (3613, 50)\n",
      "Test labels shape    : (1549, 1)\n",
      "Test Features shape  : (1549, 50)\n",
      "(3613, 150)\n",
      "Accel\n",
      "14\n",
      "Train Labels shape   : (1744, 1)\n",
      "Train Features shape : (1744, 300)\n",
      "Test labels shape    : (748, 1)\n",
      "Test Features shape  : (748, 300)\n",
      "Gyro\n",
      "14\n",
      "Train Labels shape   : (1744, 1)\n",
      "Train Features shape : (1744, 300)\n",
      "Test labels shape    : (748, 1)\n",
      "Test Features shape  : (748, 300)\n",
      "Accel\n",
      "14\n",
      "Train Labels shape   : (1744, 1)\n",
      "Train Features shape : (1744, 100)\n",
      "Test labels shape    : (748, 1)\n",
      "Test Features shape  : (748, 100)\n",
      "Gyro\n",
      "14\n"
     ]
    },
    {
     "name": "stderr",
     "output_type": "stream",
     "text": [
      " 67%|██████▋   | 2/3 [00:15<00:08,  8.00s/it]"
     ]
    },
    {
     "name": "stdout",
     "output_type": "stream",
     "text": [
      "Train Labels shape   : (1744, 1)\n",
      "Train Features shape : (1744, 100)\n",
      "Test labels shape    : (748, 1)\n",
      "Test Features shape  : (748, 100)\n",
      "(1744, 300)\n",
      "Accel\n",
      "9\n",
      "Train Labels shape   : (1121, 1)\n",
      "Train Features shape : (1121, 450)\n",
      "Test labels shape    : (481, 1)\n",
      "Test Features shape  : (481, 450)\n",
      "Gyro\n",
      "9\n",
      "Train Labels shape   : (1121, 1)\n",
      "Train Features shape : (1121, 450)\n",
      "Test labels shape    : (481, 1)\n",
      "Test Features shape  : (481, 450)\n",
      "Accel\n",
      "9\n",
      "Train Labels shape   : (1121, 1)\n",
      "Train Features shape : (1121, 150)\n",
      "Test labels shape    : (481, 1)\n",
      "Test Features shape  : (481, 150)\n",
      "Gyro\n",
      "9\n"
     ]
    },
    {
     "name": "stderr",
     "output_type": "stream",
     "text": [
      "100%|██████████| 3/3 [00:20<00:00,  6.91s/it]"
     ]
    },
    {
     "name": "stdout",
     "output_type": "stream",
     "text": [
      "Train Labels shape   : (1121, 1)\n",
      "Train Features shape : (1121, 150)\n",
      "Test labels shape    : (481, 1)\n",
      "Test Features shape  : (481, 150)\n",
      "(1121, 450)\n"
     ]
    },
    {
     "name": "stderr",
     "output_type": "stream",
     "text": [
      "\n"
     ]
    }
   ],
   "source": [
    "\n",
    "dataBuilder = DataBuilder(heuristic=False, applyFilter=False)"
   ]
  },
  {
   "cell_type": "markdown",
   "metadata": {},
   "source": [
    "## KMeans"
   ]
  },
  {
   "cell_type": "code",
   "execution_count": 57,
   "metadata": {},
   "outputs": [
    {
     "data": {
      "text/plain": [
       "(3613, 300)"
      ]
     },
     "execution_count": 57,
     "metadata": {},
     "output_type": "execute_result"
    }
   ],
   "source": [
    "X_Train, y_Train, X_Test, y_Test=dataBuilder.confs['data1']['conf5']"
   ]
  },
  {
   "cell_type": "code",
   "execution_count": 85,
   "metadata": {},
   "outputs": [],
   "source": [
    "# Try kmeans for different number of clusters - 2  \n",
    "def cluster_labels(arr, criteria):\n",
    "    split_crirteria = [[[3,5],[5,7]],\n",
    "                       [[3,4],[4,7]],\n",
    "                       [[3,6],[6,7]],\n",
    "                       [[3,4], [4,5] ,[5,7]],\n",
    "                       [[3,3],[4,4],[5,5],[6,6],[7,7]]]\n",
    "\n",
    "\n",
    "    label_no = 0\n",
    "    split = split_crirteria[criteria]\n",
    "    n_clusters = len(split)\n",
    "    # Round all the clusters\n",
    "    newArr = np.array([int(np.round(speed)) for speed in arr])\n",
    "    # Modify labels of train and test according to the split criteria\n",
    "    for subSplit in split:\n",
    "        minim, maxim = subSplit\n",
    "        indices = np.where((newArr==minim)|(newArr==maxim))\n",
    "        newArr[indices] = label_no\n",
    "        newArr = np.array([label_no if speed>=minim and speed<maxim else speed  \n",
    "                                 for speed in newArr])\n",
    "        label_no+=1\n",
    "        # fit and train the clustering algorithm with appropriate grid search criteria\n",
    "    return(newArr.ravel())\n"
   ]
  },
  {
   "cell_type": "code",
   "execution_count": 136,
   "metadata": {},
   "outputs": [],
   "source": [
    "import matplotlib.pyplot as plt\n",
    "from collections import Counter\n",
    "y_test_conv = cluster_labels(y_Test, 0)\n",
    "y_train_conv  = cluster_labels(y_Train, 0)"
   ]
  },
  {
   "cell_type": "code",
   "execution_count": 140,
   "metadata": {},
   "outputs": [
    {
     "data": {
      "text/plain": [
       "KMeans(max_iter=20000, n_clusters=2)"
      ]
     },
     "execution_count": 140,
     "metadata": {},
     "output_type": "execute_result"
    }
   ],
   "source": [
    "from sklearn.cluster import KMeans\n",
    "from sklearn.metrics import *\n",
    "km = KMeans(n_clusters=2, max_iter=20000)\n",
    "km.fit(X_Train)"
   ]
  },
  {
   "cell_type": "code",
   "execution_count": 141,
   "metadata": {},
   "outputs": [
    {
     "data": {
      "text/plain": [
       "-0.000176995726623763"
      ]
     },
     "execution_count": 141,
     "metadata": {},
     "output_type": "execute_result"
    }
   ],
   "source": [
    "adjusted_rand_score(y_train_conv.ravel(),km.labels_)\n",
    "#accuracy_score(y_train_conv,km.labels_)"
   ]
  },
  {
   "cell_type": "code",
   "execution_count": 148,
   "metadata": {},
   "outputs": [
    {
     "data": {
      "text/plain": [
       "array([[0, 0],\n",
       "       [0, 0],\n",
       "       [0, 0],\n",
       "       ...,\n",
       "       [1, 0],\n",
       "       [0, 1],\n",
       "       [0, 1]])"
      ]
     },
     "execution_count": 148,
     "metadata": {},
     "output_type": "execute_result"
    }
   ],
   "source": [
    "np.hstack((y_train_conv.reshape(-1,1),km.labels_.reshape(-1,1)))"
   ]
  },
  {
   "cell_type": "code",
   "execution_count": 143,
   "metadata": {},
   "outputs": [],
   "source": [
    "import numpy as np\n",
    "a=np.array([1,2,3,4,5,6,78])"
   ]
  },
  {
   "cell_type": "code",
   "execution_count": null,
   "metadata": {},
   "outputs": [],
   "source": [
    "np.where((a==1)|(a==2))"
   ]
  },
  {
   "cell_type": "code",
   "execution_count": null,
   "metadata": {},
   "outputs": [],
   "source": []
  },
  {
   "cell_type": "code",
   "execution_count": null,
   "metadata": {},
   "outputs": [],
   "source": [
    "inds = [0,1,2]"
   ]
  },
  {
   "cell_type": "code",
   "execution_count": null,
   "metadata": {},
   "outputs": [],
   "source": []
  },
  {
   "cell_type": "code",
   "execution_count": null,
   "metadata": {},
   "outputs": [],
   "source": []
  }
 ],
 "metadata": {
  "kernelspec": {
   "display_name": "pyHAI",
   "language": "python",
   "name": "pyhai"
  },
  "language_info": {
   "codemirror_mode": {
    "name": "ipython",
    "version": 3
   },
   "file_extension": ".py",
   "mimetype": "text/x-python",
   "name": "python",
   "nbconvert_exporter": "python",
   "pygments_lexer": "ipython3",
   "version": "3.6.10"
  }
 },
 "nbformat": 4,
 "nbformat_minor": 4
}
