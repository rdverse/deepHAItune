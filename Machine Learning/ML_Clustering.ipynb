{
 "cells": [
  {
   "cell_type": "markdown",
   "metadata": {},
   "source": [
    "# Analyze the effect of clustering on the speed data\n",
    "\n",
    "<b>Intuition</b> : Classification is not possible to classify the speed range between 3.0mph-7.0mph as some people might be walking or running at intermittent speeds such as 4.0-6.0mph.\n",
    "\n",
    "Therefore in this I have used different clustering algorithms. The challenge associated with this model is that we cannot test it against metrics such as homogeniety score or sihouette coeffecient. So a step in hyperparameter tuning involves using a RandomForestRegressor to rank the models based on the precision observed in the model.\n",
    "\n",
    "## Algorithms used :\n",
    "<ol>\n",
    "    <li>KMeans</li>\n",
    "    <li>DbScan</li>\n",
    "    <li>Affinity Propagation</li>\n",
    "</ol>"
   ]
  },
  {
   "cell_type": "markdown",
   "metadata": {},
   "source": [
    "# Import Libraries"
   ]
  },
  {
   "cell_type": "code",
   "execution_count": 44,
   "metadata": {},
   "outputs": [],
   "source": [
    "def rel(name):\n",
    "    importlib.reload(sys.modules[name])\n",
    "try:\n",
    "    rel('DataBuilder')\n",
    "    rel('MLData')\n",
    "    rel('Heuristics')\n",
    "\n",
    "except:\n",
    "    print('importing for the first time')\n",
    "\n",
    "from DataBuilder import DataBuilder\n",
    "import ClassEvaluator\n",
    "import numpy as np\n",
    "import importlib,sys \n",
    "from IPython.display import clear_output\n",
    "\n",
    "from sklearn.cluster import KMeans\n",
    "from sklearn.metrics import *\n",
    "\n",
    "import matplotlib.pyplot as plt\n",
    "from collections import Counter\n",
    "\n",
    "from sklearn.model_selection import train_test_split\n",
    "\n",
    "    \n"
   ]
  },
  {
   "cell_type": "code",
   "execution_count": 7,
   "metadata": {},
   "outputs": [],
   "source": [
    "import entropy\n"
   ]
  },
  {
   "cell_type": "code",
   "execution_count": 26,
   "metadata": {},
   "outputs": [
    {
     "data": {
      "text/plain": [
       "<module 'entropy' (namespace)>"
      ]
     },
     "execution_count": 26,
     "metadata": {},
     "output_type": "execute_result"
    }
   ],
   "source": [
    "entropy\n"
   ]
  },
  {
   "cell_type": "markdown",
   "metadata": {},
   "source": [
    "# Build Data "
   ]
  },
  {
   "cell_type": "code",
   "execution_count": 38,
   "metadata": {},
   "outputs": [
    {
     "name": "stderr",
     "output_type": "stream",
     "text": [
      "100%|██████████| 3/3 [00:36<00:00, 12.09s/it]\n"
     ]
    }
   ],
   "source": [
    "dataBuilder = DataBuilder(heuristic=False, applyFilter=False)"
   ]
  },
  {
   "cell_type": "markdown",
   "metadata": {},
   "source": [
    "## KMeans"
   ]
  },
  {
   "cell_type": "code",
   "execution_count": 45,
   "metadata": {},
   "outputs": [],
   "source": [
    "X_Train, y_Train, X_Test, y_Test = dataBuilder.confs['data1']['conf5']\n",
    "\n",
    "#train_inds = np.where((y_Train<4.2)&(y_Train>6))\n",
    "#test_inds = np.where((y_Test<4.2)&(y_Test>6))\n",
    "\n",
    "\n",
    "#X_Train=X_Train[train_inds]\n",
    "#y_Train=y_Train[train_inds]\n",
    "#X_Test=X_Test[test_inds]\n",
    "#y_Test=y_Test[test_inds]"
   ]
  },
  {
   "cell_type": "code",
   "execution_count": 46,
   "metadata": {},
   "outputs": [],
   "source": [
    "#dataBuilder.confs\n"
   ]
  },
  {
   "cell_type": "code",
   "execution_count": 101,
   "metadata": {},
   "outputs": [],
   "source": [
    "# Try kmeans for different number of clusters - 2  \n",
    "def cluster_labels(arr, criteria):\n",
    "    split_crirteria = [[[3,4],[5,7]],\n",
    "                       [[3,4],[4,7]],\n",
    "                       [[3,6],[6,7]],\n",
    "                       [[3,4], [4,5] ,[5,7]],\n",
    "                       [[3,3],[4,4],[5,5],[6,6],[7,7]]]\n",
    "\n",
    "\n",
    "    label_no = 0\n",
    "    split = split_crirteria[criteria]\n",
    "    n_clusters = len(split)\n",
    "    # Round all the clusters\n",
    "    newArr = np.array([int(np.round(speed)) for speed in arr])\n",
    "    # Modify labels of train and test according to the split criteria\n",
    "    for subSplit in split:\n",
    "        minim, maxim = subSplit\n",
    "        indices = np.where((newArr==minim)|(newArr==maxim))\n",
    "        newArr[indices] = label_no\n",
    "        newArr = np.array([label_no if speed>=minim and speed<=maxim else speed  \n",
    "                                 for speed in newArr])\n",
    "        label_no+=1\n",
    "        # fit and train the clustering algorithm with appropriate grid search criteria\n",
    "    return(newArr.ravel())\n"
   ]
  },
  {
   "cell_type": "code",
   "execution_count": 102,
   "metadata": {},
   "outputs": [],
   "source": [
    "y_test_conv = cluster_labels(y_Test, 0)\n",
    "y_train_conv  = cluster_labels(y_Train, 0)"
   ]
  },
  {
   "cell_type": "code",
   "execution_count": 103,
   "metadata": {},
   "outputs": [
    {
     "data": {
      "text/plain": [
       "array([[ -4.39130435,  -3.5       ,  -2.85869565, ..., 147.69896008,\n",
       "        169.48165319, 196.16805597],\n",
       "       [ 16.88043478,  11.85869565,  11.40217391, ..., 115.37964888,\n",
       "        183.08828463, 211.55864949],\n",
       "       [  7.58695652,   5.42391304,   5.63043478, ..., 256.52574521,\n",
       "        293.37617864, 323.10728458],\n",
       "       ...,\n",
       "       [ -2.45652174,   0.32608696,  15.09782609, ..., 182.6494431 ,\n",
       "        237.30991313, 239.8022703 ],\n",
       "       [  1.65060241,   0.93975904,   0.4939759 , ...,  34.51200673,\n",
       "         73.51943866, 117.40488689],\n",
       "       [  3.52173913,   4.94565217,   6.07608696, ..., 155.51312383,\n",
       "        162.95450654, 155.37864374]])"
      ]
     },
     "execution_count": 103,
     "metadata": {},
     "output_type": "execute_result"
    }
   ],
   "source": [
    "X_Train"
   ]
  },
  {
   "cell_type": "code",
   "execution_count": 104,
   "metadata": {},
   "outputs": [
    {
     "data": {
      "text/plain": [
       "KMeans(max_iter=20000, n_clusters=2)"
      ]
     },
     "execution_count": 104,
     "metadata": {},
     "output_type": "execute_result"
    }
   ],
   "source": [
    "km = KMeans(n_clusters=2, max_iter=20000)\n",
    "km.fit(X_Train)"
   ]
  },
  {
   "cell_type": "code",
   "execution_count": 105,
   "metadata": {},
   "outputs": [
    {
     "data": {
      "text/plain": [
       "-0.00025808766811020637"
      ]
     },
     "execution_count": 105,
     "metadata": {},
     "output_type": "execute_result"
    }
   ],
   "source": [
    "adjusted_rand_score(y_train_conv.ravel(),km.labels_)\n",
    "#accuracy_score(y_train_conv,km.labels_)"
   ]
  },
  {
   "cell_type": "code",
   "execution_count": 106,
   "metadata": {},
   "outputs": [
    {
     "data": {
      "text/plain": [
       "array([[1, 0],\n",
       "       [1, 1],\n",
       "       [1, 1],\n",
       "       ...,\n",
       "       [1, 0],\n",
       "       [0, 0],\n",
       "       [0, 1]])"
      ]
     },
     "execution_count": 106,
     "metadata": {},
     "output_type": "execute_result"
    }
   ],
   "source": [
    "np.hstack((y_train_conv.reshape(-1,1),km.labels_.reshape(-1,1)))"
   ]
  },
  {
   "cell_type": "code",
   "execution_count": 107,
   "metadata": {},
   "outputs": [],
   "source": [
    "import numpy as np\n",
    "a=np.array([1,2,3,4,5,6,78])"
   ]
  },
  {
   "cell_type": "code",
   "execution_count": 108,
   "metadata": {},
   "outputs": [
    {
     "data": {
      "text/plain": [
       "(array([0, 1]),)"
      ]
     },
     "execution_count": 108,
     "metadata": {},
     "output_type": "execute_result"
    }
   ],
   "source": [
    "np.where((a==1)|(a==2))"
   ]
  },
  {
   "cell_type": "code",
   "execution_count": 109,
   "metadata": {},
   "outputs": [],
   "source": [
    "inds = [0,1,2]"
   ]
  },
  {
   "cell_type": "code",
   "execution_count": 110,
   "metadata": {},
   "outputs": [
    {
     "name": "stdout",
     "output_type": "stream",
     "text": [
      "              precision    recall  f1-score   support\n",
      "\n",
      "           0       0.50      0.52      0.51      1823\n",
      "           1       0.50      0.49      0.49      1810\n",
      "\n",
      "    accuracy                           0.50      3633\n",
      "   macro avg       0.50      0.50      0.50      3633\n",
      "weighted avg       0.50      0.50      0.50      3633\n",
      "\n"
     ]
    }
   ],
   "source": [
    "from sklearn.metrics import classification_report\n",
    "\n",
    "print(classification_report(y_train_conv.reshape(-1,1),km.labels_.reshape(-1,1)))\n"
   ]
  },
  {
   "cell_type": "code",
   "execution_count": 114,
   "metadata": {},
   "outputs": [
    {
     "name": "stdout",
     "output_type": "stream",
     "text": [
      "[[944 879]\n",
      " [930 880]]\n"
     ]
    }
   ],
   "source": [
    "print(confusion_matrix(y_train_conv.reshape(-1,1),km.labels_.reshape(-1,1)))"
   ]
  },
  {
   "cell_type": "code",
   "execution_count": 115,
   "metadata": {},
   "outputs": [],
   "source": [
    "# np.hstack((y_train_conv.reshape(-1,1),km.labels_.reshape(-1,1)))[20:40]"
   ]
  },
  {
   "cell_type": "markdown",
   "metadata": {},
   "source": [
    "\n",
    "# Clustering Analysis on hand-crafted features"
   ]
  },
  {
   "cell_type": "code",
   "execution_count": 116,
   "metadata": {},
   "outputs": [
    {
     "name": "stderr",
     "output_type": "stream",
     "text": [
      "100%|██████████| 1/1 [12:14<00:00, 734.11s/it]\n"
     ]
    }
   ],
   "source": [
    "handDataBuilder = DataBuilder(heuristic=True, applyFilter=False)"
   ]
  },
  {
   "cell_type": "code",
   "execution_count": null,
   "metadata": {},
   "outputs": [],
   "source": []
  }
 ],
 "metadata": {
  "kernelspec": {
   "display_name": "pyHAI",
   "language": "python",
   "name": "pyhai"
  },
  "language_info": {
   "codemirror_mode": {
    "name": "ipython",
    "version": 3
   },
   "file_extension": ".py",
   "mimetype": "text/x-python",
   "name": "python",
   "nbconvert_exporter": "python",
   "pygments_lexer": "ipython3",
   "version": "3.6.10"
  }
 },
 "nbformat": 4,
 "nbformat_minor": 4
}
