{
 "cells": [
  {
   "cell_type": "markdown",
   "metadata": {},
   "source": [
    "# Import Libraries"
   ]
  },
  {
   "cell_type": "code",
   "execution_count": 1,
   "metadata": {},
   "outputs": [],
   "source": [
    "#If need to reimport something\n",
    "def rel(name):\n",
    "    importlib.reload(sys.modules[name])"
   ]
  },
  {
   "cell_type": "code",
   "execution_count": 2,
   "metadata": {},
   "outputs": [],
   "source": [
    "import numpy as np\n",
    "import pandas as pd\n",
    "import sys, importlib\n",
    "import matplotlib.pyplot as plt"
   ]
  },
  {
   "cell_type": "code",
   "execution_count": 3,
   "metadata": {},
   "outputs": [],
   "source": [
    "import Evaluator\n"
   ]
  },
  {
   "cell_type": "markdown",
   "metadata": {},
   "source": [
    " # Build Data"
   ]
  },
  {
   "cell_type": "code",
   "execution_count": 4,
   "metadata": {},
   "outputs": [
    {
     "name": "stderr",
     "output_type": "stream",
     "text": [
      "100%|██████████| 3/3 [00:23<00:00,  7.72s/it]\n"
     ]
    }
   ],
   "source": [
    "from DataBuilder import DataBuilder\n",
    "\n",
    "dataBuilder = DataBuilder()"
   ]
  },
  {
   "cell_type": "markdown",
   "metadata": {},
   "source": [
    "# Bring in the algorithm"
   ]
  },
  {
   "cell_type": "code",
   "execution_count": null,
   "metadata": {},
   "outputs": [],
   "source": [
    "from skLinearRegression import skLinearRegression\n",
    "skLR = skLinearRegression()\n",
    "model = skLR.model"
   ]
  },
  {
   "cell_type": "markdown",
   "metadata": {},
   "source": [
    "# Plug the evaluator to LR grid"
   ]
  },
  {
   "cell_type": "code",
   "execution_count": null,
   "metadata": {},
   "outputs": [],
   "source": [
    "#from Evaluator import Evaluator"
   ]
  },
  {
   "cell_type": "code",
   "execution_count": null,
   "metadata": {},
   "outputs": [],
   "source": [
    "for dataKey, confDict in dataBuilder.confs.items():\n",
    "    for confKey, confData in confDict.items():\n",
    "        evaluator  = Evaluator.Evaluator(skLR.name, dataKey, model, confKey, confData)\n",
    "        evaluator.train_model()\n",
    "        evaluator.evaluate()\n",
    "        evaluator.store()"
   ]
  },
  {
   "cell_type": "code",
   "execution_count": null,
   "metadata": {},
   "outputs": [],
   "source": [
    "#Typical reload command\n",
    "rel('skRandomForest')"
   ]
  },
  {
   "cell_type": "markdown",
   "metadata": {},
   "source": [
    "# RandomForest Regressor"
   ]
  },
  {
   "cell_type": "code",
   "execution_count": null,
   "metadata": {},
   "outputs": [],
   "source": [
    "rel('Evaluator')\n",
    "from skRandomForest import skRandomForest\n",
    "skRF = skRandomForest()\n",
    "model = skRF.model"
   ]
  },
  {
   "cell_type": "markdown",
   "metadata": {},
   "source": [
    "# Train RF"
   ]
  },
  {
   "cell_type": "code",
   "execution_count": null,
   "metadata": {},
   "outputs": [],
   "source": [
    "for dataKey, confDict in dataBuilder.confs.items():\n",
    "    for confKey, confData in confDict.items():\n",
    "        evaluator  = Evaluator.Evaluator(skRF.name, dataKey, model, confKey, confData)\n",
    "        evaluator.train_model()\n",
    "        evaluator.evaluate()\n",
    "        evaluator.store()"
   ]
  },
  {
   "cell_type": "markdown",
   "metadata": {},
   "source": [
    "# Gaussian Process Regression"
   ]
  },
  {
   "cell_type": "code",
   "execution_count": null,
   "metadata": {},
   "outputs": [],
   "source": [
    "rel('skGaussianProcess')\n",
    "rel('Evaluator')\n",
    "\n",
    "from skGaussianProcess import skGaussianProcess\n",
    "\n",
    "skGP = skGaussianProcess()\n",
    "model = skGP.model"
   ]
  },
  {
   "cell_type": "code",
   "execution_count": null,
   "metadata": {},
   "outputs": [],
   "source": [
    "for dataKey, confDict in dataBuilder.confs.items():\n",
    "    for confKey, confData in confDict.items():\n",
    "        evaluator  = Evaluator.Evaluator(skGP.name, dataKey, model, confKey, confData)\n",
    "        evaluator.train_model()\n",
    "        evaluator.evaluate()\n",
    "        evaluator.store()"
   ]
  },
  {
   "cell_type": "code",
   "execution_count": null,
   "metadata": {},
   "outputs": [],
   "source": [
    "from sklearn.gaussian_process import GaussianProcessRegressor\n",
    "gp = GaussianProcessRegressor()"
   ]
  },
  {
   "cell_type": "code",
   "execution_count": null,
   "metadata": {},
   "outputs": [],
   "source": [
    "gp.get_params()"
   ]
  },
  {
   "cell_type": "markdown",
   "metadata": {},
   "source": [
    "# Kmeans + RandomForest"
   ]
  },
  {
   "cell_type": "markdown",
   "metadata": {},
   "source": [
    "## Test with the best conf, framesize random forest configuraions."
   ]
  },
  {
   "cell_type": "code",
   "execution_count": 256,
   "metadata": {},
   "outputs": [],
   "source": [
    "from sklearn.cluster import KMeans\n",
    "from sklearn.metrics import mean_absolute_error\n",
    "from sklearn.pipeline import Pipeline\n",
    "from sklearn.ensemble import RandomForestRegressor\n",
    "from sklearn.decomposition import PCA\n",
    "from sklearn.metrics import r2_score\n",
    "from Evaluator import mean_absolute_percentage_error\n",
    "\n",
    "skKM = KMeans(n_clusters=2,max_iter = 10000000)\n",
    "confData = dataBuilder.confs['data1']['conf5']\n",
    "\n",
    "train_cluster_indices = list()\n",
    "test_cluster_indices = list()\n",
    "\n",
    "skKM.fit(confData[0])\n",
    "preds = skKM.transform(confData[0])\n",
    "labels = skKM.labels_\n"
   ]
  },
  {
   "cell_type": "code",
   "execution_count": 257,
   "metadata": {},
   "outputs": [],
   "source": [
    "# plt.scatter(confData[1],confData[1], c=['blue' if a ==0 else 'red' for a in labels], alpha = 0.1)\n",
    "df = pd.DataFrame(data = np.hstack((confData[1], labels.reshape(-1,1))), columns = ['speed', 'label'])"
   ]
  },
  {
   "cell_type": "code",
   "execution_count": 258,
   "metadata": {},
   "outputs": [],
   "source": [
    "clust1 = np.where(labels==0)\n",
    "clust2 = np.where(labels==1)\n",
    "\n",
    "X_Train1 = np.take(confData[0], clust1,axis=0)[0]\n",
    "y_Train1 = np.take(confData[1], clust1,axis=0)[0]\n",
    "\n",
    "X_Train2 = np.take(confData[0], clust2,axis=0)[0]\n",
    "y_Train2 = np.take(confData[1], clust2,axis=0)[0]"
   ]
  },
  {
   "cell_type": "code",
   "execution_count": 259,
   "metadata": {},
   "outputs": [],
   "source": [
    "preds = skKM.predict(confData[2])"
   ]
  },
  {
   "cell_type": "code",
   "execution_count": 260,
   "metadata": {},
   "outputs": [],
   "source": [
    "c1 = np.where(preds==0)\n",
    "c2 = np.where(preds==1)\n",
    "\n",
    "X_Test1 = np.take(confData[2], c1,axis=0)[0]\n",
    "y_Test1 = np.take(confData[3], c1,axis=0)[0]\n",
    "\n",
    "X_Test2 = np.take(confData[2], c2,axis=0)[0]\n",
    "y_Test2 = np.take(confData[3], c2,axis=0)[0]"
   ]
  },
  {
   "cell_type": "code",
   "execution_count": 265,
   "metadata": {},
   "outputs": [
    {
     "name": "stdout",
     "output_type": "stream",
     "text": [
      "25.40893752492217\n",
      "[0.3781115721255917, 0.6856370293533955, 25.40893752492217]\n"
     ]
    },
    {
     "data": {
      "image/png": "[encoded data removed]",
      "text/plain": [
       "<Figure size 432x288 with 1 Axes>"
      ]
     },
     "metadata": {
      "needs_background": "light"
     },
     "output_type": "display_data"
    },
    {
     "data": {
      "text/plain": [
       "<Figure size 504x504 with 0 Axes>"
      ]
     },
     "metadata": {},
     "output_type": "display_data"
    }
   ],
   "source": [
    "pca = PCA(n_components=25)\n",
    "rf = RandomForestRegressor(max_depth=60, min_samples_leaf=3, min_samples_split=8, n_estimators=250)\n",
    "\n",
    "pipe = Pipeline(steps = [\n",
    "    #('pca',pca), \n",
    "    ('rf', rf)])\n",
    "\n",
    "\n",
    "pipe.fit(X_Train1, y_Train1.flatten())\n",
    "\n",
    "preds1 = pipe.predict(X_Test1)\n",
    "\n",
    "r1 = [mean_absolute_error(preds1, y_Test1), r2_score(preds1, y_Test1), mean_absolute_percentage_error(preds1, y_Test1)]\n",
    "print(r1)\n",
    "\n",
    "plt.scatter(y_Test1,preds1)\n",
    "plt.figure(figsize=(7,7))\n",
    "plt.show()"
   ]
  },
  {
   "cell_type": "code",
   "execution_count": 266,
   "metadata": {},
   "outputs": [
    {
     "name": "stdout",
     "output_type": "stream",
     "text": [
      "25.995507966422473\n",
      "[0.37500976044211437, 0.7141289335346783, 25.995507966422473]\n"
     ]
    },
    {
     "data": {
      "image/png": "[encoded data removed]",
      "text/plain": [
       "<Figure size 432x288 with 1 Axes>"
      ]
     },
     "metadata": {
      "needs_background": "light"
     },
     "output_type": "display_data"
    },
    {
     "data": {
      "text/plain": [
       "<Figure size 504x504 with 0 Axes>"
      ]
     },
     "metadata": {},
     "output_type": "display_data"
    }
   ],
   "source": [
    "pca = PCA(n_components=25)\n",
    "rf = RandomForestRegressor(max_depth=60, min_samples_leaf=3, min_samples_split=8, n_estimators=250)\n",
    "\n",
    "pipe = Pipeline(steps = [('rf', rf)])\n",
    "\n",
    "pipe.fit(X_Train2, y_Train2.flatten())\n",
    "\n",
    "preds2 = pipe.predict(X_Test2)\n",
    "\n",
    "r2 = [mean_absolute_error(preds2, y_Test2), r2_score(preds2, y_Test2), mean_absolute_percentage_error(preds2, y_Test2)]\n",
    "\n",
    "print(r2)\n",
    "plt.scatter(y_Test2,preds2)\n",
    "plt.figure(figsize=(7,7))\n",
    "plt.show()"
   ]
  },
  {
   "cell_type": "code",
   "execution_count": 268,
   "metadata": {},
   "outputs": [
    {
     "ename": "TypeError",
     "evalue": "unsupported operand type(s) for /: 'list' and 'int'",
     "output_type": "error",
     "traceback": [
      "\u001b[0;31m---------------------------------------------------------------------------\u001b[0m",
      "\u001b[0;31mTypeError\u001b[0m                                 Traceback (most recent call last)",
      "\u001b[0;32m<ipython-input-268-bd0600bd6c08>\u001b[0m in \u001b[0;36m<module>\u001b[0;34m\u001b[0m\n\u001b[0;32m----> 1\u001b[0;31m \u001b[0mprint\u001b[0m\u001b[0;34m(\u001b[0m\u001b[0;34m\"Overall results for clustering + Regression : {}\"\u001b[0m\u001b[0;34m.\u001b[0m\u001b[0mformat\u001b[0m\u001b[0;34m(\u001b[0m\u001b[0;34m(\u001b[0m\u001b[0mr1\u001b[0m\u001b[0;34m+\u001b[0m\u001b[0mr2\u001b[0m\u001b[0;34m)\u001b[0m\u001b[0;34m/\u001b[0m\u001b[0;36m2\u001b[0m\u001b[0;34m)\u001b[0m\u001b[0;34m)\u001b[0m\u001b[0;34m\u001b[0m\u001b[0;34m\u001b[0m\u001b[0m\n\u001b[0m",
      "\u001b[0;31mTypeError\u001b[0m: unsupported operand type(s) for /: 'list' and 'int'"
     ]
    }
   ],
   "source": [
    "print(\"Overall results for clustering + Regression : {}\".format((r1+r2)/2))\n"
   ]
  },
  {
   "cell_type": "code",
   "execution_count": 275,
   "metadata": {},
   "outputs": [
    {
     "data": {
      "text/plain": [
       "array([ 0.37656067,  0.69988298, 25.70222275])"
      ]
     },
     "execution_count": 275,
     "metadata": {},
     "output_type": "execute_result"
    }
   ],
   "source": [
    "(np.array(r1) + np.array(r2))/2"
   ]
  },
  {
   "cell_type": "code",
   "execution_count": null,
   "metadata": {},
   "outputs": [],
   "source": []
  },
  {
   "cell_type": "markdown",
   "metadata": {},
   "source": [
    "# Classifier + RandomForest\n"
   ]
  },
  {
   "cell_type": "code",
   "execution_count": 278,
   "metadata": {},
   "outputs": [],
   "source": [
    "from sklearn import svm\n",
    "from sklearn.ensemble import RandomForestRegressor"
   ]
  },
  {
   "cell_type": "code",
   "execution_count": 279,
   "metadata": {},
   "outputs": [],
   "source": [
    "confData = dataBuilder.confs['data1']['conf5']\n",
    "s = 4.5"
   ]
  },
  {
   "cell_type": "code",
   "execution_count": 280,
   "metadata": {},
   "outputs": [],
   "source": [
    "classes = np.array([0 if speed< s else 1 for speed in confData[1]])\n",
    "cls1 = np.where(classes==0)\n",
    "cls2 = np.where(classes==1)\n",
    "\n",
    "X_Train1 = np.take(confData[0], cls1,axis=0)[0]\n",
    "y_Train1 = np.take(confData[1], cls1,axis=0)[0]\n",
    "\n",
    "X_Train2 = np.take(confData[0], cls2,axis=0)[0]\n",
    "y_Train2 = np.take(confData[1], cls2,axis=0)[0]"
   ]
  },
  {
   "cell_type": "code",
   "execution_count": 281,
   "metadata": {},
   "outputs": [],
   "source": [
    "clas = np.array([0 if speed< s else 1 for speed in confData[3]])\n",
    "\n",
    "c1 = np.where(clas==0)\n",
    "c2 = np.where(clas==1)\n",
    "\n",
    "X_Test1 = np.take(confData[2], c1,axis=0)[0]\n",
    "y_Test1 = np.take(confData[3], c1,axis=0)[0]\n",
    "\n",
    "X_Test2 = np.take(confData[2], c2,axis=0)[0]\n",
    "y_Test2 = np.take(confData[3], c2,axis=0)[0]"
   ]
  },
  {
   "cell_type": "code",
   "execution_count": 282,
   "metadata": {},
   "outputs": [
    {
     "data": {
      "text/plain": [
       "SVC()"
      ]
     },
     "execution_count": 282,
     "metadata": {},
     "output_type": "execute_result"
    }
   ],
   "source": [
    "clf = svm.SVC()\n",
    "clf.fit(confData[0],classes)"
   ]
  },
  {
   "cell_type": "code",
   "execution_count": 283,
   "metadata": {},
   "outputs": [
    {
     "data": {
      "text/plain": [
       "0.9051000645577792"
      ]
     },
     "execution_count": 283,
     "metadata": {},
     "output_type": "execute_result"
    }
   ],
   "source": [
    "from sklearn.metrics import accuracy_score\n",
    "accuracy_score(clf.predict(confData[2]), clas)"
   ]
  },
  {
   "cell_type": "code",
   "execution_count": 284,
   "metadata": {},
   "outputs": [
    {
     "name": "stdout",
     "output_type": "stream",
     "text": [
      "11.471917544429715\n",
      "[0.27431839581868395, -1.2920455958081165, 11.471917544429715]\n"
     ]
    },
    {
     "data": {
      "image/png": "[encoded data removed]",
      "text/plain": [
       "<Figure size 432x288 with 1 Axes>"
      ]
     },
     "metadata": {
      "needs_background": "light"
     },
     "output_type": "display_data"
    },
    {
     "data": {
      "text/plain": [
       "<Figure size 504x504 with 0 Axes>"
      ]
     },
     "metadata": {},
     "output_type": "display_data"
    }
   ],
   "source": [
    "pca = PCA(n_components=25)\n",
    "rf = RandomForestRegressor(max_depth=60, min_samples_leaf=3, min_samples_split=8, n_estimators=250)\n",
    "\n",
    "pipe = Pipeline(steps = [\n",
    "    ('pca',pca), \n",
    "    ('rf', rf)])\n",
    "\n",
    "\n",
    "pipe.fit(X_Train1, y_Train1.flatten())\n",
    "\n",
    "preds1 = pipe.predict(X_Test1)\n",
    "\n",
    "r1 = [mean_absolute_error(preds1, y_Test1), r2_score(preds1, y_Test1), mean_absolute_percentage_error(preds1, y_Test1)]\n",
    "\n",
    "print(r1)\n",
    "\n",
    "plt.scatter(y_Test1,preds1)\n",
    "plt.figure(figsize=(7,7))\n",
    "plt.show()"
   ]
  },
  {
   "cell_type": "code",
   "execution_count": 285,
   "metadata": {},
   "outputs": [
    {
     "name": "stdout",
     "output_type": "stream",
     "text": [
      "11.46296024516818\n",
      "[0.40275788650447686, -1.200023329450575, 11.46296024516818]\n"
     ]
    },
    {
     "data": {
      "image/png": "[encoded data removed]",
      "text/plain": [
       "<Figure size 432x288 with 1 Axes>"
      ]
     },
     "metadata": {
      "needs_background": "light"
     },
     "output_type": "display_data"
    },
    {
     "data": {
      "text/plain": [
       "<Figure size 504x504 with 0 Axes>"
      ]
     },
     "metadata": {},
     "output_type": "display_data"
    }
   ],
   "source": [
    "pca = PCA(n_components=25)\n",
    "rf = RandomForestRegressor(max_depth=60, min_samples_leaf=3, min_samples_split=8, n_estimators=250)\n",
    "\n",
    "pipe = Pipeline(steps = [('rf', rf)])\n",
    "\n",
    "pipe.fit(X_Train2, y_Train2.flatten())\n",
    "\n",
    "preds2 = pipe.predict(X_Test2)\n",
    "\n",
    "r2 = [mean_absolute_error(preds2, y_Test2), r2_score(preds2, y_Test2), mean_absolute_percentage_error(preds2, y_Test2)]\n",
    "print(r2)\n",
    "\n",
    "plt.scatter(y_Test2,preds2)\n",
    "plt.figure(figsize=(7,7))\n",
    "plt.show()"
   ]
  },
  {
   "cell_type": "code",
   "execution_count": 287,
   "metadata": {},
   "outputs": [
    {
     "name": "stdout",
     "output_type": "stream",
     "text": [
      "Overall results for clustering + Regression : [ 0.47569734 -1.89205726 17.20339767]\n"
     ]
    }
   ],
   "source": [
    "print(\"Overall results for clustering + Regression : {}\".format((np.array(r1)+np.array(r2)/2)))"
   ]
  },
  {
   "cell_type": "code",
   "execution_count": null,
   "metadata": {},
   "outputs": [],
   "source": []
  }
 ],
 "metadata": {
  "kernelspec": {
   "display_name": "pyHAI",
   "language": "python",
   "name": "pyhai"
  },
  "language_info": {
   "codemirror_mode": {
    "name": "ipython",
    "version": 3
   },
   "file_extension": ".py",
   "mimetype": "text/x-python",
   "name": "python",
   "nbconvert_exporter": "python",
   "pygments_lexer": "ipython3",
   "version": "3.6.10"
  }
 },
 "nbformat": 4,
 "nbformat_minor": 4
}
