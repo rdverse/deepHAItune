{
 "cells": [
  {
   "cell_type": "markdown",
   "metadata": {},
   "source": [
    "# Analyze the effect of classification on the speed data\n",
    "\n",
    "<b>Intuition :</b> Literature in speed detection suggests that usage of hybrid models increases precision of the model. But these classifications are made strictly between slower and faster speeds or walking and runnning speeds. So we first test the effectiveness of classifier to split the speeds between slower and higher speeds. Then we try to see if there is any improvement in the precision in speed detection using the classifier with the highest accuracy. NOte: The regression algorithm used here will be RandomForest as the best regression model was found to be random forests. "
   ]
  },
  {
   "cell_type": "markdown",
   "metadata": {},
   "source": [
    "## To Dos\n",
    "### First get the data from all configs\n",
    "### Run a double grid search on the classifiers, i.e., \n",
    " 1) data \n",
    " 2) config\n",
    " 3) speed to split\n",
    " 4) grid search"
   ]
  },
  {
   "cell_type": "code",
   "execution_count": 16,
   "metadata": {},
   "outputs": [],
   "source": [
    "from DataBuilder import DataBuilder\n",
    "import skSVM\n",
    "import skRandomForestClassifier\n",
    "import ClassEvaluator\n",
    "import numpy as np\n",
    "import importlib,sys "
   ]
  },
  {
   "cell_type": "code",
   "execution_count": 17,
   "metadata": {},
   "outputs": [],
   "source": [
    "def rel(name):\n",
    "    importlib.reload(sys.modules[name])"
   ]
  },
  {
   "cell_type": "code",
   "execution_count": 18,
   "metadata": {},
   "outputs": [
    {
     "name": "stderr",
     "output_type": "stream",
     "text": [
      "100%|██████████| 3/3 [00:29<00:00,  9.82s/it]\n"
     ]
    }
   ],
   "source": [
    "dataBuilder = DataBuilder()"
   ]
  },
  {
   "cell_type": "code",
   "execution_count": 19,
   "metadata": {},
   "outputs": [],
   "source": [
    "splits = [4.5,5.5]#np.arange(4,7)\n"
   ]
  },
  {
   "cell_type": "markdown",
   "metadata": {},
   "source": [
    "## SVM CLASSIFIER"
   ]
  },
  {
   "cell_type": "code",
   "execution_count": 15,
   "metadata": {},
   "outputs": [
    {
     "name": "stderr",
     "output_type": "stream",
     "text": [
      "[Parallel(n_jobs=-1)]: Using backend LokyBackend with 16 concurrent workers.\n"
     ]
    },
    {
     "name": "stdout",
     "output_type": "stream",
     "text": [
      "(3613, 150)\n",
      "Shape of the input Data is (3613, 150)\n",
      "Fitting 3 folds for each of 216 candidates, totalling 648 fits\n"
     ]
    },
    {
     "name": "stderr",
     "output_type": "stream",
     "text": [
      "[Parallel(n_jobs=-1)]: Done 160 tasks      | elapsed:    2.3s\n",
      "[Parallel(n_jobs=-1)]: Done 480 tasks      | elapsed:    7.6s\n",
      "[Parallel(n_jobs=-1)]: Done 648 out of 648 | elapsed:   10.9s finished\n"
     ]
    },
    {
     "name": "stdout",
     "output_type": "stream",
     "text": [
      "[LibSVM]"
     ]
    },
    {
     "name": "stderr",
     "output_type": "stream",
     "text": [
      "/home/redev/anaconda3/envs/pyHAI/lib/python3.6/site-packages/sklearn/svm/_base.py:249: ConvergenceWarning: Solver terminated early (max_iter=3000).  Consider pre-processing your data with StandardScaler or MinMaxScaler.\n",
      "  % self.max_iter, ConvergenceWarning)\n",
      "[Parallel(n_jobs=-1)]: Using backend LokyBackend with 16 concurrent workers.\n"
     ]
    },
    {
     "name": "stdout",
     "output_type": "stream",
     "text": [
      "Results/SVM.csv\n",
      "0.9489993544222078\n",
      "(3613, 150)\n",
      "Shape of the input Data is (3613, 150)\n",
      "Fitting 3 folds for each of 216 candidates, totalling 648 fits\n"
     ]
    },
    {
     "name": "stderr",
     "output_type": "stream",
     "text": [
      "[Parallel(n_jobs=-1)]: Done 160 tasks      | elapsed:    2.4s\n",
      "[Parallel(n_jobs=-1)]: Done 480 tasks      | elapsed:    7.8s\n",
      "[Parallel(n_jobs=-1)]: Done 648 out of 648 | elapsed:   11.2s finished\n"
     ]
    },
    {
     "name": "stdout",
     "output_type": "stream",
     "text": [
      "[LibSVM]"
     ]
    },
    {
     "name": "stderr",
     "output_type": "stream",
     "text": [
      "/home/redev/anaconda3/envs/pyHAI/lib/python3.6/site-packages/sklearn/svm/_base.py:249: ConvergenceWarning: Solver terminated early (max_iter=3000).  Consider pre-processing your data with StandardScaler or MinMaxScaler.\n",
      "  % self.max_iter, ConvergenceWarning)\n",
      "[Parallel(n_jobs=-1)]: Using backend LokyBackend with 16 concurrent workers.\n"
     ]
    },
    {
     "name": "stdout",
     "output_type": "stream",
     "text": [
      "Results/SVM.csv\n",
      "0.8670109748224661\n",
      "(3613, 150)\n",
      "Shape of the input Data is (3613, 150)\n",
      "Fitting 3 folds for each of 216 candidates, totalling 648 fits\n"
     ]
    },
    {
     "name": "stderr",
     "output_type": "stream",
     "text": [
      "[Parallel(n_jobs=-1)]: Done 160 tasks      | elapsed:    1.8s\n",
      "[Parallel(n_jobs=-1)]: Done 480 tasks      | elapsed:    5.7s\n",
      "[Parallel(n_jobs=-1)]: Done 648 out of 648 | elapsed:    8.7s finished\n"
     ]
    },
    {
     "name": "stdout",
     "output_type": "stream",
     "text": [
      "[LibSVM]Results/SVM.csv\n",
      "0.9335054874112331\n",
      "(3613, 150)\n",
      "Shape of the input Data is (3613, 150)\n",
      "Fitting 3 folds for each of 216 candidates, totalling 648 fits\n"
     ]
    },
    {
     "name": "stderr",
     "output_type": "stream",
     "text": [
      "/home/redev/anaconda3/envs/pyHAI/lib/python3.6/site-packages/sklearn/svm/_base.py:249: ConvergenceWarning: Solver terminated early (max_iter=3000).  Consider pre-processing your data with StandardScaler or MinMaxScaler.\n",
      "  % self.max_iter, ConvergenceWarning)\n",
      "[Parallel(n_jobs=-1)]: Using backend LokyBackend with 16 concurrent workers.\n",
      "[Parallel(n_jobs=-1)]: Done 160 tasks      | elapsed:    2.6s\n",
      "[Parallel(n_jobs=-1)]: Done 480 tasks      | elapsed:    8.6s\n",
      "[Parallel(n_jobs=-1)]: Done 648 out of 648 | elapsed:   12.3s finished\n"
     ]
    },
    {
     "name": "stdout",
     "output_type": "stream",
     "text": [
      "[LibSVM]"
     ]
    },
    {
     "name": "stderr",
     "output_type": "stream",
     "text": [
      "/home/redev/anaconda3/envs/pyHAI/lib/python3.6/site-packages/sklearn/svm/_base.py:249: ConvergenceWarning: Solver terminated early (max_iter=3000).  Consider pre-processing your data with StandardScaler or MinMaxScaler.\n",
      "  % self.max_iter, ConvergenceWarning)\n",
      "[Parallel(n_jobs=-1)]: Using backend LokyBackend with 16 concurrent workers.\n"
     ]
    },
    {
     "name": "stdout",
     "output_type": "stream",
     "text": [
      "Results/SVM.csv\n",
      "0.9289864428663654\n",
      "(3613, 150)\n",
      "Shape of the input Data is (3613, 150)\n",
      "Fitting 3 folds for each of 216 candidates, totalling 648 fits\n"
     ]
    },
    {
     "name": "stderr",
     "output_type": "stream",
     "text": [
      "[Parallel(n_jobs=-1)]: Done 160 tasks      | elapsed:    2.5s\n",
      "[Parallel(n_jobs=-1)]: Done 480 tasks      | elapsed:    8.1s\n",
      "[Parallel(n_jobs=-1)]: Done 648 out of 648 | elapsed:   11.7s finished\n"
     ]
    },
    {
     "name": "stdout",
     "output_type": "stream",
     "text": [
      "[LibSVM]"
     ]
    },
    {
     "name": "stderr",
     "output_type": "stream",
     "text": [
      "/home/redev/anaconda3/envs/pyHAI/lib/python3.6/site-packages/sklearn/svm/_base.py:249: ConvergenceWarning: Solver terminated early (max_iter=3000).  Consider pre-processing your data with StandardScaler or MinMaxScaler.\n",
      "  % self.max_iter, ConvergenceWarning)\n",
      "[Parallel(n_jobs=-1)]: Using backend LokyBackend with 16 concurrent workers.\n"
     ]
    },
    {
     "name": "stdout",
     "output_type": "stream",
     "text": [
      "Results/SVM.csv\n",
      "0.8185926404131698\n",
      "(3613, 150)\n",
      "Shape of the input Data is (3613, 150)\n",
      "Fitting 3 folds for each of 216 candidates, totalling 648 fits\n"
     ]
    },
    {
     "name": "stderr",
     "output_type": "stream",
     "text": [
      "[Parallel(n_jobs=-1)]: Done 160 tasks      | elapsed:    1.8s\n",
      "[Parallel(n_jobs=-1)]: Done 480 tasks      | elapsed:    5.7s\n",
      "[Parallel(n_jobs=-1)]: Done 617 out of 648 | elapsed:    7.9s remaining:    0.4s\n",
      "[Parallel(n_jobs=-1)]: Done 648 out of 648 | elapsed:    8.7s finished\n"
     ]
    },
    {
     "name": "stdout",
     "output_type": "stream",
     "text": [
      "[LibSVM]"
     ]
    },
    {
     "name": "stderr",
     "output_type": "stream",
     "text": [
      "/home/redev/anaconda3/envs/pyHAI/lib/python3.6/site-packages/sklearn/svm/_base.py:249: ConvergenceWarning: Solver terminated early (max_iter=3000).  Consider pre-processing your data with StandardScaler or MinMaxScaler.\n",
      "  % self.max_iter, ConvergenceWarning)\n",
      "[Parallel(n_jobs=-1)]: Using backend LokyBackend with 16 concurrent workers.\n"
     ]
    },
    {
     "name": "stdout",
     "output_type": "stream",
     "text": [
      "Results/SVM.csv\n",
      "0.907036797934151\n",
      "(7351, 50)\n",
      "Shape of the input Data is (7351, 50)\n",
      "Fitting 3 folds for each of 216 candidates, totalling 648 fits\n"
     ]
    },
    {
     "name": "stderr",
     "output_type": "stream",
     "text": [
      "[Parallel(n_jobs=-1)]: Done  96 tasks      | elapsed:    4.4s\n",
      "[Parallel(n_jobs=-1)]: Done 256 tasks      | elapsed:   10.1s\n",
      "[Parallel(n_jobs=-1)]: Done 480 tasks      | elapsed:   23.2s\n",
      "[Parallel(n_jobs=-1)]: Done 648 out of 648 | elapsed:   33.6s finished\n"
     ]
    },
    {
     "name": "stdout",
     "output_type": "stream",
     "text": [
      "[LibSVM]"
     ]
    },
    {
     "name": "stderr",
     "output_type": "stream",
     "text": [
      "/home/redev/anaconda3/envs/pyHAI/lib/python3.6/site-packages/sklearn/svm/_base.py:249: ConvergenceWarning: Solver terminated early (max_iter=3000).  Consider pre-processing your data with StandardScaler or MinMaxScaler.\n",
      "  % self.max_iter, ConvergenceWarning)\n",
      "[Parallel(n_jobs=-1)]: Using backend LokyBackend with 16 concurrent workers.\n"
     ]
    },
    {
     "name": "stdout",
     "output_type": "stream",
     "text": [
      "Results/SVM.csv\n",
      "0.9495398286258331\n",
      "(7351, 50)\n",
      "Shape of the input Data is (7351, 50)\n",
      "Fitting 3 folds for each of 216 candidates, totalling 648 fits\n"
     ]
    },
    {
     "name": "stderr",
     "output_type": "stream",
     "text": [
      "[Parallel(n_jobs=-1)]: Done  96 tasks      | elapsed:    4.9s\n",
      "[Parallel(n_jobs=-1)]: Done 256 tasks      | elapsed:   11.5s\n",
      "[Parallel(n_jobs=-1)]: Done 480 tasks      | elapsed:   25.8s\n",
      "[Parallel(n_jobs=-1)]: Done 648 out of 648 | elapsed:   37.7s finished\n"
     ]
    },
    {
     "name": "stdout",
     "output_type": "stream",
     "text": [
      "[LibSVM]"
     ]
    },
    {
     "name": "stderr",
     "output_type": "stream",
     "text": [
      "/home/redev/anaconda3/envs/pyHAI/lib/python3.6/site-packages/sklearn/svm/_base.py:249: ConvergenceWarning: Solver terminated early (max_iter=3000).  Consider pre-processing your data with StandardScaler or MinMaxScaler.\n",
      "  % self.max_iter, ConvergenceWarning)\n"
     ]
    },
    {
     "name": "stdout",
     "output_type": "stream",
     "text": [
      "Results/SVM.csv\n",
      "0.8867026340844176\n",
      "(7351, 50)\n",
      "Shape of the input Data is (7351, 50)\n",
      "Fitting 3 folds for each of 216 candidates, totalling 648 fits\n"
     ]
    },
    {
     "name": "stderr",
     "output_type": "stream",
     "text": [
      "[Parallel(n_jobs=-1)]: Using backend LokyBackend with 16 concurrent workers.\n",
      "[Parallel(n_jobs=-1)]: Done 160 tasks      | elapsed:    3.7s\n",
      "[Parallel(n_jobs=-1)]: Done 462 tasks      | elapsed:   12.4s\n",
      "[Parallel(n_jobs=-1)]: Done 648 out of 648 | elapsed:   20.4s finished\n"
     ]
    },
    {
     "name": "stdout",
     "output_type": "stream",
     "text": [
      "[LibSVM]"
     ]
    },
    {
     "name": "stderr",
     "output_type": "stream",
     "text": [
      "/home/redev/anaconda3/envs/pyHAI/lib/python3.6/site-packages/sklearn/svm/_base.py:249: ConvergenceWarning: Solver terminated early (max_iter=3000).  Consider pre-processing your data with StandardScaler or MinMaxScaler.\n",
      "  % self.max_iter, ConvergenceWarning)\n"
     ]
    },
    {
     "name": "stdout",
     "output_type": "stream",
     "text": [
      "Results/SVM.csv\n",
      "0.9470009520787052\n",
      "(7351, 50)\n",
      "Shape of the input Data is (7351, 50)\n",
      "Fitting 3 folds for each of 216 candidates, totalling 648 fits\n"
     ]
    },
    {
     "name": "stderr",
     "output_type": "stream",
     "text": [
      "[Parallel(n_jobs=-1)]: Using backend LokyBackend with 16 concurrent workers.\n",
      "[Parallel(n_jobs=-1)]: Done  96 tasks      | elapsed:    4.8s\n",
      "[Parallel(n_jobs=-1)]: Done 256 tasks      | elapsed:   11.4s\n",
      "[Parallel(n_jobs=-1)]: Done 480 tasks      | elapsed:   25.7s\n",
      "[Parallel(n_jobs=-1)]: Done 648 out of 648 | elapsed:   37.2s finished\n"
     ]
    },
    {
     "name": "stdout",
     "output_type": "stream",
     "text": [
      "[LibSVM]"
     ]
    },
    {
     "name": "stderr",
     "output_type": "stream",
     "text": [
      "/home/redev/anaconda3/envs/pyHAI/lib/python3.6/site-packages/sklearn/svm/_base.py:249: ConvergenceWarning: Solver terminated early (max_iter=3000).  Consider pre-processing your data with StandardScaler or MinMaxScaler.\n",
      "  % self.max_iter, ConvergenceWarning)\n"
     ]
    },
    {
     "name": "stdout",
     "output_type": "stream",
     "text": [
      "Results/SVM.csv\n",
      "0.9133608378292606\n",
      "(7351, 50)\n",
      "Shape of the input Data is (7351, 50)\n",
      "Fitting 3 folds for each of 216 candidates, totalling 648 fits\n"
     ]
    },
    {
     "name": "stderr",
     "output_type": "stream",
     "text": [
      "[Parallel(n_jobs=-1)]: Using backend LokyBackend with 16 concurrent workers.\n",
      "[Parallel(n_jobs=-1)]: Done  96 tasks      | elapsed:    5.1s\n",
      "[Parallel(n_jobs=-1)]: Done 256 tasks      | elapsed:   12.0s\n",
      "[Parallel(n_jobs=-1)]: Done 480 tasks      | elapsed:   26.7s\n",
      "[Parallel(n_jobs=-1)]: Done 648 out of 648 | elapsed:   38.9s finished\n"
     ]
    },
    {
     "name": "stdout",
     "output_type": "stream",
     "text": [
      "[LibSVM]"
     ]
    },
    {
     "name": "stderr",
     "output_type": "stream",
     "text": [
      "/home/redev/anaconda3/envs/pyHAI/lib/python3.6/site-packages/sklearn/svm/_base.py:249: ConvergenceWarning: Solver terminated early (max_iter=3000).  Consider pre-processing your data with StandardScaler or MinMaxScaler.\n",
      "  % self.max_iter, ConvergenceWarning)\n"
     ]
    },
    {
     "name": "stdout",
     "output_type": "stream",
     "text": [
      "Results/SVM.csv\n",
      "0.8511583624246271\n",
      "(7351, 50)\n",
      "Shape of the input Data is (7351, 50)\n",
      "Fitting 3 folds for each of 216 candidates, totalling 648 fits\n"
     ]
    },
    {
     "name": "stderr",
     "output_type": "stream",
     "text": [
      "[Parallel(n_jobs=-1)]: Using backend LokyBackend with 16 concurrent workers.\n",
      "[Parallel(n_jobs=-1)]: Done 160 tasks      | elapsed:    3.6s\n",
      "[Parallel(n_jobs=-1)]: Done 462 tasks      | elapsed:   12.3s\n",
      "[Parallel(n_jobs=-1)]: Done 648 out of 648 | elapsed:   20.5s finished\n"
     ]
    },
    {
     "name": "stdout",
     "output_type": "stream",
     "text": [
      "[LibSVM]"
     ]
    },
    {
     "name": "stderr",
     "output_type": "stream",
     "text": [
      "/home/redev/anaconda3/envs/pyHAI/lib/python3.6/site-packages/sklearn/svm/_base.py:249: ConvergenceWarning: Solver terminated early (max_iter=3000).  Consider pre-processing your data with StandardScaler or MinMaxScaler.\n",
      "  % self.max_iter, ConvergenceWarning)\n"
     ]
    },
    {
     "name": "stdout",
     "output_type": "stream",
     "text": [
      "Results/SVM.csv\n",
      "0.9339892097746747\n",
      "(3613, 300)\n",
      "Shape of the input Data is (3613, 300)\n",
      "Fitting 3 folds for each of 216 candidates, totalling 648 fits\n"
     ]
    },
    {
     "name": "stderr",
     "output_type": "stream",
     "text": [
      "[Parallel(n_jobs=-1)]: Using backend LokyBackend with 16 concurrent workers.\n",
      "[Parallel(n_jobs=-1)]: Done  96 tasks      | elapsed:    2.6s\n",
      "[Parallel(n_jobs=-1)]: Done 256 tasks      | elapsed:    6.3s\n",
      "[Parallel(n_jobs=-1)]: Done 480 tasks      | elapsed:   12.6s\n",
      "[Parallel(n_jobs=-1)]: Done 648 out of 648 | elapsed:   17.7s finished\n"
     ]
    },
    {
     "name": "stdout",
     "output_type": "stream",
     "text": [
      "[LibSVM]Results/SVM.csv\n",
      "0.94770819883796\n",
      "(3613, 300)\n",
      "Shape of the input Data is (3613, 300)\n",
      "Fitting 3 folds for each of 216 candidates, totalling 648 fits\n"
     ]
    },
    {
     "name": "stderr",
     "output_type": "stream",
     "text": [
      "/home/redev/anaconda3/envs/pyHAI/lib/python3.6/site-packages/sklearn/svm/_base.py:249: ConvergenceWarning: Solver terminated early (max_iter=3000).  Consider pre-processing your data with StandardScaler or MinMaxScaler.\n",
      "  % self.max_iter, ConvergenceWarning)\n",
      "[Parallel(n_jobs=-1)]: Using backend LokyBackend with 16 concurrent workers.\n",
      "[Parallel(n_jobs=-1)]: Done  96 tasks      | elapsed:    2.5s\n",
      "[Parallel(n_jobs=-1)]: Done 256 tasks      | elapsed:    6.2s\n",
      "[Parallel(n_jobs=-1)]: Done 480 tasks      | elapsed:   12.7s\n",
      "[Parallel(n_jobs=-1)]: Done 648 out of 648 | elapsed:   17.7s finished\n"
     ]
    },
    {
     "name": "stdout",
     "output_type": "stream",
     "text": [
      "[LibSVM]"
     ]
    },
    {
     "name": "stderr",
     "output_type": "stream",
     "text": [
      "/home/redev/anaconda3/envs/pyHAI/lib/python3.6/site-packages/sklearn/svm/_base.py:249: ConvergenceWarning: Solver terminated early (max_iter=3000).  Consider pre-processing your data with StandardScaler or MinMaxScaler.\n",
      "  % self.max_iter, ConvergenceWarning)\n",
      "[Parallel(n_jobs=-1)]: Using backend LokyBackend with 16 concurrent workers.\n"
     ]
    },
    {
     "name": "stdout",
     "output_type": "stream",
     "text": [
      "Results/SVM.csv\n",
      "0.8670109748224661\n",
      "(3613, 300)\n",
      "Shape of the input Data is (3613, 300)\n",
      "Fitting 3 folds for each of 216 candidates, totalling 648 fits\n"
     ]
    },
    {
     "name": "stderr",
     "output_type": "stream",
     "text": [
      "[Parallel(n_jobs=-1)]: Done  96 tasks      | elapsed:    2.6s\n",
      "[Parallel(n_jobs=-1)]: Done 256 tasks      | elapsed:    6.3s\n",
      "[Parallel(n_jobs=-1)]: Done 480 tasks      | elapsed:   12.1s\n",
      "[Parallel(n_jobs=-1)]: Done 648 out of 648 | elapsed:   17.0s finished\n"
     ]
    },
    {
     "name": "stdout",
     "output_type": "stream",
     "text": [
      "[LibSVM]Results/SVM.csv\n",
      "0.9406068431245965\n",
      "(7351, 100)\n",
      "Shape of the input Data is (7351, 100)\n",
      "Fitting 3 folds for each of 216 candidates, totalling 648 fits\n"
     ]
    },
    {
     "name": "stderr",
     "output_type": "stream",
     "text": [
      "/home/redev/anaconda3/envs/pyHAI/lib/python3.6/site-packages/sklearn/svm/_base.py:249: ConvergenceWarning: Solver terminated early (max_iter=3000).  Consider pre-processing your data with StandardScaler or MinMaxScaler.\n",
      "  % self.max_iter, ConvergenceWarning)\n",
      "[Parallel(n_jobs=-1)]: Using backend LokyBackend with 16 concurrent workers.\n",
      "[Parallel(n_jobs=-1)]: Done  96 tasks      | elapsed:    4.8s\n",
      "[Parallel(n_jobs=-1)]: Done 256 tasks      | elapsed:   11.3s\n",
      "[Parallel(n_jobs=-1)]: Done 480 tasks      | elapsed:   25.6s\n",
      "[Parallel(n_jobs=-1)]: Done 648 out of 648 | elapsed:   37.0s finished\n"
     ]
    },
    {
     "name": "stdout",
     "output_type": "stream",
     "text": [
      "[LibSVM]"
     ]
    },
    {
     "name": "stderr",
     "output_type": "stream",
     "text": [
      "/home/redev/anaconda3/envs/pyHAI/lib/python3.6/site-packages/sklearn/svm/_base.py:249: ConvergenceWarning: Solver terminated early (max_iter=3000).  Consider pre-processing your data with StandardScaler or MinMaxScaler.\n",
      "  % self.max_iter, ConvergenceWarning)\n"
     ]
    },
    {
     "name": "stdout",
     "output_type": "stream",
     "text": [
      "Results/SVM.csv\n",
      "0.9409711202792764\n",
      "(7351, 100)\n",
      "Shape of the input Data is (7351, 100)\n",
      "Fitting 3 folds for each of 216 candidates, totalling 648 fits\n"
     ]
    },
    {
     "name": "stderr",
     "output_type": "stream",
     "text": [
      "[Parallel(n_jobs=-1)]: Using backend LokyBackend with 16 concurrent workers.\n",
      "[Parallel(n_jobs=-1)]: Done  96 tasks      | elapsed:    5.4s\n",
      "[Parallel(n_jobs=-1)]: Done 256 tasks      | elapsed:   12.6s\n",
      "[Parallel(n_jobs=-1)]: Done 480 tasks      | elapsed:   27.4s\n",
      "[Parallel(n_jobs=-1)]: Done 648 out of 648 | elapsed:   39.5s finished\n"
     ]
    },
    {
     "name": "stdout",
     "output_type": "stream",
     "text": [
      "[LibSVM]"
     ]
    },
    {
     "name": "stderr",
     "output_type": "stream",
     "text": [
      "/home/redev/anaconda3/envs/pyHAI/lib/python3.6/site-packages/sklearn/svm/_base.py:249: ConvergenceWarning: Solver terminated early (max_iter=3000).  Consider pre-processing your data with StandardScaler or MinMaxScaler.\n",
      "  % self.max_iter, ConvergenceWarning)\n"
     ]
    },
    {
     "name": "stdout",
     "output_type": "stream",
     "text": [
      "Results/SVM.csv\n",
      "0.8762297683275151\n",
      "(7351, 100)\n",
      "Shape of the input Data is (7351, 100)\n",
      "Fitting 3 folds for each of 216 candidates, totalling 648 fits\n"
     ]
    },
    {
     "name": "stderr",
     "output_type": "stream",
     "text": [
      "[Parallel(n_jobs=-1)]: Using backend LokyBackend with 16 concurrent workers.\n",
      "[Parallel(n_jobs=-1)]: Done  96 tasks      | elapsed:    2.3s\n",
      "[Parallel(n_jobs=-1)]: Done 256 tasks      | elapsed:    6.8s\n",
      "[Parallel(n_jobs=-1)]: Done 480 tasks      | elapsed:   14.8s\n",
      "[Parallel(n_jobs=-1)]: Done 648 out of 648 | elapsed:   22.8s finished\n"
     ]
    },
    {
     "name": "stdout",
     "output_type": "stream",
     "text": [
      "[LibSVM]"
     ]
    },
    {
     "name": "stderr",
     "output_type": "stream",
     "text": [
      "/home/redev/anaconda3/envs/pyHAI/lib/python3.6/site-packages/sklearn/svm/_base.py:249: ConvergenceWarning: Solver terminated early (max_iter=3000).  Consider pre-processing your data with StandardScaler or MinMaxScaler.\n",
      "  % self.max_iter, ConvergenceWarning)\n"
     ]
    },
    {
     "name": "stdout",
     "output_type": "stream",
     "text": [
      "Results/SVM.csv\n",
      "0.9336718502062837\n",
      "(1744, 300)\n",
      "Shape of the input Data is (1744, 300)\n",
      "Fitting 3 folds for each of 216 candidates, totalling 648 fits\n"
     ]
    },
    {
     "name": "stderr",
     "output_type": "stream",
     "text": [
      "[Parallel(n_jobs=-1)]: Using backend LokyBackend with 16 concurrent workers.\n",
      "[Parallel(n_jobs=-1)]: Done 160 tasks      | elapsed:    1.4s\n",
      "[Parallel(n_jobs=-1)]: Done 480 tasks      | elapsed:    4.2s\n",
      "[Parallel(n_jobs=-1)]: Done 648 out of 648 | elapsed:    5.9s finished\n",
      "/home/redev/anaconda3/envs/pyHAI/lib/python3.6/site-packages/sklearn/svm/_base.py:249: ConvergenceWarning: Solver terminated early (max_iter=3000).  Consider pre-processing your data with StandardScaler or MinMaxScaler.\n",
      "  % self.max_iter, ConvergenceWarning)\n",
      "[Parallel(n_jobs=-1)]: Using backend LokyBackend with 16 concurrent workers.\n"
     ]
    },
    {
     "name": "stdout",
     "output_type": "stream",
     "text": [
      "[LibSVM]Results/SVM.csv\n",
      "0.946524064171123\n",
      "(1744, 300)\n",
      "Shape of the input Data is (1744, 300)\n",
      "Fitting 3 folds for each of 216 candidates, totalling 648 fits\n"
     ]
    },
    {
     "name": "stderr",
     "output_type": "stream",
     "text": [
      "[Parallel(n_jobs=-1)]: Done 160 tasks      | elapsed:    1.3s\n",
      "[Parallel(n_jobs=-1)]: Done 480 tasks      | elapsed:    4.1s\n",
      "[Parallel(n_jobs=-1)]: Done 648 out of 648 | elapsed:    5.8s finished\n",
      "/home/redev/anaconda3/envs/pyHAI/lib/python3.6/site-packages/sklearn/svm/_base.py:249: ConvergenceWarning: Solver terminated early (max_iter=3000).  Consider pre-processing your data with StandardScaler or MinMaxScaler.\n",
      "  % self.max_iter, ConvergenceWarning)\n",
      "[Parallel(n_jobs=-1)]: Using backend LokyBackend with 16 concurrent workers.\n"
     ]
    },
    {
     "name": "stdout",
     "output_type": "stream",
     "text": [
      "[LibSVM]Results/SVM.csv\n",
      "0.8609625668449198\n",
      "(1744, 300)\n",
      "Shape of the input Data is (1744, 300)\n",
      "Fitting 3 folds for each of 216 candidates, totalling 648 fits\n"
     ]
    },
    {
     "name": "stderr",
     "output_type": "stream",
     "text": [
      "[Parallel(n_jobs=-1)]: Done 160 tasks      | elapsed:    1.5s\n",
      "[Parallel(n_jobs=-1)]: Done 480 tasks      | elapsed:    4.3s\n",
      "[Parallel(n_jobs=-1)]: Done 648 out of 648 | elapsed:    6.0s finished\n",
      "/home/redev/anaconda3/envs/pyHAI/lib/python3.6/site-packages/sklearn/svm/_base.py:249: ConvergenceWarning: Solver terminated early (max_iter=3000).  Consider pre-processing your data with StandardScaler or MinMaxScaler.\n",
      "  % self.max_iter, ConvergenceWarning)\n",
      "[Parallel(n_jobs=-1)]: Using backend LokyBackend with 16 concurrent workers.\n"
     ]
    },
    {
     "name": "stdout",
     "output_type": "stream",
     "text": [
      "[LibSVM]Results/SVM.csv\n",
      "0.9438502673796791\n",
      "(1744, 300)\n",
      "Shape of the input Data is (1744, 300)\n",
      "Fitting 3 folds for each of 216 candidates, totalling 648 fits\n"
     ]
    },
    {
     "name": "stderr",
     "output_type": "stream",
     "text": [
      "[Parallel(n_jobs=-1)]: Done 160 tasks      | elapsed:    1.3s\n",
      "[Parallel(n_jobs=-1)]: Done 480 tasks      | elapsed:    4.1s\n",
      "[Parallel(n_jobs=-1)]: Done 617 out of 648 | elapsed:    5.6s remaining:    0.3s\n",
      "[Parallel(n_jobs=-1)]: Done 648 out of 648 | elapsed:    5.8s finished\n",
      "/home/redev/anaconda3/envs/pyHAI/lib/python3.6/site-packages/sklearn/svm/_base.py:249: ConvergenceWarning: Solver terminated early (max_iter=3000).  Consider pre-processing your data with StandardScaler or MinMaxScaler.\n",
      "  % self.max_iter, ConvergenceWarning)\n",
      "[Parallel(n_jobs=-1)]: Using backend LokyBackend with 16 concurrent workers.\n"
     ]
    },
    {
     "name": "stdout",
     "output_type": "stream",
     "text": [
      "[LibSVM]Results/SVM.csv\n",
      "0.9264705882352942\n",
      "(1744, 300)\n",
      "Shape of the input Data is (1744, 300)\n",
      "Fitting 3 folds for each of 216 candidates, totalling 648 fits\n"
     ]
    },
    {
     "name": "stderr",
     "output_type": "stream",
     "text": [
      "[Parallel(n_jobs=-1)]: Done 160 tasks      | elapsed:    1.3s\n",
      "[Parallel(n_jobs=-1)]: Done 480 tasks      | elapsed:    4.1s\n",
      "[Parallel(n_jobs=-1)]: Done 648 out of 648 | elapsed:    5.8s finished\n",
      "/home/redev/anaconda3/envs/pyHAI/lib/python3.6/site-packages/sklearn/svm/_base.py:249: ConvergenceWarning: Solver terminated early (max_iter=3000).  Consider pre-processing your data with StandardScaler or MinMaxScaler.\n",
      "  % self.max_iter, ConvergenceWarning)\n"
     ]
    },
    {
     "name": "stdout",
     "output_type": "stream",
     "text": [
      "[LibSVM]Results/SVM.csv\n",
      "0.8328877005347594\n",
      "(1744, 300)\n",
      "Shape of the input Data is (1744, 300)\n",
      "Fitting 3 folds for each of 216 candidates, totalling 648 fits\n"
     ]
    },
    {
     "name": "stderr",
     "output_type": "stream",
     "text": [
      "[Parallel(n_jobs=-1)]: Using backend LokyBackend with 16 concurrent workers.\n",
      "[Parallel(n_jobs=-1)]: Done 160 tasks      | elapsed:    1.4s\n",
      "[Parallel(n_jobs=-1)]: Done 480 tasks      | elapsed:    4.3s\n",
      "[Parallel(n_jobs=-1)]: Done 648 out of 648 | elapsed:    5.9s finished\n",
      "/home/redev/anaconda3/envs/pyHAI/lib/python3.6/site-packages/sklearn/svm/_base.py:249: ConvergenceWarning: Solver terminated early (max_iter=3000).  Consider pre-processing your data with StandardScaler or MinMaxScaler.\n",
      "  % self.max_iter, ConvergenceWarning)\n",
      "[Parallel(n_jobs=-1)]: Using backend LokyBackend with 16 concurrent workers.\n"
     ]
    },
    {
     "name": "stdout",
     "output_type": "stream",
     "text": [
      "[LibSVM]Results/SVM.csv\n",
      "0.910427807486631\n",
      "(7351, 50)\n",
      "Shape of the input Data is (7351, 50)\n",
      "Fitting 3 folds for each of 216 candidates, totalling 648 fits\n"
     ]
    },
    {
     "name": "stderr",
     "output_type": "stream",
     "text": [
      "[Parallel(n_jobs=-1)]: Done  96 tasks      | elapsed:    4.4s\n",
      "[Parallel(n_jobs=-1)]: Done 256 tasks      | elapsed:   10.0s\n",
      "[Parallel(n_jobs=-1)]: Done 480 tasks      | elapsed:   23.1s\n",
      "[Parallel(n_jobs=-1)]: Done 648 out of 648 | elapsed:   33.4s finished\n"
     ]
    },
    {
     "name": "stdout",
     "output_type": "stream",
     "text": [
      "[LibSVM]"
     ]
    },
    {
     "name": "stderr",
     "output_type": "stream",
     "text": [
      "/home/redev/anaconda3/envs/pyHAI/lib/python3.6/site-packages/sklearn/svm/_base.py:249: ConvergenceWarning: Solver terminated early (max_iter=3000).  Consider pre-processing your data with StandardScaler or MinMaxScaler.\n",
      "  % self.max_iter, ConvergenceWarning)\n",
      "[Parallel(n_jobs=-1)]: Using backend LokyBackend with 16 concurrent workers.\n"
     ]
    },
    {
     "name": "stdout",
     "output_type": "stream",
     "text": [
      "Results/SVM.csv\n",
      "0.9495398286258331\n",
      "(7351, 50)\n",
      "Shape of the input Data is (7351, 50)\n",
      "Fitting 3 folds for each of 216 candidates, totalling 648 fits\n"
     ]
    },
    {
     "name": "stderr",
     "output_type": "stream",
     "text": [
      "[Parallel(n_jobs=-1)]: Done  96 tasks      | elapsed:    4.9s\n",
      "[Parallel(n_jobs=-1)]: Done 256 tasks      | elapsed:   11.5s\n",
      "[Parallel(n_jobs=-1)]: Done 480 tasks      | elapsed:   25.7s\n",
      "[Parallel(n_jobs=-1)]: Done 648 out of 648 | elapsed:   37.6s finished\n"
     ]
    },
    {
     "name": "stdout",
     "output_type": "stream",
     "text": [
      "[LibSVM]"
     ]
    },
    {
     "name": "stderr",
     "output_type": "stream",
     "text": [
      "/home/redev/anaconda3/envs/pyHAI/lib/python3.6/site-packages/sklearn/svm/_base.py:249: ConvergenceWarning: Solver terminated early (max_iter=3000).  Consider pre-processing your data with StandardScaler or MinMaxScaler.\n",
      "  % self.max_iter, ConvergenceWarning)\n"
     ]
    },
    {
     "name": "stdout",
     "output_type": "stream",
     "text": [
      "Results/SVM.csv\n",
      "0.8841637575372897\n",
      "(7351, 50)\n",
      "Shape of the input Data is (7351, 50)\n",
      "Fitting 3 folds for each of 216 candidates, totalling 648 fits\n"
     ]
    },
    {
     "name": "stderr",
     "output_type": "stream",
     "text": [
      "[Parallel(n_jobs=-1)]: Using backend LokyBackend with 16 concurrent workers.\n",
      "[Parallel(n_jobs=-1)]: Done 160 tasks      | elapsed:    3.6s\n",
      "[Parallel(n_jobs=-1)]: Done 384 tasks      | elapsed:    9.2s\n",
      "[Parallel(n_jobs=-1)]: Done 608 tasks      | elapsed:   18.1s\n",
      "[Parallel(n_jobs=-1)]: Done 648 out of 648 | elapsed:   20.3s finished\n"
     ]
    },
    {
     "name": "stdout",
     "output_type": "stream",
     "text": [
      "[LibSVM]"
     ]
    },
    {
     "name": "stderr",
     "output_type": "stream",
     "text": [
      "/home/redev/anaconda3/envs/pyHAI/lib/python3.6/site-packages/sklearn/svm/_base.py:249: ConvergenceWarning: Solver terminated early (max_iter=3000).  Consider pre-processing your data with StandardScaler or MinMaxScaler.\n",
      "  % self.max_iter, ConvergenceWarning)\n"
     ]
    },
    {
     "name": "stdout",
     "output_type": "stream",
     "text": [
      "Results/SVM.csv\n",
      "0.9463662329419232\n",
      "(7351, 50)\n",
      "Shape of the input Data is (7351, 50)\n",
      "Fitting 3 folds for each of 216 candidates, totalling 648 fits\n"
     ]
    },
    {
     "name": "stderr",
     "output_type": "stream",
     "text": [
      "[Parallel(n_jobs=-1)]: Using backend LokyBackend with 16 concurrent workers.\n",
      "[Parallel(n_jobs=-1)]: Done  96 tasks      | elapsed:    4.8s\n",
      "[Parallel(n_jobs=-1)]: Done 256 tasks      | elapsed:   11.3s\n",
      "[Parallel(n_jobs=-1)]: Done 480 tasks      | elapsed:   25.6s\n",
      "[Parallel(n_jobs=-1)]: Done 648 out of 648 | elapsed:   37.1s finished\n"
     ]
    },
    {
     "name": "stdout",
     "output_type": "stream",
     "text": [
      "[LibSVM]"
     ]
    },
    {
     "name": "stderr",
     "output_type": "stream",
     "text": [
      "/home/redev/anaconda3/envs/pyHAI/lib/python3.6/site-packages/sklearn/svm/_base.py:249: ConvergenceWarning: Solver terminated early (max_iter=3000).  Consider pre-processing your data with StandardScaler or MinMaxScaler.\n",
      "  % self.max_iter, ConvergenceWarning)\n"
     ]
    },
    {
     "name": "stdout",
     "output_type": "stream",
     "text": [
      "Results/SVM.csv\n",
      "0.9127261186924785\n",
      "(7351, 50)\n",
      "Shape of the input Data is (7351, 50)\n",
      "Fitting 3 folds for each of 216 candidates, totalling 648 fits\n"
     ]
    },
    {
     "name": "stderr",
     "output_type": "stream",
     "text": [
      "[Parallel(n_jobs=-1)]: Using backend LokyBackend with 16 concurrent workers.\n",
      "[Parallel(n_jobs=-1)]: Done  96 tasks      | elapsed:    5.0s\n",
      "[Parallel(n_jobs=-1)]: Done 256 tasks      | elapsed:   11.8s\n",
      "[Parallel(n_jobs=-1)]: Done 480 tasks      | elapsed:   26.5s\n",
      "[Parallel(n_jobs=-1)]: Done 648 out of 648 | elapsed:   38.6s finished\n"
     ]
    },
    {
     "name": "stdout",
     "output_type": "stream",
     "text": [
      "[LibSVM]"
     ]
    },
    {
     "name": "stderr",
     "output_type": "stream",
     "text": [
      "/home/redev/anaconda3/envs/pyHAI/lib/python3.6/site-packages/sklearn/svm/_base.py:249: ConvergenceWarning: Solver terminated early (max_iter=3000).  Consider pre-processing your data with StandardScaler or MinMaxScaler.\n",
      "  % self.max_iter, ConvergenceWarning)\n"
     ]
    },
    {
     "name": "stdout",
     "output_type": "stream",
     "text": [
      "Results/SVM.csv\n",
      "0.8562361155188829\n",
      "(7351, 50)\n",
      "Shape of the input Data is (7351, 50)\n",
      "Fitting 3 folds for each of 216 candidates, totalling 648 fits\n"
     ]
    },
    {
     "name": "stderr",
     "output_type": "stream",
     "text": [
      "[Parallel(n_jobs=-1)]: Using backend LokyBackend with 16 concurrent workers.\n",
      "[Parallel(n_jobs=-1)]: Done 160 tasks      | elapsed:    3.5s\n",
      "[Parallel(n_jobs=-1)]: Done 462 tasks      | elapsed:   12.2s\n",
      "[Parallel(n_jobs=-1)]: Done 648 out of 648 | elapsed:   20.3s finished\n"
     ]
    },
    {
     "name": "stdout",
     "output_type": "stream",
     "text": [
      "[LibSVM]"
     ]
    },
    {
     "name": "stderr",
     "output_type": "stream",
     "text": [
      "/home/redev/anaconda3/envs/pyHAI/lib/python3.6/site-packages/sklearn/svm/_base.py:249: ConvergenceWarning: Solver terminated early (max_iter=3000).  Consider pre-processing your data with StandardScaler or MinMaxScaler.\n",
      "  % self.max_iter, ConvergenceWarning)\n"
     ]
    },
    {
     "name": "stdout",
     "output_type": "stream",
     "text": [
      "Results/SVM.csv\n",
      "0.9336718502062837\n",
      "(1744, 600)\n",
      "Shape of the input Data is (1744, 600)\n",
      "Fitting 3 folds for each of 216 candidates, totalling 648 fits\n"
     ]
    },
    {
     "name": "stderr",
     "output_type": "stream",
     "text": [
      "[Parallel(n_jobs=-1)]: Using backend LokyBackend with 16 concurrent workers.\n",
      "[Parallel(n_jobs=-1)]: Done  96 tasks      | elapsed:    2.7s\n",
      "[Parallel(n_jobs=-1)]: Done 256 tasks      | elapsed:    6.6s\n",
      "[Parallel(n_jobs=-1)]: Done 480 tasks      | elapsed:   12.4s\n",
      "[Parallel(n_jobs=-1)]: Done 648 out of 648 | elapsed:   16.8s finished\n",
      "/home/redev/anaconda3/envs/pyHAI/lib/python3.6/site-packages/sklearn/svm/_base.py:249: ConvergenceWarning: Solver terminated early (max_iter=3000).  Consider pre-processing your data with StandardScaler or MinMaxScaler.\n",
      "  % self.max_iter, ConvergenceWarning)\n",
      "[Parallel(n_jobs=-1)]: Using backend LokyBackend with 16 concurrent workers.\n"
     ]
    },
    {
     "name": "stdout",
     "output_type": "stream",
     "text": [
      "[LibSVM]Results/SVM.csv\n",
      "0.9478609625668449\n",
      "(1744, 600)\n",
      "Shape of the input Data is (1744, 600)\n",
      "Fitting 3 folds for each of 216 candidates, totalling 648 fits\n"
     ]
    },
    {
     "name": "stderr",
     "output_type": "stream",
     "text": [
      "[Parallel(n_jobs=-1)]: Done  96 tasks      | elapsed:    2.6s\n",
      "[Parallel(n_jobs=-1)]: Done 256 tasks      | elapsed:    6.5s\n",
      "[Parallel(n_jobs=-1)]: Done 480 tasks      | elapsed:   12.3s\n",
      "[Parallel(n_jobs=-1)]: Done 648 out of 648 | elapsed:   16.8s finished\n",
      "/home/redev/anaconda3/envs/pyHAI/lib/python3.6/site-packages/sklearn/svm/_base.py:249: ConvergenceWarning: Solver terminated early (max_iter=3000).  Consider pre-processing your data with StandardScaler or MinMaxScaler.\n",
      "  % self.max_iter, ConvergenceWarning)\n"
     ]
    },
    {
     "name": "stdout",
     "output_type": "stream",
     "text": [
      "[LibSVM]Results/SVM.csv\n",
      "0.8783422459893048\n",
      "(1744, 600)\n",
      "Shape of the input Data is (1744, 600)\n",
      "Fitting 3 folds for each of 216 candidates, totalling 648 fits\n"
     ]
    },
    {
     "name": "stderr",
     "output_type": "stream",
     "text": [
      "[Parallel(n_jobs=-1)]: Using backend LokyBackend with 16 concurrent workers.\n",
      "[Parallel(n_jobs=-1)]: Done  96 tasks      | elapsed:    2.6s\n",
      "[Parallel(n_jobs=-1)]: Done 256 tasks      | elapsed:    6.6s\n",
      "[Parallel(n_jobs=-1)]: Done 480 tasks      | elapsed:   12.6s\n",
      "[Parallel(n_jobs=-1)]: Done 648 out of 648 | elapsed:   17.0s finished\n",
      "/home/redev/anaconda3/envs/pyHAI/lib/python3.6/site-packages/sklearn/svm/_base.py:249: ConvergenceWarning: Solver terminated early (max_iter=3000).  Consider pre-processing your data with StandardScaler or MinMaxScaler.\n",
      "  % self.max_iter, ConvergenceWarning)\n",
      "[Parallel(n_jobs=-1)]: Using backend LokyBackend with 16 concurrent workers.\n"
     ]
    },
    {
     "name": "stdout",
     "output_type": "stream",
     "text": [
      "[LibSVM]Results/SVM.csv\n",
      "0.9451871657754011\n",
      "(7351, 100)\n",
      "Shape of the input Data is (7351, 100)\n",
      "Fitting 3 folds for each of 216 candidates, totalling 648 fits\n"
     ]
    },
    {
     "name": "stderr",
     "output_type": "stream",
     "text": [
      "[Parallel(n_jobs=-1)]: Done  96 tasks      | elapsed:    4.8s\n",
      "[Parallel(n_jobs=-1)]: Done 256 tasks      | elapsed:   11.2s\n",
      "[Parallel(n_jobs=-1)]: Done 480 tasks      | elapsed:   25.4s\n",
      "[Parallel(n_jobs=-1)]: Done 648 out of 648 | elapsed:   36.7s finished\n"
     ]
    },
    {
     "name": "stdout",
     "output_type": "stream",
     "text": [
      "[LibSVM]"
     ]
    },
    {
     "name": "stderr",
     "output_type": "stream",
     "text": [
      "/home/redev/anaconda3/envs/pyHAI/lib/python3.6/site-packages/sklearn/svm/_base.py:249: ConvergenceWarning: Solver terminated early (max_iter=3000).  Consider pre-processing your data with StandardScaler or MinMaxScaler.\n",
      "  % self.max_iter, ConvergenceWarning)\n"
     ]
    },
    {
     "name": "stdout",
     "output_type": "stream",
     "text": [
      "Results/SVM.csv\n",
      "0.9409711202792764\n",
      "(7351, 100)\n",
      "Shape of the input Data is (7351, 100)\n",
      "Fitting 3 folds for each of 216 candidates, totalling 648 fits\n"
     ]
    },
    {
     "name": "stderr",
     "output_type": "stream",
     "text": [
      "[Parallel(n_jobs=-1)]: Using backend LokyBackend with 16 concurrent workers.\n",
      "[Parallel(n_jobs=-1)]: Done  96 tasks      | elapsed:    5.3s\n",
      "[Parallel(n_jobs=-1)]: Done 256 tasks      | elapsed:   12.4s\n",
      "[Parallel(n_jobs=-1)]: Done 480 tasks      | elapsed:   27.2s\n",
      "[Parallel(n_jobs=-1)]: Done 648 out of 648 | elapsed:   39.2s finished\n"
     ]
    },
    {
     "name": "stdout",
     "output_type": "stream",
     "text": [
      "[LibSVM]"
     ]
    },
    {
     "name": "stderr",
     "output_type": "stream",
     "text": [
      "/home/redev/anaconda3/envs/pyHAI/lib/python3.6/site-packages/sklearn/svm/_base.py:249: ConvergenceWarning: Solver terminated early (max_iter=3000).  Consider pre-processing your data with StandardScaler or MinMaxScaler.\n",
      "  % self.max_iter, ConvergenceWarning)\n"
     ]
    },
    {
     "name": "stdout",
     "output_type": "stream",
     "text": [
      "Results/SVM.csv\n",
      "0.878768644874643\n",
      "(7351, 100)\n",
      "Shape of the input Data is (7351, 100)\n",
      "Fitting 3 folds for each of 216 candidates, totalling 648 fits\n"
     ]
    },
    {
     "name": "stderr",
     "output_type": "stream",
     "text": [
      "[Parallel(n_jobs=-1)]: Using backend LokyBackend with 16 concurrent workers.\n",
      "[Parallel(n_jobs=-1)]: Done  96 tasks      | elapsed:    2.3s\n",
      "[Parallel(n_jobs=-1)]: Done 256 tasks      | elapsed:    6.8s\n",
      "[Parallel(n_jobs=-1)]: Done 480 tasks      | elapsed:   14.8s\n",
      "[Parallel(n_jobs=-1)]: Done 648 out of 648 | elapsed:   22.8s finished\n"
     ]
    },
    {
     "name": "stdout",
     "output_type": "stream",
     "text": [
      "[LibSVM]"
     ]
    },
    {
     "name": "stderr",
     "output_type": "stream",
     "text": [
      "/home/redev/anaconda3/envs/pyHAI/lib/python3.6/site-packages/sklearn/svm/_base.py:249: ConvergenceWarning: Solver terminated early (max_iter=3000).  Consider pre-processing your data with StandardScaler or MinMaxScaler.\n",
      "  % self.max_iter, ConvergenceWarning)\n"
     ]
    },
    {
     "name": "stdout",
     "output_type": "stream",
     "text": [
      "Results/SVM.csv\n",
      "0.9320850523643288\n",
      "(1121, 450)\n",
      "Shape of the input Data is (1121, 450)\n",
      "Fitting 3 folds for each of 216 candidates, totalling 648 fits\n"
     ]
    },
    {
     "name": "stderr",
     "output_type": "stream",
     "text": [
      "[Parallel(n_jobs=-1)]: Using backend LokyBackend with 16 concurrent workers.\n",
      "[Parallel(n_jobs=-1)]: Done 160 tasks      | elapsed:    1.6s\n",
      "[Parallel(n_jobs=-1)]: Done 480 tasks      | elapsed:    4.6s\n",
      "[Parallel(n_jobs=-1)]: Done 648 out of 648 | elapsed:    6.2s finished\n",
      "[Parallel(n_jobs=-1)]: Using backend LokyBackend with 16 concurrent workers.\n"
     ]
    },
    {
     "name": "stdout",
     "output_type": "stream",
     "text": [
      "[LibSVM]Results/SVM.csv\n",
      "0.9438669438669439\n",
      "(1121, 450)\n",
      "Shape of the input Data is (1121, 450)\n",
      "Fitting 3 folds for each of 216 candidates, totalling 648 fits\n"
     ]
    },
    {
     "name": "stderr",
     "output_type": "stream",
     "text": [
      "[Parallel(n_jobs=-1)]: Done 160 tasks      | elapsed:    1.4s\n",
      "[Parallel(n_jobs=-1)]: Done 480 tasks      | elapsed:    4.4s\n",
      "[Parallel(n_jobs=-1)]: Done 648 out of 648 | elapsed:    6.0s finished\n",
      "[Parallel(n_jobs=-1)]: Using backend LokyBackend with 16 concurrent workers.\n"
     ]
    },
    {
     "name": "stdout",
     "output_type": "stream",
     "text": [
      "[LibSVM]Results/SVM.csv\n",
      "0.8336798336798337\n",
      "(1121, 450)\n",
      "Shape of the input Data is (1121, 450)\n",
      "Fitting 3 folds for each of 216 candidates, totalling 648 fits\n"
     ]
    },
    {
     "name": "stderr",
     "output_type": "stream",
     "text": [
      "[Parallel(n_jobs=-1)]: Done 160 tasks      | elapsed:    1.5s\n",
      "[Parallel(n_jobs=-1)]: Done 480 tasks      | elapsed:    4.5s\n",
      "[Parallel(n_jobs=-1)]: Done 648 out of 648 | elapsed:    6.2s finished\n",
      "/home/redev/anaconda3/envs/pyHAI/lib/python3.6/site-packages/sklearn/svm/_base.py:249: ConvergenceWarning: Solver terminated early (max_iter=3000).  Consider pre-processing your data with StandardScaler or MinMaxScaler.\n",
      "  % self.max_iter, ConvergenceWarning)\n",
      "[Parallel(n_jobs=-1)]: Using backend LokyBackend with 16 concurrent workers.\n"
     ]
    },
    {
     "name": "stdout",
     "output_type": "stream",
     "text": [
      "[LibSVM]Results/SVM.csv\n",
      "0.9355509355509356\n",
      "(1121, 450)\n",
      "Shape of the input Data is (1121, 450)\n",
      "Fitting 3 folds for each of 216 candidates, totalling 648 fits\n"
     ]
    },
    {
     "name": "stderr",
     "output_type": "stream",
     "text": [
      "[Parallel(n_jobs=-1)]: Done 160 tasks      | elapsed:    1.4s\n",
      "[Parallel(n_jobs=-1)]: Done 480 tasks      | elapsed:    4.4s\n",
      "[Parallel(n_jobs=-1)]: Done 648 out of 648 | elapsed:    6.0s finished\n",
      "[Parallel(n_jobs=-1)]: Using backend LokyBackend with 16 concurrent workers.\n"
     ]
    },
    {
     "name": "stdout",
     "output_type": "stream",
     "text": [
      "[LibSVM]Results/SVM.csv\n",
      "0.9251559251559252\n",
      "(1121, 450)\n",
      "Shape of the input Data is (1121, 450)\n",
      "Fitting 3 folds for each of 216 candidates, totalling 648 fits\n"
     ]
    },
    {
     "name": "stderr",
     "output_type": "stream",
     "text": [
      "[Parallel(n_jobs=-1)]: Done 160 tasks      | elapsed:    1.3s\n",
      "[Parallel(n_jobs=-1)]: Done 480 tasks      | elapsed:    4.3s\n",
      "[Parallel(n_jobs=-1)]: Done 648 out of 648 | elapsed:    5.9s finished\n",
      "/home/redev/anaconda3/envs/pyHAI/lib/python3.6/site-packages/sklearn/svm/_base.py:249: ConvergenceWarning: Solver terminated early (max_iter=3000).  Consider pre-processing your data with StandardScaler or MinMaxScaler.\n",
      "  % self.max_iter, ConvergenceWarning)\n",
      "[Parallel(n_jobs=-1)]: Using backend LokyBackend with 16 concurrent workers.\n"
     ]
    },
    {
     "name": "stdout",
     "output_type": "stream",
     "text": [
      "[LibSVM]Results/SVM.csv\n",
      "0.8336798336798337\n",
      "(1121, 450)\n",
      "Shape of the input Data is (1121, 450)\n",
      "Fitting 3 folds for each of 216 candidates, totalling 648 fits\n"
     ]
    },
    {
     "name": "stderr",
     "output_type": "stream",
     "text": [
      "[Parallel(n_jobs=-1)]: Done 160 tasks      | elapsed:    1.5s\n",
      "[Parallel(n_jobs=-1)]: Done 480 tasks      | elapsed:    4.5s\n",
      "[Parallel(n_jobs=-1)]: Done 648 out of 648 | elapsed:    6.1s finished\n",
      "/home/redev/anaconda3/envs/pyHAI/lib/python3.6/site-packages/sklearn/svm/_base.py:249: ConvergenceWarning: Solver terminated early (max_iter=3000).  Consider pre-processing your data with StandardScaler or MinMaxScaler.\n",
      "  % self.max_iter, ConvergenceWarning)\n",
      "[Parallel(n_jobs=-1)]: Using backend LokyBackend with 16 concurrent workers.\n"
     ]
    },
    {
     "name": "stdout",
     "output_type": "stream",
     "text": [
      "[LibSVM]Results/SVM.csv\n",
      "0.9313929313929314\n",
      "(7351, 50)\n",
      "Shape of the input Data is (7351, 50)\n",
      "Fitting 3 folds for each of 216 candidates, totalling 648 fits\n"
     ]
    },
    {
     "name": "stderr",
     "output_type": "stream",
     "text": [
      "[Parallel(n_jobs=-1)]: Done  96 tasks      | elapsed:    4.4s\n",
      "[Parallel(n_jobs=-1)]: Done 256 tasks      | elapsed:   10.0s\n",
      "[Parallel(n_jobs=-1)]: Done 480 tasks      | elapsed:   23.0s\n",
      "[Parallel(n_jobs=-1)]: Done 648 out of 648 | elapsed:   33.4s finished\n"
     ]
    },
    {
     "name": "stdout",
     "output_type": "stream",
     "text": [
      "[LibSVM]"
     ]
    },
    {
     "name": "stderr",
     "output_type": "stream",
     "text": [
      "/home/redev/anaconda3/envs/pyHAI/lib/python3.6/site-packages/sklearn/svm/_base.py:249: ConvergenceWarning: Solver terminated early (max_iter=3000).  Consider pre-processing your data with StandardScaler or MinMaxScaler.\n",
      "  % self.max_iter, ConvergenceWarning)\n",
      "[Parallel(n_jobs=-1)]: Using backend LokyBackend with 16 concurrent workers.\n"
     ]
    },
    {
     "name": "stdout",
     "output_type": "stream",
     "text": [
      "Results/SVM.csv\n",
      "0.949857188194224\n",
      "(7351, 50)\n",
      "Shape of the input Data is (7351, 50)\n",
      "Fitting 3 folds for each of 216 candidates, totalling 648 fits\n"
     ]
    },
    {
     "name": "stderr",
     "output_type": "stream",
     "text": [
      "[Parallel(n_jobs=-1)]: Done  96 tasks      | elapsed:    4.9s\n",
      "[Parallel(n_jobs=-1)]: Done 256 tasks      | elapsed:   11.4s\n",
      "[Parallel(n_jobs=-1)]: Done 480 tasks      | elapsed:   25.7s\n",
      "[Parallel(n_jobs=-1)]: Done 648 out of 648 | elapsed:   37.5s finished\n"
     ]
    },
    {
     "name": "stdout",
     "output_type": "stream",
     "text": [
      "[LibSVM]"
     ]
    },
    {
     "name": "stderr",
     "output_type": "stream",
     "text": [
      "/home/redev/anaconda3/envs/pyHAI/lib/python3.6/site-packages/sklearn/svm/_base.py:249: ConvergenceWarning: Solver terminated early (max_iter=3000).  Consider pre-processing your data with StandardScaler or MinMaxScaler.\n",
      "  % self.max_iter, ConvergenceWarning)\n"
     ]
    },
    {
     "name": "stdout",
     "output_type": "stream",
     "text": [
      "Results/SVM.csv\n",
      "0.8863852745160267\n",
      "(7351, 50)\n",
      "Shape of the input Data is (7351, 50)\n",
      "Fitting 3 folds for each of 216 candidates, totalling 648 fits\n"
     ]
    },
    {
     "name": "stderr",
     "output_type": "stream",
     "text": [
      "[Parallel(n_jobs=-1)]: Using backend LokyBackend with 16 concurrent workers.\n",
      "[Parallel(n_jobs=-1)]: Done 160 tasks      | elapsed:    3.6s\n",
      "[Parallel(n_jobs=-1)]: Done 462 tasks      | elapsed:   12.3s\n",
      "[Parallel(n_jobs=-1)]: Done 648 out of 648 | elapsed:   20.3s finished\n"
     ]
    },
    {
     "name": "stdout",
     "output_type": "stream",
     "text": [
      "[LibSVM]"
     ]
    },
    {
     "name": "stderr",
     "output_type": "stream",
     "text": [
      "/home/redev/anaconda3/envs/pyHAI/lib/python3.6/site-packages/sklearn/svm/_base.py:249: ConvergenceWarning: Solver terminated early (max_iter=3000).  Consider pre-processing your data with StandardScaler or MinMaxScaler.\n",
      "  % self.max_iter, ConvergenceWarning)\n"
     ]
    },
    {
     "name": "stdout",
     "output_type": "stream",
     "text": [
      "Results/SVM.csv\n",
      "0.9463662329419232\n",
      "(7351, 50)\n",
      "Shape of the input Data is (7351, 50)\n",
      "Fitting 3 folds for each of 216 candidates, totalling 648 fits\n"
     ]
    },
    {
     "name": "stderr",
     "output_type": "stream",
     "text": [
      "[Parallel(n_jobs=-1)]: Using backend LokyBackend with 16 concurrent workers.\n",
      "[Parallel(n_jobs=-1)]: Done  96 tasks      | elapsed:    4.7s\n",
      "[Parallel(n_jobs=-1)]: Done 256 tasks      | elapsed:   11.3s\n",
      "[Parallel(n_jobs=-1)]: Done 480 tasks      | elapsed:   25.5s\n",
      "[Parallel(n_jobs=-1)]: Done 648 out of 648 | elapsed:   36.9s finished\n"
     ]
    },
    {
     "name": "stdout",
     "output_type": "stream",
     "text": [
      "[LibSVM]"
     ]
    },
    {
     "name": "stderr",
     "output_type": "stream",
     "text": [
      "/home/redev/anaconda3/envs/pyHAI/lib/python3.6/site-packages/sklearn/svm/_base.py:249: ConvergenceWarning: Solver terminated early (max_iter=3000).  Consider pre-processing your data with StandardScaler or MinMaxScaler.\n",
      "  % self.max_iter, ConvergenceWarning)\n"
     ]
    },
    {
     "name": "stdout",
     "output_type": "stream",
     "text": [
      "Results/SVM.csv\n",
      "0.9133608378292606\n",
      "(7351, 50)\n",
      "Shape of the input Data is (7351, 50)\n",
      "Fitting 3 folds for each of 216 candidates, totalling 648 fits\n"
     ]
    },
    {
     "name": "stderr",
     "output_type": "stream",
     "text": [
      "[Parallel(n_jobs=-1)]: Using backend LokyBackend with 16 concurrent workers.\n",
      "[Parallel(n_jobs=-1)]: Done  96 tasks      | elapsed:    5.0s\n",
      "[Parallel(n_jobs=-1)]: Done 256 tasks      | elapsed:   11.8s\n",
      "[Parallel(n_jobs=-1)]: Done 480 tasks      | elapsed:   26.5s\n",
      "[Parallel(n_jobs=-1)]: Done 648 out of 648 | elapsed:   38.5s finished\n"
     ]
    },
    {
     "name": "stdout",
     "output_type": "stream",
     "text": [
      "[LibSVM]"
     ]
    },
    {
     "name": "stderr",
     "output_type": "stream",
     "text": [
      "/home/redev/anaconda3/envs/pyHAI/lib/python3.6/site-packages/sklearn/svm/_base.py:249: ConvergenceWarning: Solver terminated early (max_iter=3000).  Consider pre-processing your data with StandardScaler or MinMaxScaler.\n",
      "  % self.max_iter, ConvergenceWarning)\n"
     ]
    },
    {
     "name": "stdout",
     "output_type": "stream",
     "text": [
      "Results/SVM.csv\n",
      "0.852427800698191\n",
      "(7351, 50)\n",
      "Shape of the input Data is (7351, 50)\n",
      "Fitting 3 folds for each of 216 candidates, totalling 648 fits\n"
     ]
    },
    {
     "name": "stderr",
     "output_type": "stream",
     "text": [
      "[Parallel(n_jobs=-1)]: Using backend LokyBackend with 16 concurrent workers.\n",
      "[Parallel(n_jobs=-1)]: Done 160 tasks      | elapsed:    3.5s\n",
      "[Parallel(n_jobs=-1)]: Done 462 tasks      | elapsed:   12.2s\n",
      "[Parallel(n_jobs=-1)]: Done 648 out of 648 | elapsed:   20.3s finished\n"
     ]
    },
    {
     "name": "stdout",
     "output_type": "stream",
     "text": [
      "[LibSVM]"
     ]
    },
    {
     "name": "stderr",
     "output_type": "stream",
     "text": [
      "/home/redev/anaconda3/envs/pyHAI/lib/python3.6/site-packages/sklearn/svm/_base.py:249: ConvergenceWarning: Solver terminated early (max_iter=3000).  Consider pre-processing your data with StandardScaler or MinMaxScaler.\n",
      "  % self.max_iter, ConvergenceWarning)\n"
     ]
    },
    {
     "name": "stdout",
     "output_type": "stream",
     "text": [
      "Results/SVM.csv\n",
      "0.9336718502062837\n",
      "(1121, 900)\n",
      "Shape of the input Data is (1121, 900)\n",
      "Fitting 3 folds for each of 216 candidates, totalling 648 fits\n"
     ]
    },
    {
     "name": "stderr",
     "output_type": "stream",
     "text": [
      "[Parallel(n_jobs=-1)]: Using backend LokyBackend with 16 concurrent workers.\n",
      "[Parallel(n_jobs=-1)]: Done  96 tasks      | elapsed:    2.4s\n",
      "[Parallel(n_jobs=-1)]: Done 256 tasks      | elapsed:    5.9s\n",
      "[Parallel(n_jobs=-1)]: Done 480 tasks      | elapsed:   11.3s\n",
      "[Parallel(n_jobs=-1)]: Done 648 out of 648 | elapsed:   15.2s finished\n",
      "[Parallel(n_jobs=-1)]: Using backend LokyBackend with 16 concurrent workers.\n"
     ]
    },
    {
     "name": "stdout",
     "output_type": "stream",
     "text": [
      "[LibSVM]Results/SVM.csv\n",
      "0.9480249480249481\n",
      "(1121, 900)\n",
      "Shape of the input Data is (1121, 900)\n",
      "Fitting 3 folds for each of 216 candidates, totalling 648 fits\n"
     ]
    },
    {
     "name": "stderr",
     "output_type": "stream",
     "text": [
      "[Parallel(n_jobs=-1)]: Done 160 tasks      | elapsed:    3.8s\n",
      "[Parallel(n_jobs=-1)]: Done 480 tasks      | elapsed:   11.2s\n",
      "[Parallel(n_jobs=-1)]: Done 648 out of 648 | elapsed:   15.1s finished\n",
      "[Parallel(n_jobs=-1)]: Using backend LokyBackend with 16 concurrent workers.\n"
     ]
    },
    {
     "name": "stdout",
     "output_type": "stream",
     "text": [
      "[LibSVM]Results/SVM.csv\n",
      "0.8586278586278586\n",
      "(1121, 900)\n",
      "Shape of the input Data is (1121, 900)\n",
      "Fitting 3 folds for each of 216 candidates, totalling 648 fits\n"
     ]
    },
    {
     "name": "stderr",
     "output_type": "stream",
     "text": [
      "[Parallel(n_jobs=-1)]: Done  96 tasks      | elapsed:    2.3s\n",
      "[Parallel(n_jobs=-1)]: Done 256 tasks      | elapsed:    5.9s\n",
      "[Parallel(n_jobs=-1)]: Done 480 tasks      | elapsed:   11.3s\n",
      "[Parallel(n_jobs=-1)]: Done 648 out of 648 | elapsed:   15.3s finished\n",
      "[Parallel(n_jobs=-1)]: Using backend LokyBackend with 16 concurrent workers.\n"
     ]
    },
    {
     "name": "stdout",
     "output_type": "stream",
     "text": [
      "[LibSVM]Results/SVM.csv\n",
      "0.9584199584199584\n",
      "(7351, 100)\n",
      "Shape of the input Data is (7351, 100)\n",
      "Fitting 3 folds for each of 216 candidates, totalling 648 fits\n"
     ]
    },
    {
     "name": "stderr",
     "output_type": "stream",
     "text": [
      "[Parallel(n_jobs=-1)]: Done  96 tasks      | elapsed:    4.7s\n",
      "[Parallel(n_jobs=-1)]: Done 256 tasks      | elapsed:   11.2s\n",
      "[Parallel(n_jobs=-1)]: Done 480 tasks      | elapsed:   25.5s\n",
      "[Parallel(n_jobs=-1)]: Done 648 out of 648 | elapsed:   36.8s finished\n"
     ]
    },
    {
     "name": "stdout",
     "output_type": "stream",
     "text": [
      "[LibSVM]"
     ]
    },
    {
     "name": "stderr",
     "output_type": "stream",
     "text": [
      "/home/redev/anaconda3/envs/pyHAI/lib/python3.6/site-packages/sklearn/svm/_base.py:249: ConvergenceWarning: Solver terminated early (max_iter=3000).  Consider pre-processing your data with StandardScaler or MinMaxScaler.\n",
      "  % self.max_iter, ConvergenceWarning)\n"
     ]
    },
    {
     "name": "stdout",
     "output_type": "stream",
     "text": [
      "Results/SVM.csv\n",
      "0.9419231989844494\n",
      "(7351, 100)\n",
      "Shape of the input Data is (7351, 100)\n",
      "Fitting 3 folds for each of 216 candidates, totalling 648 fits\n"
     ]
    },
    {
     "name": "stderr",
     "output_type": "stream",
     "text": [
      "[Parallel(n_jobs=-1)]: Using backend LokyBackend with 16 concurrent workers.\n",
      "[Parallel(n_jobs=-1)]: Done  96 tasks      | elapsed:    5.3s\n",
      "[Parallel(n_jobs=-1)]: Done 256 tasks      | elapsed:   12.4s\n",
      "[Parallel(n_jobs=-1)]: Done 480 tasks      | elapsed:   27.2s\n",
      "[Parallel(n_jobs=-1)]: Done 648 out of 648 | elapsed:   39.2s finished\n"
     ]
    },
    {
     "name": "stdout",
     "output_type": "stream",
     "text": [
      "[LibSVM]"
     ]
    },
    {
     "name": "stderr",
     "output_type": "stream",
     "text": [
      "/home/redev/anaconda3/envs/pyHAI/lib/python3.6/site-packages/sklearn/svm/_base.py:249: ConvergenceWarning: Solver terminated early (max_iter=3000).  Consider pre-processing your data with StandardScaler or MinMaxScaler.\n",
      "  % self.max_iter, ConvergenceWarning)\n"
     ]
    },
    {
     "name": "stdout",
     "output_type": "stream",
     "text": [
      "Results/SVM.csv\n",
      "0.8743256109171692\n",
      "(7351, 100)\n",
      "Shape of the input Data is (7351, 100)\n",
      "Fitting 3 folds for each of 216 candidates, totalling 648 fits\n"
     ]
    },
    {
     "name": "stderr",
     "output_type": "stream",
     "text": [
      "[Parallel(n_jobs=-1)]: Using backend LokyBackend with 16 concurrent workers.\n",
      "[Parallel(n_jobs=-1)]: Done  96 tasks      | elapsed:    2.3s\n",
      "[Parallel(n_jobs=-1)]: Done 256 tasks      | elapsed:    6.7s\n",
      "[Parallel(n_jobs=-1)]: Done 480 tasks      | elapsed:   14.7s\n",
      "[Parallel(n_jobs=-1)]: Done 648 out of 648 | elapsed:   22.8s finished\n"
     ]
    },
    {
     "name": "stdout",
     "output_type": "stream",
     "text": [
      "[LibSVM]"
     ]
    },
    {
     "name": "stderr",
     "output_type": "stream",
     "text": [
      "/home/redev/anaconda3/envs/pyHAI/lib/python3.6/site-packages/sklearn/svm/_base.py:249: ConvergenceWarning: Solver terminated early (max_iter=3000).  Consider pre-processing your data with StandardScaler or MinMaxScaler.\n",
      "  % self.max_iter, ConvergenceWarning)\n"
     ]
    },
    {
     "name": "stdout",
     "output_type": "stream",
     "text": [
      "Results/SVM.csv\n",
      "0.9343065693430657\n"
     ]
    }
   ],
   "source": [
    "skSVM = skSVM.skSVM()\n",
    "model = skSVM.model\n",
    "rel('skSVM')\n",
    "rel('ClassEvaluator')\n",
    "rel('hyperparameters')\n",
    "\n",
    "for dataKey, confDict in dataBuilder.confs.items():\n",
    "    for confKey, confData in confDict.items():\n",
    "        for split_value in splits:\n",
    "            print(confData[0].shape)\n",
    "            evaluator  = ClassEvaluator.Evaluator(skSVM.name, dataKey, model, confKey, confData, split_value)\n",
    "            evaluator.train_model()\n",
    "            evaluator.store()        "
   ]
  },
  {
   "cell_type": "markdown",
   "metadata": {},
   "source": [
    "## RandomForest Classifier"
   ]
  },
  {
   "cell_type": "code",
   "execution_count": 14,
   "metadata": {},
   "outputs": [
    {
     "name": "stdout",
     "output_type": "stream",
     "text": [
      "(3613, 150)\n",
      "Shape of the input Data is (3613, 150)\n",
      "Fitting 3 folds for each of 216 candidates, totalling 648 fits\n"
     ]
    },
    {
     "name": "stderr",
     "output_type": "stream",
     "text": [
      "[Parallel(n_jobs=-1)]: Using backend LokyBackend with 16 concurrent workers.\n",
      "[Parallel(n_jobs=-1)]: Done  96 tasks      | elapsed:   11.0s\n",
      "[Parallel(n_jobs=-1)]: Done 256 tasks      | elapsed:   28.8s\n",
      "[Parallel(n_jobs=-1)]: Done 480 tasks      | elapsed:  1.1min\n",
      "[Parallel(n_jobs=-1)]: Done 648 out of 648 | elapsed:  1.7min finished\n",
      "[Parallel(n_jobs=-1)]: Using backend ThreadingBackend with 16 concurrent workers.\n",
      "[Parallel(n_jobs=-1)]: Done  18 tasks      | elapsed:    0.1s\n",
      "[Parallel(n_jobs=-1)]: Done 125 out of 125 | elapsed:    0.3s finished\n",
      "[Parallel(n_jobs=16)]: Using backend ThreadingBackend with 16 concurrent workers.\n",
      "[Parallel(n_jobs=16)]: Done  18 tasks      | elapsed:    0.0s\n",
      "[Parallel(n_jobs=16)]: Done 125 out of 125 | elapsed:    0.0s finished\n",
      "[Parallel(n_jobs=-1)]: Using backend LokyBackend with 16 concurrent workers.\n"
     ]
    },
    {
     "name": "stdout",
     "output_type": "stream",
     "text": [
      "Results/RandomForestClassifier.csv\n",
      "writing csv file\n",
      "0.9412524209167205\n",
      "(3613, 150)\n",
      "Shape of the input Data is (3613, 150)\n",
      "Fitting 3 folds for each of 216 candidates, totalling 648 fits\n"
     ]
    },
    {
     "name": "stderr",
     "output_type": "stream",
     "text": [
      "[Parallel(n_jobs=-1)]: Done  96 tasks      | elapsed:   10.7s\n",
      "[Parallel(n_jobs=-1)]: Done 256 tasks      | elapsed:   29.3s\n",
      "[Parallel(n_jobs=-1)]: Done 480 tasks      | elapsed:  1.1min\n",
      "[Parallel(n_jobs=-1)]: Done 648 out of 648 | elapsed:  1.7min finished\n",
      "[Parallel(n_jobs=-1)]: Using backend ThreadingBackend with 16 concurrent workers.\n",
      "[Parallel(n_jobs=-1)]: Done  18 tasks      | elapsed:    0.1s\n",
      "[Parallel(n_jobs=-1)]: Done 125 out of 125 | elapsed:    0.2s finished\n",
      "[Parallel(n_jobs=16)]: Using backend ThreadingBackend with 16 concurrent workers.\n",
      "[Parallel(n_jobs=16)]: Done  18 tasks      | elapsed:    0.0s\n",
      "[Parallel(n_jobs=16)]: Done 125 out of 125 | elapsed:    0.0s finished\n",
      "[Parallel(n_jobs=-1)]: Using backend LokyBackend with 16 concurrent workers.\n"
     ]
    },
    {
     "name": "stdout",
     "output_type": "stream",
     "text": [
      "Results/RandomForestClassifier.csv\n",
      "0.8457069076823758\n",
      "(3613, 150)\n",
      "Shape of the input Data is (3613, 150)\n",
      "Fitting 3 folds for each of 216 candidates, totalling 648 fits\n"
     ]
    },
    {
     "name": "stderr",
     "output_type": "stream",
     "text": [
      "[Parallel(n_jobs=-1)]: Done  96 tasks      | elapsed:   10.1s\n",
      "[Parallel(n_jobs=-1)]: Done 256 tasks      | elapsed:   26.8s\n",
      "[Parallel(n_jobs=-1)]: Done 480 tasks      | elapsed:  1.0min\n",
      "[Parallel(n_jobs=-1)]: Done 648 out of 648 | elapsed:  1.6min finished\n",
      "[Parallel(n_jobs=-1)]: Using backend ThreadingBackend with 16 concurrent workers.\n",
      "[Parallel(n_jobs=-1)]: Done  18 tasks      | elapsed:    0.1s\n",
      "[Parallel(n_jobs=-1)]: Done  50 out of  50 | elapsed:    0.2s finished\n",
      "[Parallel(n_jobs=16)]: Using backend ThreadingBackend with 16 concurrent workers.\n",
      "[Parallel(n_jobs=16)]: Done  18 tasks      | elapsed:    0.0s\n",
      "[Parallel(n_jobs=16)]: Done  50 out of  50 | elapsed:    0.0s finished\n"
     ]
    },
    {
     "name": "stdout",
     "output_type": "stream",
     "text": [
      "Results/RandomForestClassifier.csv\n",
      "0.8999354422207876\n",
      "(3613, 150)\n",
      "Shape of the input Data is (3613, 150)\n",
      "Fitting 3 folds for each of 216 candidates, totalling 648 fits\n"
     ]
    },
    {
     "name": "stderr",
     "output_type": "stream",
     "text": [
      "[Parallel(n_jobs=-1)]: Using backend LokyBackend with 16 concurrent workers.\n",
      "[Parallel(n_jobs=-1)]: Done  96 tasks      | elapsed:   11.5s\n",
      "[Parallel(n_jobs=-1)]: Done 256 tasks      | elapsed:   30.4s\n",
      "[Parallel(n_jobs=-1)]: Done 480 tasks      | elapsed:  1.2min\n",
      "[Parallel(n_jobs=-1)]: Done 648 out of 648 | elapsed:  1.7min finished\n",
      "[Parallel(n_jobs=-1)]: Using backend ThreadingBackend with 16 concurrent workers.\n",
      "[Parallel(n_jobs=-1)]: Done  18 tasks      | elapsed:    0.1s\n",
      "[Parallel(n_jobs=-1)]: Done 125 out of 125 | elapsed:    0.3s finished\n",
      "[Parallel(n_jobs=16)]: Using backend ThreadingBackend with 16 concurrent workers.\n",
      "[Parallel(n_jobs=16)]: Done  18 tasks      | elapsed:    0.0s\n",
      "[Parallel(n_jobs=16)]: Done 125 out of 125 | elapsed:    0.0s finished\n",
      "[Parallel(n_jobs=-1)]: Using backend LokyBackend with 16 concurrent workers.\n"
     ]
    },
    {
     "name": "stdout",
     "output_type": "stream",
     "text": [
      "Results/RandomForestClassifier.csv\n",
      "0.8870238863783085\n",
      "(3613, 150)\n",
      "Shape of the input Data is (3613, 150)\n",
      "Fitting 3 folds for each of 216 candidates, totalling 648 fits\n"
     ]
    },
    {
     "name": "stderr",
     "output_type": "stream",
     "text": [
      "[Parallel(n_jobs=-1)]: Done  96 tasks      | elapsed:   12.2s\n",
      "[Parallel(n_jobs=-1)]: Done 256 tasks      | elapsed:   32.3s\n",
      "[Parallel(n_jobs=-1)]: Done 480 tasks      | elapsed:  1.3min\n",
      "[Parallel(n_jobs=-1)]: Done 648 out of 648 | elapsed:  1.9min finished\n",
      "[Parallel(n_jobs=-1)]: Using backend ThreadingBackend with 16 concurrent workers.\n",
      "[Parallel(n_jobs=-1)]: Done  18 tasks      | elapsed:    0.1s\n",
      "[Parallel(n_jobs=-1)]: Done 125 out of 125 | elapsed:    0.3s finished\n",
      "[Parallel(n_jobs=16)]: Using backend ThreadingBackend with 16 concurrent workers.\n",
      "[Parallel(n_jobs=16)]: Done  18 tasks      | elapsed:    0.0s\n",
      "[Parallel(n_jobs=16)]: Done 125 out of 125 | elapsed:    0.0s finished\n",
      "[Parallel(n_jobs=-1)]: Using backend LokyBackend with 16 concurrent workers.\n"
     ]
    },
    {
     "name": "stdout",
     "output_type": "stream",
     "text": [
      "Results/RandomForestClassifier.csv\n",
      "0.8205293737895416\n",
      "(3613, 150)\n",
      "Shape of the input Data is (3613, 150)\n",
      "Fitting 3 folds for each of 216 candidates, totalling 648 fits\n"
     ]
    },
    {
     "name": "stderr",
     "output_type": "stream",
     "text": [
      "[Parallel(n_jobs=-1)]: Done  96 tasks      | elapsed:   11.1s\n",
      "[Parallel(n_jobs=-1)]: Done 256 tasks      | elapsed:   29.9s\n",
      "[Parallel(n_jobs=-1)]: Done 480 tasks      | elapsed:  1.2min\n",
      "[Parallel(n_jobs=-1)]: Done 648 out of 648 | elapsed:  1.8min finished\n",
      "[Parallel(n_jobs=-1)]: Using backend ThreadingBackend with 16 concurrent workers.\n",
      "[Parallel(n_jobs=-1)]: Done  18 tasks      | elapsed:    0.1s\n",
      "[Parallel(n_jobs=-1)]: Done  50 out of  50 | elapsed:    0.2s finished\n",
      "[Parallel(n_jobs=16)]: Using backend ThreadingBackend with 16 concurrent workers.\n",
      "[Parallel(n_jobs=16)]: Done  18 tasks      | elapsed:    0.0s\n",
      "[Parallel(n_jobs=16)]: Done  50 out of  50 | elapsed:    0.0s finished\n"
     ]
    },
    {
     "name": "stdout",
     "output_type": "stream",
     "text": [
      "Results/RandomForestClassifier.csv\n",
      "0.8902517753389283\n",
      "(7351, 50)\n",
      "Shape of the input Data is (7351, 50)\n",
      "Fitting 3 folds for each of 216 candidates, totalling 648 fits\n"
     ]
    },
    {
     "name": "stderr",
     "output_type": "stream",
     "text": [
      "[Parallel(n_jobs=-1)]: Using backend LokyBackend with 16 concurrent workers.\n",
      "[Parallel(n_jobs=-1)]: Done  96 tasks      | elapsed:   17.7s\n",
      "[Parallel(n_jobs=-1)]: Done 256 tasks      | elapsed:   47.5s\n",
      "[Parallel(n_jobs=-1)]: Done 480 tasks      | elapsed:  2.1min\n",
      "[Parallel(n_jobs=-1)]: Done 648 out of 648 | elapsed:  3.2min finished\n",
      "[Parallel(n_jobs=-1)]: Using backend ThreadingBackend with 16 concurrent workers.\n",
      "[Parallel(n_jobs=-1)]: Done  18 tasks      | elapsed:    0.1s\n",
      "[Parallel(n_jobs=-1)]: Done 168 tasks      | elapsed:    0.5s\n",
      "[Parallel(n_jobs=-1)]: Done 250 out of 250 | elapsed:    0.6s finished\n",
      "[Parallel(n_jobs=16)]: Using backend ThreadingBackend with 16 concurrent workers.\n",
      "[Parallel(n_jobs=16)]: Done  18 tasks      | elapsed:    0.0s\n",
      "[Parallel(n_jobs=16)]: Done 168 tasks      | elapsed:    0.0s\n",
      "[Parallel(n_jobs=16)]: Done 250 out of 250 | elapsed:    0.1s finished\n",
      "[Parallel(n_jobs=-1)]: Using backend LokyBackend with 16 concurrent workers.\n"
     ]
    },
    {
     "name": "stdout",
     "output_type": "stream",
     "text": [
      "Results/RandomForestClassifier.csv\n",
      "0.9377975245953666\n",
      "(7351, 50)\n",
      "Shape of the input Data is (7351, 50)\n",
      "Fitting 3 folds for each of 216 candidates, totalling 648 fits\n"
     ]
    },
    {
     "name": "stderr",
     "output_type": "stream",
     "text": [
      "[Parallel(n_jobs=-1)]: Done  96 tasks      | elapsed:   18.3s\n",
      "[Parallel(n_jobs=-1)]: Done 256 tasks      | elapsed:   49.1s\n",
      "[Parallel(n_jobs=-1)]: Done 480 tasks      | elapsed:  2.1min\n",
      "[Parallel(n_jobs=-1)]: Done 648 out of 648 | elapsed:  3.2min finished\n",
      "[Parallel(n_jobs=-1)]: Using backend ThreadingBackend with 16 concurrent workers.\n",
      "[Parallel(n_jobs=-1)]: Done  18 tasks      | elapsed:    0.1s\n",
      "[Parallel(n_jobs=-1)]: Done 125 out of 125 | elapsed:    0.4s finished\n",
      "[Parallel(n_jobs=16)]: Using backend ThreadingBackend with 16 concurrent workers.\n",
      "[Parallel(n_jobs=16)]: Done  18 tasks      | elapsed:    0.0s\n",
      "[Parallel(n_jobs=16)]: Done 125 out of 125 | elapsed:    0.1s finished\n",
      "[Parallel(n_jobs=-1)]: Using backend LokyBackend with 16 concurrent workers.\n"
     ]
    },
    {
     "name": "stdout",
     "output_type": "stream",
     "text": [
      "Results/RandomForestClassifier.csv\n",
      "0.8559187559504919\n",
      "(7351, 50)\n",
      "Shape of the input Data is (7351, 50)\n",
      "Fitting 3 folds for each of 216 candidates, totalling 648 fits\n"
     ]
    },
    {
     "name": "stderr",
     "output_type": "stream",
     "text": [
      "[Parallel(n_jobs=-1)]: Done  96 tasks      | elapsed:   17.0s\n",
      "[Parallel(n_jobs=-1)]: Done 256 tasks      | elapsed:   44.8s\n",
      "[Parallel(n_jobs=-1)]: Done 480 tasks      | elapsed:  1.9min\n",
      "[Parallel(n_jobs=-1)]: Done 648 out of 648 | elapsed:  3.1min finished\n",
      "[Parallel(n_jobs=-1)]: Using backend ThreadingBackend with 16 concurrent workers.\n",
      "[Parallel(n_jobs=-1)]: Done  18 tasks      | elapsed:    0.1s\n",
      "[Parallel(n_jobs=-1)]: Done  50 out of  50 | elapsed:    0.2s finished\n",
      "[Parallel(n_jobs=16)]: Using backend ThreadingBackend with 16 concurrent workers.\n",
      "[Parallel(n_jobs=16)]: Done  18 tasks      | elapsed:    0.0s\n",
      "[Parallel(n_jobs=16)]: Done  50 out of  50 | elapsed:    0.0s finished\n"
     ]
    },
    {
     "name": "stdout",
     "output_type": "stream",
     "text": [
      "Results/RandomForestClassifier.csv\n",
      "0.9155823548079974\n",
      "(7351, 50)\n",
      "Shape of the input Data is (7351, 50)\n",
      "Fitting 3 folds for each of 216 candidates, totalling 648 fits\n"
     ]
    },
    {
     "name": "stderr",
     "output_type": "stream",
     "text": [
      "[Parallel(n_jobs=-1)]: Using backend LokyBackend with 16 concurrent workers.\n",
      "[Parallel(n_jobs=-1)]: Done  96 tasks      | elapsed:   18.0s\n",
      "[Parallel(n_jobs=-1)]: Done 256 tasks      | elapsed:   48.1s\n",
      "[Parallel(n_jobs=-1)]: Done 480 tasks      | elapsed:  2.0min\n",
      "[Parallel(n_jobs=-1)]: Done 648 out of 648 | elapsed:  3.1min finished\n",
      "[Parallel(n_jobs=-1)]: Using backend ThreadingBackend with 16 concurrent workers.\n",
      "[Parallel(n_jobs=-1)]: Done  18 tasks      | elapsed:    0.1s\n",
      "[Parallel(n_jobs=-1)]: Done 168 tasks      | elapsed:    0.4s\n",
      "[Parallel(n_jobs=-1)]: Done 250 out of 250 | elapsed:    0.6s finished\n",
      "[Parallel(n_jobs=16)]: Using backend ThreadingBackend with 16 concurrent workers.\n",
      "[Parallel(n_jobs=16)]: Done  18 tasks      | elapsed:    0.0s\n",
      "[Parallel(n_jobs=16)]: Done 168 tasks      | elapsed:    0.1s\n",
      "[Parallel(n_jobs=16)]: Done 250 out of 250 | elapsed:    0.1s finished\n",
      "[Parallel(n_jobs=-1)]: Using backend LokyBackend with 16 concurrent workers.\n"
     ]
    },
    {
     "name": "stdout",
     "output_type": "stream",
     "text": [
      "Results/RandomForestClassifier.csv\n",
      "0.8594097112027927\n",
      "(7351, 50)\n",
      "Shape of the input Data is (7351, 50)\n",
      "Fitting 3 folds for each of 216 candidates, totalling 648 fits\n"
     ]
    },
    {
     "name": "stderr",
     "output_type": "stream",
     "text": [
      "[Parallel(n_jobs=-1)]: Done  96 tasks      | elapsed:   18.9s\n",
      "[Parallel(n_jobs=-1)]: Done 256 tasks      | elapsed:   50.7s\n",
      "[Parallel(n_jobs=-1)]: Done 480 tasks      | elapsed:  2.2min\n",
      "[Parallel(n_jobs=-1)]: Done 648 out of 648 | elapsed:  3.4min finished\n",
      "[Parallel(n_jobs=-1)]: Using backend ThreadingBackend with 16 concurrent workers.\n",
      "[Parallel(n_jobs=-1)]: Done  18 tasks      | elapsed:    0.1s\n",
      "[Parallel(n_jobs=-1)]: Done 168 tasks      | elapsed:    0.5s\n",
      "[Parallel(n_jobs=-1)]: Done 250 out of 250 | elapsed:    0.6s finished\n",
      "[Parallel(n_jobs=16)]: Using backend ThreadingBackend with 16 concurrent workers.\n",
      "[Parallel(n_jobs=16)]: Done  18 tasks      | elapsed:    0.0s\n",
      "[Parallel(n_jobs=16)]: Done 168 tasks      | elapsed:    0.1s\n",
      "[Parallel(n_jobs=16)]: Done 250 out of 250 | elapsed:    0.1s finished\n",
      "[Parallel(n_jobs=-1)]: Using backend LokyBackend with 16 concurrent workers.\n"
     ]
    },
    {
     "name": "stdout",
     "output_type": "stream",
     "text": [
      "Results/RandomForestClassifier.csv\n",
      "0.7921294827039035\n",
      "(7351, 50)\n",
      "Shape of the input Data is (7351, 50)\n",
      "Fitting 3 folds for each of 216 candidates, totalling 648 fits\n"
     ]
    },
    {
     "name": "stderr",
     "output_type": "stream",
     "text": [
      "[Parallel(n_jobs=-1)]: Done  96 tasks      | elapsed:   18.4s\n",
      "[Parallel(n_jobs=-1)]: Done 256 tasks      | elapsed:   48.8s\n",
      "[Parallel(n_jobs=-1)]: Done 480 tasks      | elapsed:  2.3min\n",
      "[Parallel(n_jobs=-1)]: Done 648 out of 648 | elapsed:  3.7min finished\n",
      "[Parallel(n_jobs=-1)]: Using backend ThreadingBackend with 16 concurrent workers.\n",
      "[Parallel(n_jobs=-1)]: Done  18 tasks      | elapsed:    0.1s\n",
      "[Parallel(n_jobs=-1)]: Done  50 out of  50 | elapsed:    0.2s finished\n",
      "[Parallel(n_jobs=16)]: Using backend ThreadingBackend with 16 concurrent workers.\n",
      "[Parallel(n_jobs=16)]: Done  18 tasks      | elapsed:    0.0s\n",
      "[Parallel(n_jobs=16)]: Done  50 out of  50 | elapsed:    0.0s finished\n"
     ]
    },
    {
     "name": "stdout",
     "output_type": "stream",
     "text": [
      "Results/RandomForestClassifier.csv\n",
      "0.903205331640749\n",
      "(3613, 300)\n",
      "Shape of the input Data is (3613, 300)\n",
      "Fitting 3 folds for each of 216 candidates, totalling 648 fits\n"
     ]
    },
    {
     "name": "stderr",
     "output_type": "stream",
     "text": [
      "[Parallel(n_jobs=-1)]: Using backend LokyBackend with 16 concurrent workers.\n",
      "[Parallel(n_jobs=-1)]: Done  96 tasks      | elapsed:   11.1s\n",
      "[Parallel(n_jobs=-1)]: Done 256 tasks      | elapsed:   29.7s\n",
      "[Parallel(n_jobs=-1)]: Done 480 tasks      | elapsed:  1.2min\n",
      "[Parallel(n_jobs=-1)]: Done 648 out of 648 | elapsed:  1.7min finished\n",
      "[Parallel(n_jobs=-1)]: Using backend ThreadingBackend with 16 concurrent workers.\n",
      "[Parallel(n_jobs=-1)]: Done  18 tasks      | elapsed:    0.1s\n",
      "[Parallel(n_jobs=-1)]: Done 168 tasks      | elapsed:    0.3s\n",
      "[Parallel(n_jobs=-1)]: Done 250 out of 250 | elapsed:    0.4s finished\n",
      "[Parallel(n_jobs=16)]: Using backend ThreadingBackend with 16 concurrent workers.\n",
      "[Parallel(n_jobs=16)]: Done  18 tasks      | elapsed:    0.0s\n",
      "[Parallel(n_jobs=16)]: Done 168 tasks      | elapsed:    0.0s\n",
      "[Parallel(n_jobs=16)]: Done 250 out of 250 | elapsed:    0.1s finished\n"
     ]
    },
    {
     "name": "stdout",
     "output_type": "stream",
     "text": [
      "Results/RandomForestClassifier.csv\n",
      "0.9412524209167205\n",
      "(3613, 300)\n",
      "Shape of the input Data is (3613, 300)\n",
      "Fitting 3 folds for each of 216 candidates, totalling 648 fits\n"
     ]
    },
    {
     "name": "stderr",
     "output_type": "stream",
     "text": [
      "[Parallel(n_jobs=-1)]: Using backend LokyBackend with 16 concurrent workers.\n",
      "[Parallel(n_jobs=-1)]: Done  96 tasks      | elapsed:   11.7s\n",
      "[Parallel(n_jobs=-1)]: Done 256 tasks      | elapsed:   31.3s\n",
      "[Parallel(n_jobs=-1)]: Done 480 tasks      | elapsed:  1.2min\n",
      "[Parallel(n_jobs=-1)]: Done 648 out of 648 | elapsed:  1.8min finished\n",
      "[Parallel(n_jobs=-1)]: Using backend ThreadingBackend with 16 concurrent workers.\n",
      "[Parallel(n_jobs=-1)]: Done  18 tasks      | elapsed:    0.0s\n",
      "[Parallel(n_jobs=-1)]: Done 168 tasks      | elapsed:    0.2s\n",
      "[Parallel(n_jobs=-1)]: Done 418 tasks      | elapsed:    0.6s\n",
      "[Parallel(n_jobs=-1)]: Done 768 tasks      | elapsed:    1.1s\n",
      "[Parallel(n_jobs=-1)]: Done 900 out of 900 | elapsed:    1.2s finished\n",
      "[Parallel(n_jobs=16)]: Using backend ThreadingBackend with 16 concurrent workers.\n",
      "[Parallel(n_jobs=16)]: Done  18 tasks      | elapsed:    0.0s\n",
      "[Parallel(n_jobs=16)]: Done 168 tasks      | elapsed:    0.0s\n",
      "[Parallel(n_jobs=16)]: Done 418 tasks      | elapsed:    0.1s\n",
      "[Parallel(n_jobs=16)]: Done 768 tasks      | elapsed:    0.2s\n",
      "[Parallel(n_jobs=16)]: Done 900 out of 900 | elapsed:    0.2s finished\n"
     ]
    },
    {
     "name": "stdout",
     "output_type": "stream",
     "text": [
      "Results/RandomForestClassifier.csv\n",
      "0.8431245965138799\n",
      "(3613, 300)\n",
      "Shape of the input Data is (3613, 300)\n",
      "Fitting 3 folds for each of 216 candidates, totalling 648 fits\n"
     ]
    },
    {
     "name": "stderr",
     "output_type": "stream",
     "text": [
      "[Parallel(n_jobs=-1)]: Using backend LokyBackend with 16 concurrent workers.\n",
      "[Parallel(n_jobs=-1)]: Done  96 tasks      | elapsed:   11.0s\n",
      "[Parallel(n_jobs=-1)]: Done 256 tasks      | elapsed:   29.4s\n",
      "[Parallel(n_jobs=-1)]: Done 480 tasks      | elapsed:  1.1min\n",
      "[Parallel(n_jobs=-1)]: Done 648 out of 648 | elapsed:  1.7min finished\n",
      "[Parallel(n_jobs=-1)]: Using backend ThreadingBackend with 16 concurrent workers.\n",
      "[Parallel(n_jobs=-1)]: Done  18 tasks      | elapsed:    0.1s\n",
      "[Parallel(n_jobs=-1)]: Done  50 out of  50 | elapsed:    0.2s finished\n",
      "[Parallel(n_jobs=16)]: Using backend ThreadingBackend with 16 concurrent workers.\n",
      "[Parallel(n_jobs=16)]: Done  18 tasks      | elapsed:    0.0s\n",
      "[Parallel(n_jobs=16)]: Done  50 out of  50 | elapsed:    0.0s finished\n"
     ]
    },
    {
     "name": "stdout",
     "output_type": "stream",
     "text": [
      "Results/RandomForestClassifier.csv\n",
      "0.8973531310522918\n",
      "(7351, 100)\n",
      "Shape of the input Data is (7351, 100)\n",
      "Fitting 3 folds for each of 216 candidates, totalling 648 fits\n"
     ]
    },
    {
     "name": "stderr",
     "output_type": "stream",
     "text": [
      "[Parallel(n_jobs=-1)]: Using backend LokyBackend with 16 concurrent workers.\n",
      "[Parallel(n_jobs=-1)]: Done  96 tasks      | elapsed:   17.5s\n",
      "[Parallel(n_jobs=-1)]: Done 256 tasks      | elapsed:   46.4s\n",
      "[Parallel(n_jobs=-1)]: Done 480 tasks      | elapsed:  1.9min\n",
      "[Parallel(n_jobs=-1)]: Done 648 out of 648 | elapsed:  3.0min finished\n",
      "[Parallel(n_jobs=-1)]: Using backend ThreadingBackend with 16 concurrent workers.\n",
      "[Parallel(n_jobs=-1)]: Done  18 tasks      | elapsed:    0.1s\n",
      "[Parallel(n_jobs=-1)]: Done 125 out of 125 | elapsed:    0.4s finished\n",
      "[Parallel(n_jobs=16)]: Using backend ThreadingBackend with 16 concurrent workers.\n",
      "[Parallel(n_jobs=16)]: Done  18 tasks      | elapsed:    0.0s\n",
      "[Parallel(n_jobs=16)]: Done 125 out of 125 | elapsed:    0.0s finished\n",
      "[Parallel(n_jobs=-1)]: Using backend LokyBackend with 16 concurrent workers.\n"
     ]
    },
    {
     "name": "stdout",
     "output_type": "stream",
     "text": [
      "Results/RandomForestClassifier.csv\n",
      "0.9381148841637575\n",
      "(7351, 100)\n",
      "Shape of the input Data is (7351, 100)\n",
      "Fitting 3 folds for each of 216 candidates, totalling 648 fits\n"
     ]
    },
    {
     "name": "stderr",
     "output_type": "stream",
     "text": [
      "[Parallel(n_jobs=-1)]: Done  96 tasks      | elapsed:   18.9s\n",
      "[Parallel(n_jobs=-1)]: Done 256 tasks      | elapsed:   50.4s\n",
      "[Parallel(n_jobs=-1)]: Done 480 tasks      | elapsed:  2.1min\n",
      "[Parallel(n_jobs=-1)]: Done 648 out of 648 | elapsed:  3.3min finished\n",
      "[Parallel(n_jobs=-1)]: Using backend ThreadingBackend with 16 concurrent workers.\n",
      "[Parallel(n_jobs=-1)]: Done  18 tasks      | elapsed:    0.1s\n",
      "[Parallel(n_jobs=-1)]: Done 168 tasks      | elapsed:    0.4s\n",
      "[Parallel(n_jobs=-1)]: Done 418 tasks      | elapsed:    0.9s\n",
      "[Parallel(n_jobs=-1)]: Done 768 tasks      | elapsed:    1.7s\n",
      "[Parallel(n_jobs=-1)]: Done 900 out of 900 | elapsed:    2.0s finished\n",
      "[Parallel(n_jobs=16)]: Using backend ThreadingBackend with 16 concurrent workers.\n",
      "[Parallel(n_jobs=16)]: Done  18 tasks      | elapsed:    0.0s\n",
      "[Parallel(n_jobs=16)]: Done 168 tasks      | elapsed:    0.0s\n",
      "[Parallel(n_jobs=16)]: Done 418 tasks      | elapsed:    0.1s\n",
      "[Parallel(n_jobs=16)]: Done 768 tasks      | elapsed:    0.2s\n",
      "[Parallel(n_jobs=16)]: Done 900 out of 900 | elapsed:    0.2s finished\n"
     ]
    },
    {
     "name": "stdout",
     "output_type": "stream",
     "text": [
      "Results/RandomForestClassifier.csv\n",
      "0.8667089812757854\n",
      "(7351, 100)\n",
      "Shape of the input Data is (7351, 100)\n",
      "Fitting 3 folds for each of 216 candidates, totalling 648 fits\n"
     ]
    },
    {
     "name": "stderr",
     "output_type": "stream",
     "text": [
      "[Parallel(n_jobs=-1)]: Using backend LokyBackend with 16 concurrent workers.\n",
      "[Parallel(n_jobs=-1)]: Done  96 tasks      | elapsed:   17.5s\n",
      "[Parallel(n_jobs=-1)]: Done 256 tasks      | elapsed:   46.7s\n",
      "[Parallel(n_jobs=-1)]: Done 480 tasks      | elapsed:  2.1min\n",
      "[Parallel(n_jobs=-1)]: Done 648 out of 648 | elapsed:  3.3min finished\n",
      "[Parallel(n_jobs=-1)]: Using backend ThreadingBackend with 16 concurrent workers.\n",
      "[Parallel(n_jobs=-1)]: Done  18 tasks      | elapsed:    0.1s\n",
      "[Parallel(n_jobs=-1)]: Done  50 out of  50 | elapsed:    0.2s finished\n",
      "[Parallel(n_jobs=16)]: Using backend ThreadingBackend with 16 concurrent workers.\n",
      "[Parallel(n_jobs=16)]: Done  18 tasks      | elapsed:    0.0s\n",
      "[Parallel(n_jobs=16)]: Done  50 out of  50 | elapsed:    0.0s finished\n"
     ]
    },
    {
     "name": "stdout",
     "output_type": "stream",
     "text": [
      "Results/RandomForestClassifier.csv\n",
      "0.9130434782608695\n",
      "(1744, 300)\n",
      "Shape of the input Data is (1744, 300)\n",
      "Fitting 3 folds for each of 216 candidates, totalling 648 fits\n"
     ]
    },
    {
     "name": "stderr",
     "output_type": "stream",
     "text": [
      "[Parallel(n_jobs=-1)]: Using backend LokyBackend with 16 concurrent workers.\n",
      "[Parallel(n_jobs=-1)]: Done  96 tasks      | elapsed:    7.6s\n",
      "[Parallel(n_jobs=-1)]: Done 256 tasks      | elapsed:   19.9s\n",
      "[Parallel(n_jobs=-1)]: Done 480 tasks      | elapsed:   41.9s\n",
      "[Parallel(n_jobs=-1)]: Done 648 out of 648 | elapsed:  1.0min finished\n",
      "[Parallel(n_jobs=-1)]: Using backend ThreadingBackend with 16 concurrent workers.\n",
      "[Parallel(n_jobs=-1)]: Done  18 tasks      | elapsed:    0.1s\n",
      "[Parallel(n_jobs=-1)]: Done 125 out of 125 | elapsed:    0.2s finished\n",
      "[Parallel(n_jobs=16)]: Using backend ThreadingBackend with 16 concurrent workers.\n",
      "[Parallel(n_jobs=16)]: Done  18 tasks      | elapsed:    0.0s\n",
      "[Parallel(n_jobs=16)]: Done 125 out of 125 | elapsed:    0.0s finished\n"
     ]
    },
    {
     "name": "stdout",
     "output_type": "stream",
     "text": [
      "Results/RandomForestClassifier.csv\n",
      "0.9411764705882353\n",
      "(1744, 300)\n",
      "Shape of the input Data is (1744, 300)\n",
      "Fitting 3 folds for each of 216 candidates, totalling 648 fits\n"
     ]
    },
    {
     "name": "stderr",
     "output_type": "stream",
     "text": [
      "[Parallel(n_jobs=-1)]: Using backend LokyBackend with 16 concurrent workers.\n",
      "[Parallel(n_jobs=-1)]: Done  96 tasks      | elapsed:    7.7s\n",
      "[Parallel(n_jobs=-1)]: Done 256 tasks      | elapsed:   20.3s\n",
      "[Parallel(n_jobs=-1)]: Done 480 tasks      | elapsed:   42.8s\n",
      "[Parallel(n_jobs=-1)]: Done 648 out of 648 | elapsed:  1.0min finished\n",
      "[Parallel(n_jobs=-1)]: Using backend ThreadingBackend with 16 concurrent workers.\n",
      "[Parallel(n_jobs=-1)]: Done  18 tasks      | elapsed:    0.1s\n",
      "[Parallel(n_jobs=-1)]: Done 125 out of 125 | elapsed:    0.2s finished\n",
      "[Parallel(n_jobs=16)]: Using backend ThreadingBackend with 16 concurrent workers.\n",
      "[Parallel(n_jobs=16)]: Done  18 tasks      | elapsed:    0.0s\n",
      "[Parallel(n_jobs=16)]: Done 125 out of 125 | elapsed:    0.0s finished\n"
     ]
    },
    {
     "name": "stdout",
     "output_type": "stream",
     "text": [
      "Results/RandomForestClassifier.csv\n",
      "0.8489304812834224\n",
      "(1744, 300)\n",
      "Shape of the input Data is (1744, 300)\n",
      "Fitting 3 folds for each of 216 candidates, totalling 648 fits\n"
     ]
    },
    {
     "name": "stderr",
     "output_type": "stream",
     "text": [
      "[Parallel(n_jobs=-1)]: Using backend LokyBackend with 16 concurrent workers.\n",
      "[Parallel(n_jobs=-1)]: Done  96 tasks      | elapsed:    7.4s\n",
      "[Parallel(n_jobs=-1)]: Done 256 tasks      | elapsed:   19.9s\n",
      "[Parallel(n_jobs=-1)]: Done 480 tasks      | elapsed:   43.6s\n",
      "[Parallel(n_jobs=-1)]: Done 648 out of 648 | elapsed:  1.1min finished\n",
      "[Parallel(n_jobs=-1)]: Using backend ThreadingBackend with 16 concurrent workers.\n",
      "[Parallel(n_jobs=-1)]: Done  18 tasks      | elapsed:    0.1s\n",
      "[Parallel(n_jobs=-1)]: Done  50 out of  50 | elapsed:    0.1s finished\n",
      "[Parallel(n_jobs=16)]: Using backend ThreadingBackend with 16 concurrent workers.\n",
      "[Parallel(n_jobs=16)]: Done  18 tasks      | elapsed:    0.0s\n",
      "[Parallel(n_jobs=16)]: Done  50 out of  50 | elapsed:    0.0s finished\n",
      "[Parallel(n_jobs=-1)]: Using backend LokyBackend with 16 concurrent workers.\n"
     ]
    },
    {
     "name": "stdout",
     "output_type": "stream",
     "text": [
      "Results/RandomForestClassifier.csv\n",
      "0.8903743315508021\n",
      "(1744, 300)\n",
      "Shape of the input Data is (1744, 300)\n",
      "Fitting 3 folds for each of 216 candidates, totalling 648 fits\n"
     ]
    },
    {
     "name": "stderr",
     "output_type": "stream",
     "text": [
      "[Parallel(n_jobs=-1)]: Done  96 tasks      | elapsed:    7.5s\n",
      "[Parallel(n_jobs=-1)]: Done 256 tasks      | elapsed:   20.0s\n",
      "[Parallel(n_jobs=-1)]: Done 480 tasks      | elapsed:   42.2s\n",
      "[Parallel(n_jobs=-1)]: Done 648 out of 648 | elapsed:  1.0min finished\n",
      "[Parallel(n_jobs=-1)]: Using backend ThreadingBackend with 16 concurrent workers.\n",
      "[Parallel(n_jobs=-1)]: Done  18 tasks      | elapsed:    0.0s\n",
      "[Parallel(n_jobs=-1)]: Done 168 tasks      | elapsed:    0.2s\n",
      "[Parallel(n_jobs=-1)]: Done 418 tasks      | elapsed:    0.4s\n",
      "[Parallel(n_jobs=-1)]: Done 768 tasks      | elapsed:    0.8s\n",
      "[Parallel(n_jobs=-1)]: Done 900 out of 900 | elapsed:    0.9s finished\n",
      "[Parallel(n_jobs=16)]: Using backend ThreadingBackend with 16 concurrent workers.\n",
      "[Parallel(n_jobs=16)]: Done  18 tasks      | elapsed:    0.0s\n",
      "[Parallel(n_jobs=16)]: Done 168 tasks      | elapsed:    0.0s\n",
      "[Parallel(n_jobs=16)]: Done 418 tasks      | elapsed:    0.1s\n",
      "[Parallel(n_jobs=16)]: Done 768 tasks      | elapsed:    0.1s\n",
      "[Parallel(n_jobs=16)]: Done 900 out of 900 | elapsed:    0.2s finished\n",
      "[Parallel(n_jobs=-1)]: Using backend LokyBackend with 16 concurrent workers.\n"
     ]
    },
    {
     "name": "stdout",
     "output_type": "stream",
     "text": [
      "Results/RandomForestClassifier.csv\n",
      "0.9171122994652406\n",
      "(1744, 300)\n",
      "Shape of the input Data is (1744, 300)\n",
      "Fitting 3 folds for each of 216 candidates, totalling 648 fits\n"
     ]
    },
    {
     "name": "stderr",
     "output_type": "stream",
     "text": [
      "[Parallel(n_jobs=-1)]: Done  96 tasks      | elapsed:    8.0s\n",
      "[Parallel(n_jobs=-1)]: Done 256 tasks      | elapsed:   21.1s\n",
      "[Parallel(n_jobs=-1)]: Done 480 tasks      | elapsed:   44.8s\n",
      "[Parallel(n_jobs=-1)]: Done 648 out of 648 | elapsed:  1.1min finished\n",
      "[Parallel(n_jobs=-1)]: Using backend ThreadingBackend with 16 concurrent workers.\n",
      "[Parallel(n_jobs=-1)]: Done  18 tasks      | elapsed:    0.1s\n",
      "[Parallel(n_jobs=-1)]: Done  50 out of  50 | elapsed:    0.1s finished\n",
      "[Parallel(n_jobs=16)]: Using backend ThreadingBackend with 16 concurrent workers.\n",
      "[Parallel(n_jobs=16)]: Done  18 tasks      | elapsed:    0.0s\n",
      "[Parallel(n_jobs=16)]: Done  50 out of  50 | elapsed:    0.0s finished\n",
      "[Parallel(n_jobs=-1)]: Using backend LokyBackend with 16 concurrent workers.\n"
     ]
    },
    {
     "name": "stdout",
     "output_type": "stream",
     "text": [
      "Results/RandomForestClassifier.csv\n",
      "0.8074866310160428\n",
      "(1744, 300)\n",
      "Shape of the input Data is (1744, 300)\n",
      "Fitting 3 folds for each of 216 candidates, totalling 648 fits\n"
     ]
    },
    {
     "name": "stderr",
     "output_type": "stream",
     "text": [
      "[Parallel(n_jobs=-1)]: Done  96 tasks      | elapsed:    7.4s\n",
      "[Parallel(n_jobs=-1)]: Done 256 tasks      | elapsed:   19.9s\n",
      "[Parallel(n_jobs=-1)]: Done 480 tasks      | elapsed:   42.9s\n",
      "[Parallel(n_jobs=-1)]: Done 648 out of 648 | elapsed:  1.1min finished\n",
      "[Parallel(n_jobs=-1)]: Using backend ThreadingBackend with 16 concurrent workers.\n",
      "[Parallel(n_jobs=-1)]: Done  18 tasks      | elapsed:    0.0s\n",
      "[Parallel(n_jobs=-1)]: Done  50 out of  50 | elapsed:    0.1s finished\n",
      "[Parallel(n_jobs=16)]: Using backend ThreadingBackend with 16 concurrent workers.\n",
      "[Parallel(n_jobs=16)]: Done  18 tasks      | elapsed:    0.0s\n",
      "[Parallel(n_jobs=16)]: Done  50 out of  50 | elapsed:    0.0s finished\n",
      "[Parallel(n_jobs=-1)]: Using backend LokyBackend with 16 concurrent workers.\n"
     ]
    },
    {
     "name": "stdout",
     "output_type": "stream",
     "text": [
      "Results/RandomForestClassifier.csv\n",
      "0.8863636363636364\n",
      "(7351, 50)\n",
      "Shape of the input Data is (7351, 50)\n",
      "Fitting 3 folds for each of 216 candidates, totalling 648 fits\n"
     ]
    },
    {
     "name": "stderr",
     "output_type": "stream",
     "text": [
      "[Parallel(n_jobs=-1)]: Done  96 tasks      | elapsed:   17.4s\n",
      "[Parallel(n_jobs=-1)]: Done 256 tasks      | elapsed:   46.5s\n",
      "[Parallel(n_jobs=-1)]: Done 480 tasks      | elapsed:  2.0min\n",
      "[Parallel(n_jobs=-1)]: Done 648 out of 648 | elapsed:  3.2min finished\n",
      "[Parallel(n_jobs=-1)]: Using backend ThreadingBackend with 16 concurrent workers.\n",
      "[Parallel(n_jobs=-1)]: Done  18 tasks      | elapsed:    0.2s\n",
      "[Parallel(n_jobs=-1)]: Done  50 out of  50 | elapsed:    0.3s finished\n",
      "[Parallel(n_jobs=16)]: Using backend ThreadingBackend with 16 concurrent workers.\n",
      "[Parallel(n_jobs=16)]: Done  18 tasks      | elapsed:    0.0s\n",
      "[Parallel(n_jobs=16)]: Done  50 out of  50 | elapsed:    0.0s finished\n"
     ]
    },
    {
     "name": "stdout",
     "output_type": "stream",
     "text": [
      "Results/RandomForestClassifier.csv\n",
      "0.9365280863218026\n",
      "(7351, 50)\n",
      "Shape of the input Data is (7351, 50)\n",
      "Fitting 3 folds for each of 216 candidates, totalling 648 fits\n"
     ]
    },
    {
     "name": "stderr",
     "output_type": "stream",
     "text": [
      "[Parallel(n_jobs=-1)]: Using backend LokyBackend with 16 concurrent workers.\n",
      "[Parallel(n_jobs=-1)]: Done  96 tasks      | elapsed:   18.0s\n",
      "[Parallel(n_jobs=-1)]: Done 256 tasks      | elapsed:   47.9s\n",
      "[Parallel(n_jobs=-1)]: Done 480 tasks      | elapsed:  2.0min\n",
      "[Parallel(n_jobs=-1)]: Done 648 out of 648 | elapsed:  3.2min finished\n",
      "[Parallel(n_jobs=-1)]: Using backend ThreadingBackend with 16 concurrent workers.\n",
      "[Parallel(n_jobs=-1)]: Done  18 tasks      | elapsed:    0.1s\n",
      "[Parallel(n_jobs=-1)]: Done  50 out of  50 | elapsed:    0.2s finished\n",
      "[Parallel(n_jobs=16)]: Using backend ThreadingBackend with 16 concurrent workers.\n",
      "[Parallel(n_jobs=16)]: Done  18 tasks      | elapsed:    0.0s\n",
      "[Parallel(n_jobs=16)]: Done  50 out of  50 | elapsed:    0.0s finished\n",
      "[Parallel(n_jobs=-1)]: Using backend LokyBackend with 16 concurrent workers.\n"
     ]
    },
    {
     "name": "stdout",
     "output_type": "stream",
     "text": [
      "Results/RandomForestClassifier.csv\n",
      "0.8556013963821009\n",
      "(7351, 50)\n",
      "Shape of the input Data is (7351, 50)\n",
      "Fitting 3 folds for each of 216 candidates, totalling 648 fits\n"
     ]
    },
    {
     "name": "stderr",
     "output_type": "stream",
     "text": [
      "[Parallel(n_jobs=-1)]: Done  96 tasks      | elapsed:   16.5s\n",
      "[Parallel(n_jobs=-1)]: Done 256 tasks      | elapsed:   44.0s\n",
      "[Parallel(n_jobs=-1)]: Done 480 tasks      | elapsed:  1.9min\n",
      "[Parallel(n_jobs=-1)]: Done 648 out of 648 | elapsed:  3.0min finished\n",
      "[Parallel(n_jobs=-1)]: Using backend ThreadingBackend with 16 concurrent workers.\n",
      "[Parallel(n_jobs=-1)]: Done  18 tasks      | elapsed:    0.1s\n",
      "[Parallel(n_jobs=-1)]: Done  50 out of  50 | elapsed:    0.2s finished\n",
      "[Parallel(n_jobs=16)]: Using backend ThreadingBackend with 16 concurrent workers.\n",
      "[Parallel(n_jobs=16)]: Done  18 tasks      | elapsed:    0.0s\n",
      "[Parallel(n_jobs=16)]: Done  50 out of  50 | elapsed:    0.0s finished\n"
     ]
    },
    {
     "name": "stdout",
     "output_type": "stream",
     "text": [
      "Results/RandomForestClassifier.csv\n",
      "0.9079657251666138\n",
      "(7351, 50)\n",
      "Shape of the input Data is (7351, 50)\n",
      "Fitting 3 folds for each of 216 candidates, totalling 648 fits\n"
     ]
    },
    {
     "name": "stderr",
     "output_type": "stream",
     "text": [
      "[Parallel(n_jobs=-1)]: Using backend LokyBackend with 16 concurrent workers.\n",
      "[Parallel(n_jobs=-1)]: Done  96 tasks      | elapsed:   17.7s\n",
      "[Parallel(n_jobs=-1)]: Done 256 tasks      | elapsed:   47.2s\n",
      "[Parallel(n_jobs=-1)]: Done 480 tasks      | elapsed:  2.0min\n",
      "[Parallel(n_jobs=-1)]: Done 648 out of 648 | elapsed:  3.1min finished\n",
      "[Parallel(n_jobs=-1)]: Using backend ThreadingBackend with 16 concurrent workers.\n",
      "[Parallel(n_jobs=-1)]: Done  18 tasks      | elapsed:    0.1s\n",
      "[Parallel(n_jobs=-1)]: Done 125 out of 125 | elapsed:    0.4s finished\n",
      "[Parallel(n_jobs=16)]: Using backend ThreadingBackend with 16 concurrent workers.\n",
      "[Parallel(n_jobs=16)]: Done  18 tasks      | elapsed:    0.0s\n",
      "[Parallel(n_jobs=16)]: Done 125 out of 125 | elapsed:    0.0s finished\n",
      "[Parallel(n_jobs=-1)]: Using backend LokyBackend with 16 concurrent workers.\n"
     ]
    },
    {
     "name": "stdout",
     "output_type": "stream",
     "text": [
      "Results/RandomForestClassifier.csv\n",
      "0.8616312281815297\n",
      "(7351, 50)\n",
      "Shape of the input Data is (7351, 50)\n",
      "Fitting 3 folds for each of 216 candidates, totalling 648 fits\n"
     ]
    },
    {
     "name": "stderr",
     "output_type": "stream",
     "text": [
      "[Parallel(n_jobs=-1)]: Done  96 tasks      | elapsed:   18.6s\n",
      "[Parallel(n_jobs=-1)]: Done 256 tasks      | elapsed:   49.6s\n",
      "[Parallel(n_jobs=-1)]: Done 480 tasks      | elapsed:  2.1min\n",
      "[Parallel(n_jobs=-1)]: Done 648 out of 648 | elapsed:  3.3min finished\n",
      "[Parallel(n_jobs=-1)]: Using backend ThreadingBackend with 16 concurrent workers.\n",
      "[Parallel(n_jobs=-1)]: Done  18 tasks      | elapsed:    0.1s\n",
      "[Parallel(n_jobs=-1)]: Done 125 out of 125 | elapsed:    0.4s finished\n",
      "[Parallel(n_jobs=16)]: Using backend ThreadingBackend with 16 concurrent workers.\n",
      "[Parallel(n_jobs=16)]: Done  18 tasks      | elapsed:    0.0s\n",
      "[Parallel(n_jobs=16)]: Done 125 out of 125 | elapsed:    0.0s finished\n",
      "[Parallel(n_jobs=-1)]: Using backend LokyBackend with 16 concurrent workers.\n"
     ]
    },
    {
     "name": "stdout",
     "output_type": "stream",
     "text": [
      "Results/RandomForestClassifier.csv\n",
      "0.7899079657251666\n",
      "(7351, 50)\n",
      "Shape of the input Data is (7351, 50)\n",
      "Fitting 3 folds for each of 216 candidates, totalling 648 fits\n"
     ]
    },
    {
     "name": "stderr",
     "output_type": "stream",
     "text": [
      "[Parallel(n_jobs=-1)]: Done  96 tasks      | elapsed:   18.0s\n",
      "[Parallel(n_jobs=-1)]: Done 256 tasks      | elapsed:   47.8s\n",
      "[Parallel(n_jobs=-1)]: Done 480 tasks      | elapsed:  2.2min\n",
      "[Parallel(n_jobs=-1)]: Done 648 out of 648 | elapsed:  3.6min finished\n",
      "[Parallel(n_jobs=-1)]: Using backend ThreadingBackend with 16 concurrent workers.\n",
      "[Parallel(n_jobs=-1)]: Done  18 tasks      | elapsed:    0.2s\n",
      "[Parallel(n_jobs=-1)]: Done  50 out of  50 | elapsed:    0.2s finished\n",
      "[Parallel(n_jobs=16)]: Using backend ThreadingBackend with 16 concurrent workers.\n",
      "[Parallel(n_jobs=16)]: Done  18 tasks      | elapsed:    0.0s\n",
      "[Parallel(n_jobs=16)]: Done  50 out of  50 | elapsed:    0.0s finished\n"
     ]
    },
    {
     "name": "stdout",
     "output_type": "stream",
     "text": [
      "Results/RandomForestClassifier.csv\n",
      "0.903205331640749\n",
      "(1744, 600)\n",
      "Shape of the input Data is (1744, 600)\n",
      "Fitting 3 folds for each of 216 candidates, totalling 648 fits\n"
     ]
    },
    {
     "name": "stderr",
     "output_type": "stream",
     "text": [
      "[Parallel(n_jobs=-1)]: Using backend LokyBackend with 16 concurrent workers.\n",
      "[Parallel(n_jobs=-1)]: Done  96 tasks      | elapsed:    8.0s\n",
      "[Parallel(n_jobs=-1)]: Done 256 tasks      | elapsed:   20.8s\n",
      "[Parallel(n_jobs=-1)]: Done 480 tasks      | elapsed:   43.4s\n",
      "[Parallel(n_jobs=-1)]: Done 648 out of 648 | elapsed:  1.0min finished\n",
      "[Parallel(n_jobs=-1)]: Using backend ThreadingBackend with 16 concurrent workers.\n",
      "[Parallel(n_jobs=-1)]: Done  18 tasks      | elapsed:    0.0s\n",
      "[Parallel(n_jobs=-1)]: Done 125 out of 125 | elapsed:    0.2s finished\n",
      "[Parallel(n_jobs=16)]: Using backend ThreadingBackend with 16 concurrent workers.\n",
      "[Parallel(n_jobs=16)]: Done  18 tasks      | elapsed:    0.0s\n",
      "[Parallel(n_jobs=16)]: Done 125 out of 125 | elapsed:    0.0s finished\n"
     ]
    },
    {
     "name": "stdout",
     "output_type": "stream",
     "text": [
      "Results/RandomForestClassifier.csv\n",
      "0.9344919786096256\n",
      "(1744, 600)\n",
      "Shape of the input Data is (1744, 600)\n",
      "Fitting 3 folds for each of 216 candidates, totalling 648 fits\n"
     ]
    },
    {
     "name": "stderr",
     "output_type": "stream",
     "text": [
      "[Parallel(n_jobs=-1)]: Using backend LokyBackend with 16 concurrent workers.\n",
      "[Parallel(n_jobs=-1)]: Done  96 tasks      | elapsed:    8.1s\n",
      "[Parallel(n_jobs=-1)]: Done 256 tasks      | elapsed:   21.4s\n",
      "[Parallel(n_jobs=-1)]: Done 480 tasks      | elapsed:   44.6s\n",
      "[Parallel(n_jobs=-1)]: Done 648 out of 648 | elapsed:  1.1min finished\n",
      "[Parallel(n_jobs=-1)]: Using backend ThreadingBackend with 16 concurrent workers.\n",
      "[Parallel(n_jobs=-1)]: Done  18 tasks      | elapsed:    0.1s\n",
      "[Parallel(n_jobs=-1)]: Done 168 tasks      | elapsed:    0.2s\n",
      "[Parallel(n_jobs=-1)]: Done 250 out of 250 | elapsed:    0.3s finished\n",
      "[Parallel(n_jobs=16)]: Using backend ThreadingBackend with 16 concurrent workers.\n",
      "[Parallel(n_jobs=16)]: Done  18 tasks      | elapsed:    0.0s\n",
      "[Parallel(n_jobs=16)]: Done 168 tasks      | elapsed:    0.0s\n",
      "[Parallel(n_jobs=16)]: Done 250 out of 250 | elapsed:    0.0s finished\n",
      "[Parallel(n_jobs=-1)]: Using backend LokyBackend with 16 concurrent workers.\n"
     ]
    },
    {
     "name": "stdout",
     "output_type": "stream",
     "text": [
      "Results/RandomForestClassifier.csv\n",
      "0.8529411764705882\n",
      "(1744, 600)\n",
      "Shape of the input Data is (1744, 600)\n",
      "Fitting 3 folds for each of 216 candidates, totalling 648 fits\n"
     ]
    },
    {
     "name": "stderr",
     "output_type": "stream",
     "text": [
      "[Parallel(n_jobs=-1)]: Done  96 tasks      | elapsed:    8.1s\n",
      "[Parallel(n_jobs=-1)]: Done 256 tasks      | elapsed:   20.9s\n",
      "[Parallel(n_jobs=-1)]: Done 480 tasks      | elapsed:   44.1s\n",
      "[Parallel(n_jobs=-1)]: Done 648 out of 648 | elapsed:  1.1min finished\n",
      "[Parallel(n_jobs=-1)]: Using backend ThreadingBackend with 16 concurrent workers.\n",
      "[Parallel(n_jobs=-1)]: Done  18 tasks      | elapsed:    0.1s\n",
      "[Parallel(n_jobs=-1)]: Done 125 out of 125 | elapsed:    0.2s finished\n",
      "[Parallel(n_jobs=16)]: Using backend ThreadingBackend with 16 concurrent workers.\n",
      "[Parallel(n_jobs=16)]: Done  18 tasks      | elapsed:    0.0s\n",
      "[Parallel(n_jobs=16)]: Done 125 out of 125 | elapsed:    0.0s finished\n"
     ]
    },
    {
     "name": "stdout",
     "output_type": "stream",
     "text": [
      "Results/RandomForestClassifier.csv\n",
      "0.893048128342246\n",
      "(7351, 100)\n",
      "Shape of the input Data is (7351, 100)\n",
      "Fitting 3 folds for each of 216 candidates, totalling 648 fits\n"
     ]
    },
    {
     "name": "stderr",
     "output_type": "stream",
     "text": [
      "[Parallel(n_jobs=-1)]: Using backend LokyBackend with 16 concurrent workers.\n",
      "[Parallel(n_jobs=-1)]: Done  96 tasks      | elapsed:   17.2s\n",
      "[Parallel(n_jobs=-1)]: Done 256 tasks      | elapsed:   45.2s\n",
      "[Parallel(n_jobs=-1)]: Done 480 tasks      | elapsed:  1.9min\n",
      "[Parallel(n_jobs=-1)]: Done 648 out of 648 | elapsed:  3.0min finished\n",
      "[Parallel(n_jobs=-1)]: Using backend ThreadingBackend with 16 concurrent workers.\n",
      "[Parallel(n_jobs=-1)]: Done  18 tasks      | elapsed:    0.1s\n",
      "[Parallel(n_jobs=-1)]: Done 168 tasks      | elapsed:    0.4s\n",
      "[Parallel(n_jobs=-1)]: Done 250 out of 250 | elapsed:    0.6s finished\n",
      "[Parallel(n_jobs=16)]: Using backend ThreadingBackend with 16 concurrent workers.\n",
      "[Parallel(n_jobs=16)]: Done  18 tasks      | elapsed:    0.0s\n",
      "[Parallel(n_jobs=16)]: Done 168 tasks      | elapsed:    0.0s\n",
      "[Parallel(n_jobs=16)]: Done 250 out of 250 | elapsed:    0.1s finished\n",
      "[Parallel(n_jobs=-1)]: Using backend LokyBackend with 16 concurrent workers.\n"
     ]
    },
    {
     "name": "stdout",
     "output_type": "stream",
     "text": [
      "Results/RandomForestClassifier.csv\n",
      "0.9377975245953666\n",
      "(7351, 100)\n",
      "Shape of the input Data is (7351, 100)\n",
      "Fitting 3 folds for each of 216 candidates, totalling 648 fits\n"
     ]
    },
    {
     "name": "stderr",
     "output_type": "stream",
     "text": [
      "[Parallel(n_jobs=-1)]: Done  96 tasks      | elapsed:   18.9s\n",
      "[Parallel(n_jobs=-1)]: Done 256 tasks      | elapsed:   49.4s\n",
      "[Parallel(n_jobs=-1)]: Done 480 tasks      | elapsed:  2.1min\n",
      "[Parallel(n_jobs=-1)]: Done 648 out of 648 | elapsed:  3.2min finished\n",
      "[Parallel(n_jobs=-1)]: Using backend ThreadingBackend with 16 concurrent workers.\n",
      "[Parallel(n_jobs=-1)]: Done  18 tasks      | elapsed:    0.1s\n",
      "[Parallel(n_jobs=-1)]: Done 125 out of 125 | elapsed:    0.4s finished\n",
      "[Parallel(n_jobs=16)]: Using backend ThreadingBackend with 16 concurrent workers.\n",
      "[Parallel(n_jobs=16)]: Done  18 tasks      | elapsed:    0.0s\n",
      "[Parallel(n_jobs=16)]: Done 125 out of 125 | elapsed:    0.0s finished\n",
      "[Parallel(n_jobs=-1)]: Using backend LokyBackend with 16 concurrent workers.\n"
     ]
    },
    {
     "name": "stdout",
     "output_type": "stream",
     "text": [
      "Results/RandomForestClassifier.csv\n",
      "0.8625833068867026\n",
      "(7351, 100)\n",
      "Shape of the input Data is (7351, 100)\n",
      "Fitting 3 folds for each of 216 candidates, totalling 648 fits\n"
     ]
    },
    {
     "name": "stderr",
     "output_type": "stream",
     "text": [
      "[Parallel(n_jobs=-1)]: Done  96 tasks      | elapsed:   17.1s\n",
      "[Parallel(n_jobs=-1)]: Done 256 tasks      | elapsed:   45.7s\n",
      "[Parallel(n_jobs=-1)]: Done 480 tasks      | elapsed:  2.0min\n",
      "[Parallel(n_jobs=-1)]: Done 648 out of 648 | elapsed:  3.2min finished\n",
      "[Parallel(n_jobs=-1)]: Using backend ThreadingBackend with 16 concurrent workers.\n",
      "[Parallel(n_jobs=-1)]: Done  18 tasks      | elapsed:    0.1s\n",
      "[Parallel(n_jobs=-1)]: Done 125 out of 125 | elapsed:    0.4s finished\n",
      "[Parallel(n_jobs=16)]: Using backend ThreadingBackend with 16 concurrent workers.\n",
      "[Parallel(n_jobs=16)]: Done  18 tasks      | elapsed:    0.0s\n",
      "[Parallel(n_jobs=16)]: Done 125 out of 125 | elapsed:    0.0s finished\n",
      "[Parallel(n_jobs=-1)]: Using backend LokyBackend with 16 concurrent workers.\n"
     ]
    },
    {
     "name": "stdout",
     "output_type": "stream",
     "text": [
      "Results/RandomForestClassifier.csv\n",
      "0.9111393208505236\n",
      "(1121, 450)\n",
      "Shape of the input Data is (1121, 450)\n",
      "Fitting 3 folds for each of 216 candidates, totalling 648 fits\n"
     ]
    },
    {
     "name": "stderr",
     "output_type": "stream",
     "text": [
      "[Parallel(n_jobs=-1)]: Done  96 tasks      | elapsed:    6.6s\n",
      "[Parallel(n_jobs=-1)]: Done 256 tasks      | elapsed:   17.2s\n",
      "[Parallel(n_jobs=-1)]: Done 480 tasks      | elapsed:   34.8s\n",
      "[Parallel(n_jobs=-1)]: Done 648 out of 648 | elapsed:   49.3s finished\n",
      "[Parallel(n_jobs=-1)]: Using backend ThreadingBackend with 16 concurrent workers.\n",
      "[Parallel(n_jobs=-1)]: Done  18 tasks      | elapsed:    0.0s\n",
      "[Parallel(n_jobs=-1)]: Done  50 out of  50 | elapsed:    0.1s finished\n",
      "[Parallel(n_jobs=16)]: Using backend ThreadingBackend with 16 concurrent workers.\n",
      "[Parallel(n_jobs=16)]: Done  18 tasks      | elapsed:    0.0s\n",
      "[Parallel(n_jobs=16)]: Done  50 out of  50 | elapsed:    0.0s finished\n",
      "[Parallel(n_jobs=-1)]: Using backend LokyBackend with 16 concurrent workers.\n"
     ]
    },
    {
     "name": "stdout",
     "output_type": "stream",
     "text": [
      "Results/RandomForestClassifier.csv\n",
      "0.9126819126819127\n",
      "(1121, 450)\n",
      "Shape of the input Data is (1121, 450)\n",
      "Fitting 3 folds for each of 216 candidates, totalling 648 fits\n"
     ]
    },
    {
     "name": "stderr",
     "output_type": "stream",
     "text": [
      "[Parallel(n_jobs=-1)]: Done  96 tasks      | elapsed:    6.8s\n",
      "[Parallel(n_jobs=-1)]: Done 256 tasks      | elapsed:   17.6s\n",
      "[Parallel(n_jobs=-1)]: Done 480 tasks      | elapsed:   35.5s\n",
      "[Parallel(n_jobs=-1)]: Done 648 out of 648 | elapsed:   50.5s finished\n",
      "[Parallel(n_jobs=-1)]: Using backend ThreadingBackend with 16 concurrent workers.\n",
      "[Parallel(n_jobs=-1)]: Done  18 tasks      | elapsed:    0.0s\n",
      "[Parallel(n_jobs=-1)]: Done 168 tasks      | elapsed:    0.2s\n",
      "[Parallel(n_jobs=-1)]: Done 250 out of 250 | elapsed:    0.3s finished\n",
      "[Parallel(n_jobs=16)]: Using backend ThreadingBackend with 16 concurrent workers.\n",
      "[Parallel(n_jobs=16)]: Done  18 tasks      | elapsed:    0.0s\n",
      "[Parallel(n_jobs=16)]: Done 168 tasks      | elapsed:    0.0s\n",
      "[Parallel(n_jobs=16)]: Done 250 out of 250 | elapsed:    0.1s finished\n",
      "[Parallel(n_jobs=-1)]: Using backend LokyBackend with 16 concurrent workers.\n"
     ]
    },
    {
     "name": "stdout",
     "output_type": "stream",
     "text": [
      "Results/RandomForestClassifier.csv\n",
      "0.8274428274428275\n",
      "(1121, 450)\n",
      "Shape of the input Data is (1121, 450)\n",
      "Fitting 3 folds for each of 216 candidates, totalling 648 fits\n"
     ]
    },
    {
     "name": "stderr",
     "output_type": "stream",
     "text": [
      "[Parallel(n_jobs=-1)]: Done  96 tasks      | elapsed:    6.4s\n",
      "[Parallel(n_jobs=-1)]: Done 256 tasks      | elapsed:   17.3s\n",
      "[Parallel(n_jobs=-1)]: Done 480 tasks      | elapsed:   35.1s\n",
      "[Parallel(n_jobs=-1)]: Done 648 out of 648 | elapsed:   50.8s finished\n",
      "[Parallel(n_jobs=-1)]: Using backend ThreadingBackend with 16 concurrent workers.\n",
      "[Parallel(n_jobs=-1)]: Done  18 tasks      | elapsed:    0.0s\n",
      "[Parallel(n_jobs=-1)]: Done 125 out of 125 | elapsed:    0.1s finished\n",
      "[Parallel(n_jobs=16)]: Using backend ThreadingBackend with 16 concurrent workers.\n",
      "[Parallel(n_jobs=16)]: Done  18 tasks      | elapsed:    0.0s\n",
      "[Parallel(n_jobs=16)]: Done 125 out of 125 | elapsed:    0.0s finished\n"
     ]
    },
    {
     "name": "stdout",
     "output_type": "stream",
     "text": [
      "Results/RandomForestClassifier.csv\n",
      "0.9106029106029107\n",
      "(1121, 450)\n",
      "Shape of the input Data is (1121, 450)\n",
      "Fitting 3 folds for each of 216 candidates, totalling 648 fits\n"
     ]
    },
    {
     "name": "stderr",
     "output_type": "stream",
     "text": [
      "[Parallel(n_jobs=-1)]: Using backend LokyBackend with 16 concurrent workers.\n",
      "[Parallel(n_jobs=-1)]: Done  96 tasks      | elapsed:    6.7s\n",
      "[Parallel(n_jobs=-1)]: Done 256 tasks      | elapsed:   17.6s\n",
      "[Parallel(n_jobs=-1)]: Done 480 tasks      | elapsed:   35.3s\n",
      "[Parallel(n_jobs=-1)]: Done 648 out of 648 | elapsed:   50.2s finished\n",
      "[Parallel(n_jobs=-1)]: Using backend ThreadingBackend with 16 concurrent workers.\n",
      "[Parallel(n_jobs=-1)]: Done  18 tasks      | elapsed:    0.0s\n",
      "[Parallel(n_jobs=-1)]: Done  50 out of  50 | elapsed:    0.1s finished\n",
      "[Parallel(n_jobs=16)]: Using backend ThreadingBackend with 16 concurrent workers.\n",
      "[Parallel(n_jobs=16)]: Done  18 tasks      | elapsed:    0.0s\n",
      "[Parallel(n_jobs=16)]: Done  50 out of  50 | elapsed:    0.0s finished\n",
      "[Parallel(n_jobs=-1)]: Using backend LokyBackend with 16 concurrent workers.\n"
     ]
    },
    {
     "name": "stdout",
     "output_type": "stream",
     "text": [
      "Results/RandomForestClassifier.csv\n",
      "0.8981288981288982\n",
      "(1121, 450)\n",
      "Shape of the input Data is (1121, 450)\n",
      "Fitting 3 folds for each of 216 candidates, totalling 648 fits\n"
     ]
    },
    {
     "name": "stderr",
     "output_type": "stream",
     "text": [
      "[Parallel(n_jobs=-1)]: Done  96 tasks      | elapsed:    6.9s\n",
      "[Parallel(n_jobs=-1)]: Done 256 tasks      | elapsed:   18.0s\n",
      "[Parallel(n_jobs=-1)]: Done 480 tasks      | elapsed:   36.6s\n",
      "[Parallel(n_jobs=-1)]: Done 648 out of 648 | elapsed:   52.2s finished\n",
      "[Parallel(n_jobs=-1)]: Using backend ThreadingBackend with 16 concurrent workers.\n",
      "[Parallel(n_jobs=-1)]: Done  18 tasks      | elapsed:    0.0s\n",
      "[Parallel(n_jobs=-1)]: Done 168 tasks      | elapsed:    0.2s\n",
      "[Parallel(n_jobs=-1)]: Done 418 tasks      | elapsed:    0.4s\n",
      "[Parallel(n_jobs=-1)]: Done 768 tasks      | elapsed:    0.7s\n",
      "[Parallel(n_jobs=-1)]: Done 900 out of 900 | elapsed:    0.8s finished\n",
      "[Parallel(n_jobs=16)]: Using backend ThreadingBackend with 16 concurrent workers.\n",
      "[Parallel(n_jobs=16)]: Done  18 tasks      | elapsed:    0.0s\n",
      "[Parallel(n_jobs=16)]: Done 168 tasks      | elapsed:    0.0s\n",
      "[Parallel(n_jobs=16)]: Done 418 tasks      | elapsed:    0.1s\n",
      "[Parallel(n_jobs=16)]: Done 768 tasks      | elapsed:    0.1s\n",
      "[Parallel(n_jobs=16)]: Done 900 out of 900 | elapsed:    0.2s finished\n"
     ]
    },
    {
     "name": "stdout",
     "output_type": "stream",
     "text": [
      "Results/RandomForestClassifier.csv\n",
      "0.7941787941787942\n",
      "(1121, 450)\n",
      "Shape of the input Data is (1121, 450)\n",
      "Fitting 3 folds for each of 216 candidates, totalling 648 fits\n"
     ]
    },
    {
     "name": "stderr",
     "output_type": "stream",
     "text": [
      "[Parallel(n_jobs=-1)]: Using backend LokyBackend with 16 concurrent workers.\n",
      "[Parallel(n_jobs=-1)]: Done  96 tasks      | elapsed:    6.7s\n",
      "[Parallel(n_jobs=-1)]: Done 256 tasks      | elapsed:   17.8s\n",
      "[Parallel(n_jobs=-1)]: Done 480 tasks      | elapsed:   36.3s\n",
      "[Parallel(n_jobs=-1)]: Done 648 out of 648 | elapsed:   52.2s finished\n",
      "[Parallel(n_jobs=-1)]: Using backend ThreadingBackend with 16 concurrent workers.\n",
      "[Parallel(n_jobs=-1)]: Done  18 tasks      | elapsed:    0.0s\n",
      "[Parallel(n_jobs=-1)]: Done  50 out of  50 | elapsed:    0.1s finished\n",
      "[Parallel(n_jobs=16)]: Using backend ThreadingBackend with 16 concurrent workers.\n",
      "[Parallel(n_jobs=16)]: Done  18 tasks      | elapsed:    0.0s\n",
      "[Parallel(n_jobs=16)]: Done  50 out of  50 | elapsed:    0.0s finished\n",
      "[Parallel(n_jobs=-1)]: Using backend LokyBackend with 16 concurrent workers.\n"
     ]
    },
    {
     "name": "stdout",
     "output_type": "stream",
     "text": [
      "Results/RandomForestClassifier.csv\n",
      "0.9168399168399168\n",
      "(7351, 50)\n",
      "Shape of the input Data is (7351, 50)\n",
      "Fitting 3 folds for each of 216 candidates, totalling 648 fits\n"
     ]
    },
    {
     "name": "stderr",
     "output_type": "stream",
     "text": [
      "[Parallel(n_jobs=-1)]: Done  96 tasks      | elapsed:   17.4s\n",
      "[Parallel(n_jobs=-1)]: Done 256 tasks      | elapsed:   46.5s\n",
      "[Parallel(n_jobs=-1)]: Done 480 tasks      | elapsed:  2.0min\n",
      "[Parallel(n_jobs=-1)]: Done 648 out of 648 | elapsed:  3.2min finished\n",
      "[Parallel(n_jobs=-1)]: Using backend ThreadingBackend with 16 concurrent workers.\n",
      "[Parallel(n_jobs=-1)]: Done  18 tasks      | elapsed:    0.1s\n",
      "[Parallel(n_jobs=-1)]: Done 168 tasks      | elapsed:    0.4s\n",
      "[Parallel(n_jobs=-1)]: Done 250 out of 250 | elapsed:    0.6s finished\n",
      "[Parallel(n_jobs=16)]: Using backend ThreadingBackend with 16 concurrent workers.\n",
      "[Parallel(n_jobs=16)]: Done  18 tasks      | elapsed:    0.0s\n",
      "[Parallel(n_jobs=16)]: Done 168 tasks      | elapsed:    0.1s\n",
      "[Parallel(n_jobs=16)]: Done 250 out of 250 | elapsed:    0.1s finished\n",
      "[Parallel(n_jobs=-1)]: Using backend LokyBackend with 16 concurrent workers.\n"
     ]
    },
    {
     "name": "stdout",
     "output_type": "stream",
     "text": [
      "Results/RandomForestClassifier.csv\n",
      "0.9400190415741034\n",
      "(7351, 50)\n",
      "Shape of the input Data is (7351, 50)\n",
      "Fitting 3 folds for each of 216 candidates, totalling 648 fits\n"
     ]
    },
    {
     "name": "stderr",
     "output_type": "stream",
     "text": [
      "[Parallel(n_jobs=-1)]: Done  96 tasks      | elapsed:   18.1s\n",
      "[Parallel(n_jobs=-1)]: Done 256 tasks      | elapsed:   48.1s\n",
      "[Parallel(n_jobs=-1)]: Done 480 tasks      | elapsed:  2.0min\n",
      "[Parallel(n_jobs=-1)]: Done 648 out of 648 | elapsed:  3.2min finished\n",
      "[Parallel(n_jobs=-1)]: Using backend ThreadingBackend with 16 concurrent workers.\n",
      "[Parallel(n_jobs=-1)]: Done  18 tasks      | elapsed:    0.1s\n",
      "[Parallel(n_jobs=-1)]: Done 168 tasks      | elapsed:    0.4s\n",
      "[Parallel(n_jobs=-1)]: Done 250 out of 250 | elapsed:    0.6s finished\n",
      "[Parallel(n_jobs=16)]: Using backend ThreadingBackend with 16 concurrent workers.\n",
      "[Parallel(n_jobs=16)]: Done  18 tasks      | elapsed:    0.0s\n",
      "[Parallel(n_jobs=16)]: Done 168 tasks      | elapsed:    0.0s\n",
      "[Parallel(n_jobs=16)]: Done 250 out of 250 | elapsed:    0.1s finished\n",
      "[Parallel(n_jobs=-1)]: Using backend LokyBackend with 16 concurrent workers.\n"
     ]
    },
    {
     "name": "stdout",
     "output_type": "stream",
     "text": [
      "Results/RandomForestClassifier.csv\n",
      "0.8565534750872739\n",
      "(7351, 50)\n",
      "Shape of the input Data is (7351, 50)\n",
      "Fitting 3 folds for each of 216 candidates, totalling 648 fits\n"
     ]
    },
    {
     "name": "stderr",
     "output_type": "stream",
     "text": [
      "[Parallel(n_jobs=-1)]: Done  96 tasks      | elapsed:   16.6s\n",
      "[Parallel(n_jobs=-1)]: Done 256 tasks      | elapsed:   43.9s\n",
      "[Parallel(n_jobs=-1)]: Done 480 tasks      | elapsed:  1.9min\n",
      "[Parallel(n_jobs=-1)]: Done 648 out of 648 | elapsed:  3.0min finished\n",
      "[Parallel(n_jobs=-1)]: Using backend ThreadingBackend with 16 concurrent workers.\n",
      "[Parallel(n_jobs=-1)]: Done  18 tasks      | elapsed:    0.1s\n",
      "[Parallel(n_jobs=-1)]: Done  50 out of  50 | elapsed:    0.2s finished\n",
      "[Parallel(n_jobs=16)]: Using backend ThreadingBackend with 16 concurrent workers.\n",
      "[Parallel(n_jobs=16)]: Done  18 tasks      | elapsed:    0.0s\n",
      "[Parallel(n_jobs=16)]: Done  50 out of  50 | elapsed:    0.0s finished\n"
     ]
    },
    {
     "name": "stdout",
     "output_type": "stream",
     "text": [
      "Results/RandomForestClassifier.csv\n",
      "0.9114566804189146\n",
      "(7351, 50)\n",
      "Shape of the input Data is (7351, 50)\n",
      "Fitting 3 folds for each of 216 candidates, totalling 648 fits\n"
     ]
    },
    {
     "name": "stderr",
     "output_type": "stream",
     "text": [
      "[Parallel(n_jobs=-1)]: Using backend LokyBackend with 16 concurrent workers.\n",
      "[Parallel(n_jobs=-1)]: Done  96 tasks      | elapsed:   17.7s\n",
      "[Parallel(n_jobs=-1)]: Done 256 tasks      | elapsed:   47.3s\n",
      "[Parallel(n_jobs=-1)]: Done 480 tasks      | elapsed:  2.0min\n",
      "[Parallel(n_jobs=-1)]: Done 648 out of 648 | elapsed:  3.1min finished\n",
      "[Parallel(n_jobs=-1)]: Using backend ThreadingBackend with 16 concurrent workers.\n",
      "[Parallel(n_jobs=-1)]: Done  18 tasks      | elapsed:    0.1s\n",
      "[Parallel(n_jobs=-1)]: Done 168 tasks      | elapsed:    0.4s\n",
      "[Parallel(n_jobs=-1)]: Done 418 tasks      | elapsed:    0.9s\n",
      "[Parallel(n_jobs=-1)]: Done 768 tasks      | elapsed:    1.6s\n",
      "[Parallel(n_jobs=-1)]: Done 900 out of 900 | elapsed:    1.9s finished\n",
      "[Parallel(n_jobs=16)]: Using backend ThreadingBackend with 16 concurrent workers.\n",
      "[Parallel(n_jobs=16)]: Done  18 tasks      | elapsed:    0.0s\n",
      "[Parallel(n_jobs=16)]: Done 168 tasks      | elapsed:    0.1s\n",
      "[Parallel(n_jobs=16)]: Done 418 tasks      | elapsed:    0.1s\n",
      "[Parallel(n_jobs=16)]: Done 768 tasks      | elapsed:    0.2s\n",
      "[Parallel(n_jobs=16)]: Done 900 out of 900 | elapsed:    0.2s finished\n",
      "[Parallel(n_jobs=-1)]: Using backend LokyBackend with 16 concurrent workers.\n"
     ]
    },
    {
     "name": "stdout",
     "output_type": "stream",
     "text": [
      "Results/RandomForestClassifier.csv\n",
      "0.8625833068867026\n",
      "(7351, 50)\n",
      "Shape of the input Data is (7351, 50)\n",
      "Fitting 3 folds for each of 216 candidates, totalling 648 fits\n"
     ]
    },
    {
     "name": "stderr",
     "output_type": "stream",
     "text": [
      "[Parallel(n_jobs=-1)]: Done  96 tasks      | elapsed:   18.4s\n",
      "[Parallel(n_jobs=-1)]: Done 256 tasks      | elapsed:   49.5s\n",
      "[Parallel(n_jobs=-1)]: Done 480 tasks      | elapsed:  2.1min\n",
      "[Parallel(n_jobs=-1)]: Done 648 out of 648 | elapsed:  3.3min finished\n",
      "[Parallel(n_jobs=-1)]: Using backend ThreadingBackend with 16 concurrent workers.\n",
      "[Parallel(n_jobs=-1)]: Done  18 tasks      | elapsed:    0.1s\n",
      "[Parallel(n_jobs=-1)]: Done 168 tasks      | elapsed:    0.5s\n",
      "[Parallel(n_jobs=-1)]: Done 250 out of 250 | elapsed:    0.6s finished\n",
      "[Parallel(n_jobs=16)]: Using backend ThreadingBackend with 16 concurrent workers.\n",
      "[Parallel(n_jobs=16)]: Done  18 tasks      | elapsed:    0.0s\n",
      "[Parallel(n_jobs=16)]: Done 168 tasks      | elapsed:    0.1s\n",
      "[Parallel(n_jobs=16)]: Done 250 out of 250 | elapsed:    0.1s finished\n",
      "[Parallel(n_jobs=-1)]: Using backend LokyBackend with 16 concurrent workers.\n"
     ]
    },
    {
     "name": "stdout",
     "output_type": "stream",
     "text": [
      "Results/RandomForestClassifier.csv\n",
      "0.7940336401142495\n",
      "(7351, 50)\n",
      "Shape of the input Data is (7351, 50)\n",
      "Fitting 3 folds for each of 216 candidates, totalling 648 fits\n"
     ]
    },
    {
     "name": "stderr",
     "output_type": "stream",
     "text": [
      "[Parallel(n_jobs=-1)]: Done  96 tasks      | elapsed:   17.9s\n",
      "[Parallel(n_jobs=-1)]: Done 256 tasks      | elapsed:   47.9s\n",
      "[Parallel(n_jobs=-1)]: Done 480 tasks      | elapsed:  2.2min\n",
      "[Parallel(n_jobs=-1)]: Done 648 out of 648 | elapsed:  3.6min finished\n",
      "[Parallel(n_jobs=-1)]: Using backend ThreadingBackend with 16 concurrent workers.\n",
      "[Parallel(n_jobs=-1)]: Done  18 tasks      | elapsed:    0.1s\n",
      "[Parallel(n_jobs=-1)]: Done 125 out of 125 | elapsed:    0.4s finished\n",
      "[Parallel(n_jobs=16)]: Using backend ThreadingBackend with 16 concurrent workers.\n",
      "[Parallel(n_jobs=16)]: Done  18 tasks      | elapsed:    0.0s\n",
      "[Parallel(n_jobs=16)]: Done 125 out of 125 | elapsed:    0.0s finished\n"
     ]
    },
    {
     "name": "stdout",
     "output_type": "stream",
     "text": [
      "Results/RandomForestClassifier.csv\n",
      "0.9028879720723579\n",
      "(1121, 900)\n",
      "Shape of the input Data is (1121, 900)\n",
      "Fitting 3 folds for each of 216 candidates, totalling 648 fits\n"
     ]
    },
    {
     "name": "stderr",
     "output_type": "stream",
     "text": [
      "[Parallel(n_jobs=-1)]: Using backend LokyBackend with 16 concurrent workers.\n",
      "[Parallel(n_jobs=-1)]: Done  96 tasks      | elapsed:    7.2s\n",
      "[Parallel(n_jobs=-1)]: Done 256 tasks      | elapsed:   18.5s\n",
      "[Parallel(n_jobs=-1)]: Done 480 tasks      | elapsed:   37.3s\n",
      "[Parallel(n_jobs=-1)]: Done 648 out of 648 | elapsed:   52.7s finished\n",
      "[Parallel(n_jobs=-1)]: Using backend ThreadingBackend with 16 concurrent workers.\n",
      "[Parallel(n_jobs=-1)]: Done  18 tasks      | elapsed:    0.0s\n",
      "[Parallel(n_jobs=-1)]: Done 125 out of 125 | elapsed:    0.2s finished\n",
      "[Parallel(n_jobs=16)]: Using backend ThreadingBackend with 16 concurrent workers.\n",
      "[Parallel(n_jobs=16)]: Done  18 tasks      | elapsed:    0.0s\n",
      "[Parallel(n_jobs=16)]: Done 125 out of 125 | elapsed:    0.0s finished\n"
     ]
    },
    {
     "name": "stdout",
     "output_type": "stream",
     "text": [
      "Results/RandomForestClassifier.csv\n",
      "0.9002079002079002\n",
      "(1121, 900)\n",
      "Shape of the input Data is (1121, 900)\n",
      "Fitting 3 folds for each of 216 candidates, totalling 648 fits\n"
     ]
    },
    {
     "name": "stderr",
     "output_type": "stream",
     "text": [
      "[Parallel(n_jobs=-1)]: Using backend LokyBackend with 16 concurrent workers.\n",
      "[Parallel(n_jobs=-1)]: Done  96 tasks      | elapsed:    7.1s\n",
      "[Parallel(n_jobs=-1)]: Done 256 tasks      | elapsed:   18.8s\n",
      "[Parallel(n_jobs=-1)]: Done 480 tasks      | elapsed:   38.3s\n",
      "[Parallel(n_jobs=-1)]: Done 648 out of 648 | elapsed:   54.7s finished\n",
      "[Parallel(n_jobs=-1)]: Using backend ThreadingBackend with 16 concurrent workers.\n",
      "[Parallel(n_jobs=-1)]: Done  18 tasks      | elapsed:    0.0s\n",
      "[Parallel(n_jobs=-1)]: Done 125 out of 125 | elapsed:    0.2s finished\n",
      "[Parallel(n_jobs=16)]: Using backend ThreadingBackend with 16 concurrent workers.\n",
      "[Parallel(n_jobs=16)]: Done  18 tasks      | elapsed:    0.0s\n",
      "[Parallel(n_jobs=16)]: Done 125 out of 125 | elapsed:    0.0s finished\n"
     ]
    },
    {
     "name": "stdout",
     "output_type": "stream",
     "text": [
      "Results/RandomForestClassifier.csv\n",
      "0.8066528066528067\n",
      "(1121, 900)\n",
      "Shape of the input Data is (1121, 900)\n",
      "Fitting 3 folds for each of 216 candidates, totalling 648 fits\n"
     ]
    },
    {
     "name": "stderr",
     "output_type": "stream",
     "text": [
      "[Parallel(n_jobs=-1)]: Using backend LokyBackend with 16 concurrent workers.\n",
      "[Parallel(n_jobs=-1)]: Done  96 tasks      | elapsed:    7.4s\n",
      "[Parallel(n_jobs=-1)]: Done 256 tasks      | elapsed:   18.7s\n",
      "[Parallel(n_jobs=-1)]: Done 480 tasks      | elapsed:   38.6s\n",
      "[Parallel(n_jobs=-1)]: Done 648 out of 648 | elapsed:   55.6s finished\n",
      "[Parallel(n_jobs=-1)]: Using backend ThreadingBackend with 16 concurrent workers.\n",
      "[Parallel(n_jobs=-1)]: Done  18 tasks      | elapsed:    0.0s\n",
      "[Parallel(n_jobs=-1)]: Done 168 tasks      | elapsed:    0.2s\n",
      "[Parallel(n_jobs=-1)]: Done 250 out of 250 | elapsed:    0.3s finished\n",
      "[Parallel(n_jobs=16)]: Using backend ThreadingBackend with 16 concurrent workers.\n",
      "[Parallel(n_jobs=16)]: Done  18 tasks      | elapsed:    0.0s\n",
      "[Parallel(n_jobs=16)]: Done 168 tasks      | elapsed:    0.0s\n",
      "[Parallel(n_jobs=16)]: Done 250 out of 250 | elapsed:    0.0s finished\n"
     ]
    },
    {
     "name": "stdout",
     "output_type": "stream",
     "text": [
      "Results/RandomForestClassifier.csv\n",
      "0.920997920997921\n",
      "(7351, 100)\n",
      "Shape of the input Data is (7351, 100)\n",
      "Fitting 3 folds for each of 216 candidates, totalling 648 fits\n"
     ]
    },
    {
     "name": "stderr",
     "output_type": "stream",
     "text": [
      "[Parallel(n_jobs=-1)]: Using backend LokyBackend with 16 concurrent workers.\n",
      "[Parallel(n_jobs=-1)]: Done  96 tasks      | elapsed:   17.3s\n",
      "[Parallel(n_jobs=-1)]: Done 256 tasks      | elapsed:   45.4s\n",
      "[Parallel(n_jobs=-1)]: Done 480 tasks      | elapsed:  1.9min\n",
      "[Parallel(n_jobs=-1)]: Done 648 out of 648 | elapsed:  3.0min finished\n",
      "[Parallel(n_jobs=-1)]: Using backend ThreadingBackend with 16 concurrent workers.\n",
      "[Parallel(n_jobs=-1)]: Done  18 tasks      | elapsed:    0.1s\n",
      "[Parallel(n_jobs=-1)]: Done  50 out of  50 | elapsed:    0.2s finished\n",
      "[Parallel(n_jobs=16)]: Using backend ThreadingBackend with 16 concurrent workers.\n",
      "[Parallel(n_jobs=16)]: Done  18 tasks      | elapsed:    0.0s\n",
      "[Parallel(n_jobs=16)]: Done  50 out of  50 | elapsed:    0.0s finished\n",
      "[Parallel(n_jobs=-1)]: Using backend LokyBackend with 16 concurrent workers.\n"
     ]
    },
    {
     "name": "stdout",
     "output_type": "stream",
     "text": [
      "Results/RandomForestClassifier.csv\n",
      "0.9365280863218026\n",
      "(7351, 100)\n",
      "Shape of the input Data is (7351, 100)\n",
      "Fitting 3 folds for each of 216 candidates, totalling 648 fits\n"
     ]
    },
    {
     "name": "stderr",
     "output_type": "stream",
     "text": [
      "[Parallel(n_jobs=-1)]: Done  96 tasks      | elapsed:   18.7s\n",
      "[Parallel(n_jobs=-1)]: Done 256 tasks      | elapsed:   49.5s\n",
      "[Parallel(n_jobs=-1)]: Done 480 tasks      | elapsed:  2.1min\n",
      "[Parallel(n_jobs=-1)]: Done 648 out of 648 | elapsed:  3.2min finished\n",
      "[Parallel(n_jobs=-1)]: Using backend ThreadingBackend with 16 concurrent workers.\n",
      "[Parallel(n_jobs=-1)]: Done  18 tasks      | elapsed:    0.1s\n",
      "[Parallel(n_jobs=-1)]: Done 168 tasks      | elapsed:    0.4s\n",
      "[Parallel(n_jobs=-1)]: Done 418 tasks      | elapsed:    0.9s\n",
      "[Parallel(n_jobs=-1)]: Done 768 tasks      | elapsed:    1.7s\n",
      "[Parallel(n_jobs=-1)]: Done 900 out of 900 | elapsed:    1.9s finished\n",
      "[Parallel(n_jobs=16)]: Using backend ThreadingBackend with 16 concurrent workers.\n",
      "[Parallel(n_jobs=16)]: Done  18 tasks      | elapsed:    0.0s\n",
      "[Parallel(n_jobs=16)]: Done 168 tasks      | elapsed:    0.1s\n",
      "[Parallel(n_jobs=16)]: Done 418 tasks      | elapsed:    0.1s\n",
      "[Parallel(n_jobs=16)]: Done 768 tasks      | elapsed:    0.2s\n",
      "[Parallel(n_jobs=16)]: Done 900 out of 900 | elapsed:    0.2s finished\n",
      "[Parallel(n_jobs=-1)]: Using backend LokyBackend with 16 concurrent workers.\n"
     ]
    },
    {
     "name": "stdout",
     "output_type": "stream",
     "text": [
      "Results/RandomForestClassifier.csv\n",
      "0.8638527451602666\n",
      "(7351, 100)\n",
      "Shape of the input Data is (7351, 100)\n",
      "Fitting 3 folds for each of 216 candidates, totalling 648 fits\n"
     ]
    },
    {
     "name": "stderr",
     "output_type": "stream",
     "text": [
      "[Parallel(n_jobs=-1)]: Done  96 tasks      | elapsed:   17.0s\n",
      "[Parallel(n_jobs=-1)]: Done 256 tasks      | elapsed:   45.8s\n",
      "[Parallel(n_jobs=-1)]: Done 480 tasks      | elapsed:  2.0min\n",
      "[Parallel(n_jobs=-1)]: Done 648 out of 648 | elapsed:  3.2min finished\n",
      "[Parallel(n_jobs=-1)]: Using backend ThreadingBackend with 16 concurrent workers.\n",
      "[Parallel(n_jobs=-1)]: Done  18 tasks      | elapsed:    0.1s\n",
      "[Parallel(n_jobs=-1)]: Done  50 out of  50 | elapsed:    0.2s finished\n",
      "[Parallel(n_jobs=16)]: Using backend ThreadingBackend with 16 concurrent workers.\n"
     ]
    },
    {
     "name": "stdout",
     "output_type": "stream",
     "text": [
      "Results/RandomForestClassifier.csv\n",
      "0.9108219612821327\n"
     ]
    },
    {
     "name": "stderr",
     "output_type": "stream",
     "text": [
      "[Parallel(n_jobs=16)]: Done  18 tasks      | elapsed:    0.0s\n",
      "[Parallel(n_jobs=16)]: Done  50 out of  50 | elapsed:    0.0s finished\n"
     ]
    }
   ],
   "source": [
    "rel('skRandomForestClassifier')\n",
    "rel('ClassEvaluator')\n",
    "rel('hyperparameters')\n",
    "skRFC = skRandomForestClassifier.skRandomForestClassifier()\n",
    "model = skRFC.model\n",
    "for dataKey, confDict in dataBuilder.confs.items():\n",
    "    for confKey, confData in confDict.items():\n",
    "        for split_value in splits:\n",
    "            print(confData[0].shape)\n",
    "            evaluator  = ClassEvaluator.Evaluator(skRFC.name, dataKey, model, confKey, confData, split_value)\n",
    "            evaluator.train_model()\n",
    "            evaluator.store()        "
   ]
  },
  {
   "cell_type": "markdown",
   "metadata": {},
   "source": []
  },
  {
   "cell_type": "code",
   "execution_count": null,
   "metadata": {},
   "outputs": [],
   "source": []
  }
 ],
 "metadata": {
  "kernelspec": {
   "display_name": "pyHAI",
   "language": "python",
   "name": "pyhai"
  },
  "language_info": {
   "codemirror_mode": {
    "name": "ipython",
    "version": 3
   },
   "file_extension": ".py",
   "mimetype": "text/x-python",
   "name": "python",
   "nbconvert_exporter": "python",
   "pygments_lexer": "ipython3",
   "version": "3.6.10"
  }
 },
 "nbformat": 4,
 "nbformat_minor": 4
}
