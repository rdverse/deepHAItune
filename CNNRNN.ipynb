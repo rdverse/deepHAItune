{
 "cells": [
  {
   "cell_type": "code",
   "execution_count": 38,
   "metadata": {},
   "outputs": [
    {
     "name": "stdout",
     "output_type": "stream",
     "text": [
      "rm: cannot remove 'logdir': No such file or directory\n",
      "rm: cannot remove 'untitled_project': No such file or directory\n",
      "The tensorboard extension is already loaded. To reload it, use:\n",
      "  %reload_ext tensorboard\n",
      "The tensorboard extension is already loaded. To reload it, use:\n",
      "  %reload_ext tensorboard\n"
     ]
    },
    {
     "data": {
      "text/plain": [
       "ERROR: Could not find `tensorboard`. Please ensure that your PATH\n",
       "contains an executable `tensorboard` program, or explicitly specify\n",
       "the path to a TensorBoard binary by setting the `TENSORBOARD_BINARY`\n",
       "environment variable."
      ]
     },
     "metadata": {},
     "output_type": "display_data"
    }
   ],
   "source": [
    "!rm -r logdir\n",
    "!rm -r \"untitled_project\"\n",
    "\n",
    "%load_ext tensorboard\n",
    "import tensorboard\n",
    "%load_ext tensorboard\n",
    "%tensorboard --logdir logdir\n"
   ]
  },
  {
   "cell_type": "code",
   "execution_count": 22,
   "metadata": {},
   "outputs": [
    {
     "name": "stdout",
     "output_type": "stream",
     "text": [
      "Accel\n",
      "new Data\n",
      "39\n",
      "Train Labels shape   : (312, 1)\n",
      "Train Features shape : (312, 3, 50, 1)\n",
      "Test labels shape    : (78, 1)\n",
      "Test Features shape  : (78, 3, 50, 1)\n",
      "Gyro\n",
      "new Data\n",
      "39\n",
      "Train Labels shape   : (312, 1)\n",
      "Train Features shape : (312, 3, 50, 1)\n",
      "Test labels shape    : (78, 1)\n",
      "Test Features shape  : (78, 3, 50, 1)\n",
      "(249, 50, 3)\n",
      "Model: \"model_8\"\n",
      "__________________________________________________________________________________________________\n",
      "Layer (type)                    Output Shape         Param #     Connected to                     \n",
      "==================================================================================================\n",
      "input_17 (InputLayer)           [(None, 50, 3)]      0                                            \n",
      "__________________________________________________________________________________________________\n",
      "input_18 (InputLayer)           [(None, 50, 3)]      0                                            \n",
      "__________________________________________________________________________________________________\n",
      "conv1D_A1 (Conv1D)              (None, 36, 27)       1242        input_17[0][0]                   \n",
      "__________________________________________________________________________________________________\n",
      "conv1D_G1 (Conv1D)              (None, 36, 18)       828         input_18[0][0]                   \n",
      "__________________________________________________________________________________________________\n",
      "batch_normalization_32 (BatchNo (None, 36, 27)       108         conv1D_A1[0][0]                  \n",
      "__________________________________________________________________________________________________\n",
      "batch_normalization_34 (BatchNo (None, 36, 18)       72          conv1D_G1[0][0]                  \n",
      "__________________________________________________________________________________________________\n",
      "activation_32 (Activation)      (None, 36, 27)       0           batch_normalization_32[0][0]     \n",
      "__________________________________________________________________________________________________\n",
      "activation_34 (Activation)      (None, 36, 18)       0           batch_normalization_34[0][0]     \n",
      "__________________________________________________________________________________________________\n",
      "conv1D_A2 (Conv1D)              (None, 36, 27)       10962       activation_32[0][0]              \n",
      "__________________________________________________________________________________________________\n",
      "conv1D_G2 (Conv1D)              (None, 36, 9)        2439        activation_34[0][0]              \n",
      "__________________________________________________________________________________________________\n",
      "batch_normalization_33 (BatchNo (None, 36, 27)       108         conv1D_A2[0][0]                  \n",
      "__________________________________________________________________________________________________\n",
      "batch_normalization_35 (BatchNo (None, 36, 9)        36          conv1D_G2[0][0]                  \n",
      "__________________________________________________________________________________________________\n",
      "activation_33 (Activation)      (None, 36, 27)       0           batch_normalization_33[0][0]     \n",
      "__________________________________________________________________________________________________\n",
      "activation_35 (Activation)      (None, 36, 9)        0           batch_normalization_35[0][0]     \n",
      "__________________________________________________________________________________________________\n",
      "global_max_pooling1d_16 (Global (None, 27)           0           activation_33[0][0]              \n",
      "__________________________________________________________________________________________________\n",
      "global_max_pooling1d_17 (Global (None, 9)            0           activation_35[0][0]              \n",
      "__________________________________________________________________________________________________\n",
      "concatenate_8 (Concatenate)     (None, 36)           0           global_max_pooling1d_16[0][0]    \n",
      "                                                                 global_max_pooling1d_17[0][0]    \n",
      "__________________________________________________________________________________________________\n",
      "dense_16 (Dense)                (None, 90)           3330        concatenate_8[0][0]              \n",
      "__________________________________________________________________________________________________\n",
      "dropout_8 (Dropout)             (None, 90)           0           dense_16[0][0]                   \n",
      "__________________________________________________________________________________________________\n",
      "dense_17 (Dense)                (None, 1)            91          dropout_8[0][0]                  \n",
      "==================================================================================================\n",
      "Total params: 19,216\n",
      "Trainable params: 19,054\n",
      "Non-trainable params: 162\n",
      "__________________________________________________________________________________________________\n",
      "None\n",
      "\n",
      "Epoch: 0, R_Square:-8.9048,  loss:50.1584,  mae:2.1195,  mape:50.1584,  val_R_Square:-0.0638,  val_loss:17.2298,  val_mae:0.7326,  val_mape:17.2298,  \n",
      "....................................................................................................\n",
      "Epoch: 100, R_Square:0.3434,  loss:12.2376,  mae:0.5240,  mape:12.2376,  val_R_Square:0.8646,  val_loss:5.9110,  val_mae:0.2611,  val_mape:5.9110,  \n",
      "."
     ]
    },
    {
     "data": {
      "image/png": "[encoded data removed]",
      "text/plain": [
       "<Figure size 432x288 with 2 Axes>"
      ]
     },
     "metadata": {
      "needs_background": "light"
     },
     "output_type": "display_data"
    },
    {
     "name": "stdout",
     "output_type": "stream",
     "text": [
      "Results of the model training\n",
      "3/3 [==============================] - 0s 1ms/step - loss: 5.4862 - mae: 0.2341 - mape: 5.4862 - R_Square: 0.8418\n",
      "[5.486209392547607, 0.23413166403770447, 5.486209392547607, 0.8417753577232361]\n"
     ]
    }
   ],
   "source": [
    "%run CNNRNN.py"
   ]
  },
  {
   "cell_type": "code",
   "execution_count": 5,
   "metadata": {},
   "outputs": [],
   "source": [
    "preds = model.predict([Features_TestA, Features_TestG])\n"
   ]
  },
  {
   "cell_type": "code",
   "execution_count": 7,
   "metadata": {},
   "outputs": [
    {
     "data": {
      "text/plain": [
       "array([[6.5],\n",
       "       [4.2],\n",
       "       [4.5],\n",
       "       [5.2],\n",
       "       [6.2],\n",
       "       [6. ],\n",
       "       [5. ],\n",
       "       [7. ],\n",
       "       [3.5],\n",
       "       [6.2],\n",
       "       [3.2],\n",
       "       [6.2],\n",
       "       [4. ],\n",
       "       [4. ],\n",
       "       [3.5],\n",
       "       [6.2],\n",
       "       [6.2],\n",
       "       [4.2],\n",
       "       [6.2],\n",
       "       [6.2],\n",
       "       [4.2],\n",
       "       [5. ],\n",
       "       [3.5],\n",
       "       [5. ],\n",
       "       [3.7],\n",
       "       [3.2],\n",
       "       [5.5],\n",
       "       [5. ],\n",
       "       [3.2],\n",
       "       [3.5],\n",
       "       [4.2],\n",
       "       [4. ],\n",
       "       [5.2],\n",
       "       [6.2],\n",
       "       [6.2],\n",
       "       [3.7],\n",
       "       [6. ],\n",
       "       [5.5],\n",
       "       [4. ],\n",
       "       [3.5],\n",
       "       [5. ],\n",
       "       [4.5],\n",
       "       [4.2],\n",
       "       [6. ],\n",
       "       [5.5],\n",
       "       [7. ],\n",
       "       [5.2],\n",
       "       [3. ],\n",
       "       [3.5],\n",
       "       [3.5],\n",
       "       [3.2],\n",
       "       [6.2],\n",
       "       [3.7],\n",
       "       [6.5],\n",
       "       [5.5],\n",
       "       [5.5],\n",
       "       [3.2],\n",
       "       [3.5],\n",
       "       [3.7],\n",
       "       [5.5],\n",
       "       [6.5],\n",
       "       [4. ],\n",
       "       [6. ],\n",
       "       [5.5],\n",
       "       [7. ],\n",
       "       [5.2],\n",
       "       [4.2],\n",
       "       [5. ],\n",
       "       [7. ],\n",
       "       [5.2],\n",
       "       [4.5],\n",
       "       [3. ],\n",
       "       [4.5],\n",
       "       [5.2],\n",
       "       [3.5],\n",
       "       [4.2],\n",
       "       [6. ],\n",
       "       [6. ],\n",
       "       [4.2],\n",
       "       [3.5],\n",
       "       [4.2],\n",
       "       [3.7],\n",
       "       [5.2],\n",
       "       [5.2],\n",
       "       [6.2],\n",
       "       [3.2],\n",
       "       [6.2],\n",
       "       [3.7],\n",
       "       [3.2],\n",
       "       [3.2],\n",
       "       [7. ],\n",
       "       [3.2],\n",
       "       [4.5],\n",
       "       [5. ],\n",
       "       [5.2],\n",
       "       [3. ],\n",
       "       [3. ],\n",
       "       [3. ],\n",
       "       [5.2],\n",
       "       [3. ],\n",
       "       [6.2],\n",
       "       [3.2],\n",
       "       [6. ],\n",
       "       [3. ],\n",
       "       [3.2],\n",
       "       [4.5],\n",
       "       [4.2],\n",
       "       [4.2],\n",
       "       [3. ],\n",
       "       [4.2]])"
      ]
     },
     "execution_count": 7,
     "metadata": {},
     "output_type": "execute_result"
    }
   ],
   "source": [
    "Labels_TestA"
   ]
  },
  {
   "cell_type": "code",
   "execution_count": 16,
   "metadata": {},
   "outputs": [
    {
     "data": {
      "text/plain": [
       "array([[3.],\n",
       "       [3.],\n",
       "       [3.],\n",
       "       [3.],\n",
       "       [3.],\n",
       "       [3.],\n",
       "       [3.],\n",
       "       [3.]])"
      ]
     },
     "execution_count": 16,
     "metadata": {},
     "output_type": "execute_result"
    }
   ],
   "source": [
    "import numpy as np\n",
    "Labels_TestA = Labels_TestA.ravel()\n",
    "inds = np.argwhere(Labels_TestA==3)\n",
    "plt.plot(Labels_TestA[inds])"
   ]
  },
  {
   "cell_type": "code",
   "execution_count": 50,
   "metadata": {},
   "outputs": [
    {
     "data": {
      "text/plain": [
       "<matplotlib.collections.PathCollection at 0x7ff8b04b2da0>"
      ]
     },
     "execution_count": 50,
     "metadata": {},
     "output_type": "execute_result"
    },
    {
     "data": {
      "image/png": "[encoded data removed]",
      "text/plain": [
       "<Figure size 432x288 with 1 Axes>"
      ]
     },
     "metadata": {
      "needs_background": "light"
     },
     "output_type": "display_data"
    }
   ],
   "source": [
    "import matplotlib.pyplot as plt\n",
    "\n",
    "plt.scatter(Labels_TestA, preds.ravel())"
   ]
  },
  {
   "cell_type": "code",
   "execution_count": 25,
   "metadata": {},
   "outputs": [
    {
     "data": {
      "text/plain": [
       "(68370,)"
      ]
     },
     "execution_count": 25,
     "metadata": {},
     "output_type": "execute_result"
    }
   ],
   "source": [
    "preds.ravel().shape"
   ]
  },
  {
   "cell_type": "code",
   "execution_count": 19,
   "metadata": {},
   "outputs": [
    {
     "data": {
      "text/plain": [
       "(645, 1)"
      ]
     },
     "execution_count": 19,
     "metadata": {},
     "output_type": "execute_result"
    }
   ],
   "source": [
    "Labels_TestA.shape"
   ]
  },
  {
   "cell_type": "code",
   "execution_count": 45,
   "metadata": {},
   "outputs": [
    {
     "name": "stdout",
     "output_type": "stream",
     "text": [
      "\u001b[0m\u001b[01;34mCardio_Data\u001b[0m/    \u001b[01;32menvironment.yml\u001b[0m*       \u001b[01;32mmodel.py\u001b[0m*     \u001b[01;32mrequirements.txt\u001b[0m*\n",
      "CNN1D.ipynb     \u001b[01;32mfinal_model_CNN1D.py\u001b[0m*  \u001b[01;34mphase2\u001b[0m/       RNN.ipynb\n",
      "\u001b[01;34mCNNRNN\u001b[0m/         \u001b[01;32mfinal_model.py\u001b[0m*        plotter.py    \u001b[01;32mStandardScaler.py\u001b[0m*\n",
      "\u001b[01;32mCNNRNN.py\u001b[0m*      \u001b[01;32mfinal_model_RNN.py\u001b[0m*    \u001b[01;34m__pycache__\u001b[0m/  Untitled.ipynb\n",
      "\u001b[01;32mCNNRNN.py~\u001b[0m*     \u001b[01;34mlogdir\u001b[0m/                \u001b[01;32mREADME.md\u001b[0m*\n",
      "\u001b[01;34mconvolutional\u001b[0m/  \u001b[01;32mmain.py\u001b[0m*               \u001b[01;34mrecurrent\u001b[0m/\n",
      "\u001b[01;32mData.py\u001b[0m*        \u001b[01;32mmodelBuilder.py\u001b[0m*       \u001b[01;34mRecurrent\u001b[0m/\n"
     ]
    }
   ],
   "source": [
    "%ls"
   ]
  },
  {
   "cell_type": "code",
   "execution_count": 52,
   "metadata": {},
   "outputs": [
    {
     "data": {
      "text/plain": [
       "(2050, 150, 3)"
      ]
     },
     "execution_count": 52,
     "metadata": {},
     "output_type": "execute_result"
    }
   ],
   "source": [
    "Features_TrainA.shape\n"
   ]
  },
  {
   "cell_type": "code",
   "execution_count": null,
   "metadata": {},
   "outputs": [],
   "source": []
  }
 ],
 "metadata": {
  "kernelspec": {
   "display_name": "pyHAI",
   "language": "python",
   "name": "pyhai"
  },
  "language_info": {
   "codemirror_mode": {
    "name": "ipython",
    "version": 3
   },
   "file_extension": ".py",
   "mimetype": "text/x-python",
   "name": "python",
   "nbconvert_exporter": "python",
   "pygments_lexer": "ipython3",
   "version": "3.6.10"
  }
 },
 "nbformat": 4,
 "nbformat_minor": 4
}
