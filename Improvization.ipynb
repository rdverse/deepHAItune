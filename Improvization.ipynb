{
 "cells": [
  {
   "cell_type": "code",
   "execution_count": 1,
   "metadata": {},
   "outputs": [],
   "source": [
    "# Area under curve for finding step frequecny\n",
    "# Find step frequencies for continuous segments\n",
    "# Speed find the running speed in continuous intervals\n",
    "\n",
    "import Data\n",
    "from IPython.display import clear_output\n",
    "from tensorflow.keras import layers\n",
    "from keras import backend as k\n",
    "import IPython\n",
    "import numpy as np\n",
    "import Data\n",
    "import tensorflow as tf\n",
    "from sklearn.model_selection import train_test_split\n",
    "import pandas as pd\n",
    "import model\n",
    "from model import build_model_CNN\n",
    "\n",
    "from plotter import hist_plotter\n",
    "\n",
    "import os"
   ]
  },
  {
   "cell_type": "code",
   "execution_count": 2,
   "metadata": {},
   "outputs": [
    {
     "name": "stdout",
     "output_type": "stream",
     "text": [
      "Dataset Loaded\n"
     ]
    }
   ],
   "source": [
    "# Get Data Here\n",
    "Features_A, Labels, pIDs = Data.dataset_main(150,50,'Yes')\n",
    "Features_G, Labels, pIDs = Data.dataset_main(150,50,'No')\n",
    "clear_output()\n",
    "print('Dataset Loaded')"
   ]
  },
  {
   "cell_type": "code",
   "execution_count": null,
   "metadata": {},
   "outputs": [],
   "source": []
  },
  {
   "cell_type": "code",
   "execution_count": 3,
   "metadata": {},
   "outputs": [],
   "source": [
    "\n",
    "\n",
    "physical_devices = tf.config.list_physical_devices('GPU')\n",
    "try:\n",
    "    tf.config.experimental.set_memory_growth(physical_devices[0], True)\n",
    "except:\n",
    "    # Invalid device or cannot modify virtual devices once initialized.\n",
    "    print('Could not initialize the tensorflow gpu')\n",
    "    pass\n",
    "\n"
   ]
  },
  {
   "cell_type": "code",
   "execution_count": 4,
   "metadata": {},
   "outputs": [],
   "source": [
    "\n",
    "def R_Square(y_true, y_pred):\n",
    "\n",
    "    Num = k.sum(k.square(y_true - y_pred))\n",
    "    Denom = k.sum(k.square(y_true - k.mean(y_true)))\n",
    "    R = 1 - Num / (Denom + k.epsilon())\n",
    "    return R\n",
    "\n",
    "\n",
    "def build_model_CNN():\n",
    "    inputA = layers.Input(shape=(3, 150, 1))\n",
    "    modelA = inputA\n",
    "    min_conv1 = 27\n",
    "    max_conv1 = 36\n",
    "    min_conv2 = 36\n",
    "    max_conv2 = 45\n",
    "    modelA = layers.Conv2D(27,\n",
    "                           kernel_size=(3, 3),\n",
    "                           padding='same',\n",
    "                           activation='relu')(inputA)\n",
    "\n",
    "    modelA = layers.Conv2D(45,\n",
    "                           kernel_size=(3, 3),\n",
    "                           padding='same',\n",
    "                           activation='relu')(modelA)\n",
    "\n",
    "    #modelA = layers.Flatten()(modelA)\n",
    "    modelA = layers.GlobalMaxPool2D()(modelA)\n",
    "    inputG = layers.Input(shape=(3, 150, 1))\n",
    "\n",
    "    modelG = inputG\n",
    "\n",
    "    modelG = layers.Conv2D(27,\n",
    "                           kernel_size=(3, 3),\n",
    "                           padding='same',\n",
    "                           activation='relu')(inputG)\n",
    "\n",
    "    modelG = layers.Conv2D(45,\n",
    "                           kernel_size=(3, 3),\n",
    "                           padding='same',\n",
    "                           activation='relu')(modelG)\n",
    "\n",
    "    # model = layers.Dropout(0.4)(model)\n",
    "    #modelG = layers.Flatten()(modelG)\n",
    "    modelG = layers.GlobalMaxPool2D()(modelG)\n",
    "    model = layers.Concatenate()([modelA, modelG])\n",
    "    #   layers.concatenate(modelA,modelG)\n",
    "\n",
    "    #model = layers.Dropout(0.4)(model)\n",
    "\n",
    "    model = layers.Dense(120, activation='relu')(model)\n",
    "\n",
    "    model = layers.Dropout(0.3)(model)\n",
    "\n",
    "    model = layers.Dense(30, activation='relu')(model)\n",
    "\n",
    "    model = layers.Dropout(0.3)(model)\n",
    "\n",
    "    output = layers.Dense(1)(model)\n",
    "\n",
    "    model = tf.keras.Model(inputs=[inputA, inputG], outputs=output)\n",
    "\n",
    "    optimizer = tf.keras.optimizers.RMSprop(1e-3)\n",
    "    # optimizer = tf.keras.optimizers.Adam(1e-3)\n",
    "\n",
    "    loss = tf.keras.losses.Huber()\n",
    "    loss = tf.keras.losses.LogCosh()\n",
    "    loss = tf.keras.losses.MeanAbsolutePercentageError()\n",
    "    loss = tf.keras.losses.MeanSquaredError(reduction=\"auto\",\n",
    "                                            name=\"mean_squared_error\")\n",
    "    loss = tf.keras.losses.MeanAbsoluteError(name=\"mean_absolute_error\")\n",
    "    \n",
    "    model.compile(\n",
    "        loss=loss,  #'mean_absolute_error',\n",
    "        optimizer=optimizer,\n",
    "        metrics=['mae', 'mape', R_Square])\n",
    "\n",
    "    tf.keras.utils.plot_model(model,\n",
    "                            #  to_file='/home/redev/Pictures/Model.png',\n",
    "                              show_shapes=True)\n",
    "    return model\n",
    "\n"
   ]
  },
  {
   "cell_type": "code",
   "execution_count": 5,
   "metadata": {},
   "outputs": [],
   "source": [
    "\n",
    "\n",
    "class ClearTrainingOutput(tf.keras.callbacks.Callback):\n",
    "    def on_train_end(*args, **kwargs):\n",
    "        IPython.display.clear_output(wait=True)\n",
    "\n",
    "\n",
    "\n",
    "earlystopping = tf.keras.callbacks.EarlyStopping(monitor='val_loss',\n",
    "                                                 patience=50)\n",
    "\n",
    "reduceLRplateau = tf.keras.callbacks.ReduceLROnPlateau(monitor='val_loss',\n",
    "                                                       min_lr=1e-6,\n",
    "                                                       patience=10,\n",
    "                                                       factor=0.9,\n",
    "                                                       verbose=1)\n",
    "\n",
    "if os.path.isdir('logdir'):\n",
    "    pass\n",
    "else:\n",
    "    os.mkdir('logdir')\n",
    "\n",
    "logdir = 'logdir'\n",
    "tensorboard_callback = tf.keras.callbacks.TensorBoard(logdir, histogram_freq=1)\n",
    "\n"
   ]
  },
  {
   "cell_type": "code",
   "execution_count": 6,
   "metadata": {},
   "outputs": [
    {
     "name": "stdout",
     "output_type": "stream",
     "text": [
      "Model: \"model\"\n",
      "__________________________________________________________________________________________________\n",
      "Layer (type)                    Output Shape         Param #     Connected to                     \n",
      "==================================================================================================\n",
      "input_1 (InputLayer)            [(None, 3, 150, 1)]  0                                            \n",
      "__________________________________________________________________________________________________\n",
      "input_2 (InputLayer)            [(None, 3, 150, 1)]  0                                            \n",
      "__________________________________________________________________________________________________\n",
      "conv2d (Conv2D)                 (None, 3, 150, 27)   270         input_1[0][0]                    \n",
      "__________________________________________________________________________________________________\n",
      "conv2d_2 (Conv2D)               (None, 3, 150, 27)   270         input_2[0][0]                    \n",
      "__________________________________________________________________________________________________\n",
      "conv2d_1 (Conv2D)               (None, 3, 150, 45)   10980       conv2d[0][0]                     \n",
      "__________________________________________________________________________________________________\n",
      "conv2d_3 (Conv2D)               (None, 3, 150, 45)   10980       conv2d_2[0][0]                   \n",
      "__________________________________________________________________________________________________\n",
      "global_max_pooling2d (GlobalMax (None, 45)           0           conv2d_1[0][0]                   \n",
      "__________________________________________________________________________________________________\n",
      "global_max_pooling2d_1 (GlobalM (None, 45)           0           conv2d_3[0][0]                   \n",
      "__________________________________________________________________________________________________\n",
      "concatenate (Concatenate)       (None, 90)           0           global_max_pooling2d[0][0]       \n",
      "                                                                 global_max_pooling2d_1[0][0]     \n",
      "__________________________________________________________________________________________________\n",
      "dense (Dense)                   (None, 120)          10920       concatenate[0][0]                \n",
      "__________________________________________________________________________________________________\n",
      "dropout (Dropout)               (None, 120)          0           dense[0][0]                      \n",
      "__________________________________________________________________________________________________\n",
      "dense_1 (Dense)                 (None, 30)           3630        dropout[0][0]                    \n",
      "__________________________________________________________________________________________________\n",
      "dropout_1 (Dropout)             (None, 30)           0           dense_1[0][0]                    \n",
      "__________________________________________________________________________________________________\n",
      "dense_2 (Dense)                 (None, 1)            31          dropout_1[0][0]                  \n",
      "==================================================================================================\n",
      "Total params: 37,081\n",
      "Trainable params: 37,081\n",
      "Non-trainable params: 0\n",
      "__________________________________________________________________________________________________\n"
     ]
    }
   ],
   "source": [
    "model = build_model_CNN()\n",
    "model.summary()"
   ]
  },
  {
   "cell_type": "code",
   "execution_count": 7,
   "metadata": {},
   "outputs": [
    {
     "data": {
      "image/png": "[encoded data removed]",
      "text/plain": [
       "<Figure size 432x288 with 2 Axes>"
      ]
     },
     "metadata": {
      "needs_background": "light"
     },
     "output_type": "display_data"
    },
    {
     "name": "stdout",
     "output_type": "stream",
     "text": [
      "Results of the model training\n"
     ]
    }
   ],
   "source": [
    "\n",
    "hist = model.fit(\n",
    "    [Features_A, Features_G],\n",
    "    np.array(Labels),\n",
    " #   validation_data=([Features_A, Features_G], Labels),\n",
    "    validation_split = 0.3,\n",
    "    epochs=500,\n",
    "    verbose=3,\n",
    "    callbacks=[\n",
    "        #        earlystopping,\n",
    "        reduceLRplateau,\n",
    "      #  tensorboard_callback,\n",
    "        ClearTrainingOutput()\n",
    "    ])\n",
    "\n",
    "hist_plotter(hist.history)\n",
    "print(\"Results of the model training\")"
   ]
  },
  {
   "cell_type": "code",
   "execution_count": 8,
   "metadata": {},
   "outputs": [
    {
     "name": "stdout",
     "output_type": "stream",
     "text": [
      "140/140 [==============================] - 0s 2ms/step - loss: 0.2197 - mae: 0.2197 - mape: 4.6151 - R_Square: -5361.2163\n",
      "[0.219736710190773, 0.219736710190773, 4.615148067474365, -5361.21630859375]\n"
     ]
    }
   ],
   "source": [
    "print(model.evaluate([Features_A, Features_G], np.array(Labels)))"
   ]
  },
  {
   "cell_type": "code",
   "execution_count": 9,
   "metadata": {},
   "outputs": [],
   "source": [
    "values = np.hstack((np.array(Labels).reshape(-1,1), np.array(pIDs).reshape(-1,1)))\n",
    "data_df = pd.DataFrame(values, columns = ['speed', 'person'])"
   ]
  },
  {
   "cell_type": "code",
   "execution_count": 10,
   "metadata": {},
   "outputs": [],
   "source": [
    "data_df['error'] = 0 "
   ]
  },
  {
   "cell_type": "code",
   "execution_count": null,
   "metadata": {},
   "outputs": [],
   "source": [
    "\n",
    "uniquePID = np.unique(data_df['pIDs'])\n",
    "\n",
    "uniqueSpeed = np.unique(data_df['speed'])"
   ]
  },
  {
   "cell_type": "code",
   "execution_count": null,
   "metadata": {},
   "outputs": [],
   "source": [
    "uniquePID"
   ]
  },
  {
   "cell_type": "code",
   "execution_count": null,
   "metadata": {},
   "outputs": [],
   "source": [
    "uniqueSpeed"
   ]
  },
  {
   "cell_type": "code",
   "execution_count": null,
   "metadata": {},
   "outputs": [],
   "source": [
    "for up i"
   ]
  }
 ],
 "metadata": {
  "kernelspec": {
   "display_name": "pyhai",
   "language": "python",
   "name": "pyhai"
  },
  "language_info": {
   "codemirror_mode": {
    "name": "ipython",
    "version": 3
   },
   "file_extension": ".py",
   "mimetype": "text/x-python",
   "name": "python",
   "nbconvert_exporter": "python",
   "pygments_lexer": "ipython3",
   "version": "3.6.10"
  }
 },
 "nbformat": 4,
 "nbformat_minor": 4
}
