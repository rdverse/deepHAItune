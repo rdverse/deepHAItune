{
 "cells": [
  {
   "cell_type": "code",
   "execution_count": 141,
   "metadata": {},
   "outputs": [],
   "source": [
    "import tensorflow as tf\n",
    "import matplotlib.pyplot as plt\n",
    "import time\n",
    "import Data\n",
    "import numpy as np\n",
    "from IPython.display import clear_output\n",
    "import tqdm"
   ]
  },
  {
   "cell_type": "code",
   "execution_count": 142,
   "metadata": {},
   "outputs": [
    {
     "data": {
      "text/plain": [
       "[PhysicalDevice(name='/physical_device:GPU:0', device_type='GPU')]"
      ]
     },
     "execution_count": 142,
     "metadata": {},
     "output_type": "execute_result"
    }
   ],
   "source": [
    "physical_devices = tf.config.list_physical_devices('GPU')\n",
    "physical_devices"
   ]
  },
  {
   "cell_type": "code",
   "execution_count": 143,
   "metadata": {},
   "outputs": [],
   "source": [
    "try:\n",
    "    tf.config.experimental.set_memory_growth(physical_devices[0], True)\n",
    "except:\n",
    "    # Invalid device or cannot modify virtual devices once initialized.\n",
    "    print('Could not initialize the tensorflow gpu')\n",
    "    pass\n"
   ]
  },
  {
   "cell_type": "code",
   "execution_count": 144,
   "metadata": {},
   "outputs": [
    {
     "name": "stdout",
     "output_type": "stream",
     "text": [
      "Accel\n",
      "new Data\n",
      "39\n",
      "Gyro\n",
      "new Data\n",
      "39\n"
     ]
    }
   ],
   "source": [
    "Fa, La, Ia = Data.Make_Dataset(50,0,'Yes')\n",
    "Fg, Lg, Ig = Data.Make_Dataset(50,0,'No')"
   ]
  },
  {
   "cell_type": "code",
   "execution_count": 145,
   "metadata": {},
   "outputs": [
    {
     "data": {
      "text/plain": [
       "(9945, 150)"
      ]
     },
     "execution_count": 145,
     "metadata": {},
     "output_type": "execute_result"
    }
   ],
   "source": [
    "from imblearn.over_sampling import SMOTE, ADASYN\n",
    "La_r = [str(l) for l in La]\n",
    "Fa_r = Fa.reshape(Fa.shape[0], 150)\n",
    "X_resampled, y_resampled = SMOTE().fit_resample(Fa_r,La_r)\n",
    "X_resampled.shape"
   ]
  },
  {
   "cell_type": "code",
   "execution_count": 146,
   "metadata": {},
   "outputs": [],
   "source": [
    "Fa_r_r = X_resampled.reshape(9945,50,3,1)"
   ]
  },
  {
   "cell_type": "code",
   "execution_count": 147,
   "metadata": {},
   "outputs": [
    {
     "data": {
      "image/png": "[encoded data removed]",
      "text/plain": [
       "<Figure size 360x360 with 2 Axes>"
      ]
     },
     "metadata": {
      "needs_background": "light"
     },
     "output_type": "display_data"
    }
   ],
   "source": [
    "plt.figure(figsize = (5,5))\n",
    "plt.imshow(Fa_r_r[165], interpolation='nearest', aspect='auto', cmap= 'Greens')\n",
    "plt.colorbar()\n",
    "plt.show()\n",
    "%matplotlib inline"
   ]
  },
  {
   "cell_type": "code",
   "execution_count": 148,
   "metadata": {},
   "outputs": [
    {
     "data": {
      "text/plain": [
       "(3, 50, 1)"
      ]
     },
     "execution_count": 148,
     "metadata": {},
     "output_type": "execute_result"
    }
   ],
   "source": [
    "Fg[165].shape"
   ]
  },
  {
   "cell_type": "code",
   "execution_count": 149,
   "metadata": {},
   "outputs": [
    {
     "data": {
      "text/plain": [
       "6.0"
      ]
     },
     "execution_count": 149,
     "metadata": {},
     "output_type": "execute_result"
    }
   ],
   "source": [
    "La[165]"
   ]
  },
  {
   "cell_type": "code",
   "execution_count": 150,
   "metadata": {},
   "outputs": [],
   "source": [
    "BUFFER_SIZE = Fa.shape[0]\n",
    "BATCH_SIZE = 100\n",
    "train_dataset = tf.data.Dataset.from_tensor_slices(Fa).shuffle(BATCH_SIZE)\n"
   ]
  },
  {
   "cell_type": "markdown",
   "metadata": {},
   "source": [
    "# Discriminator Model"
   ]
  },
  {
   "cell_type": "code",
   "execution_count": 151,
   "metadata": {},
   "outputs": [],
   "source": [
    "def make_discriminator_model():\n",
    "    model = tf.keras.Sequential()\n",
    "    model.add(tf.keras.layers.Input(shape=(3,50,1)))\n",
    "    model.add(tf.keras.layers.Conv2D(7, (3,3), padding = \"same\"))\n",
    "    model.add(tf.keras.layers.Flatten())\n",
    "    model.add(tf.keras.layers.LeakyReLU())\n",
    "    model.add(tf.keras.layers.Dense(50*2, activation = 'relu'))\n",
    "    model.add(tf.keras.layers.Dense(1))\n",
    "    return model"
   ]
  },
  {
   "cell_type": "code",
   "execution_count": 152,
   "metadata": {},
   "outputs": [
    {
     "data": {
      "text/plain": [
       "<tf.Tensor: shape=(1, 1), dtype=float32, numpy=array([[-0.08018634]], dtype=float32)>"
      ]
     },
     "execution_count": 152,
     "metadata": {},
     "output_type": "execute_result"
    }
   ],
   "source": [
    "model_discriminator = make_discriminator_model()\n",
    "model_discriminator(np.random.randn(1,3,50,1).astype('float32'))\n"
   ]
  },
  {
   "cell_type": "code",
   "execution_count": 153,
   "metadata": {},
   "outputs": [
    {
     "name": "stdout",
     "output_type": "stream",
     "text": [
      "Model: \"sequential_10\"\n",
      "_________________________________________________________________\n",
      "Layer (type)                 Output Shape              Param #   \n",
      "=================================================================\n",
      "conv2d_5 (Conv2D)            (None, 3, 50, 7)          70        \n",
      "_________________________________________________________________\n",
      "flatten_5 (Flatten)          (None, 1050)              0         \n",
      "_________________________________________________________________\n",
      "leaky_re_lu_5 (LeakyReLU)    (None, 1050)              0         \n",
      "_________________________________________________________________\n",
      "dense_17 (Dense)             (None, 100)               105100    \n",
      "_________________________________________________________________\n",
      "dense_18 (Dense)             (None, 1)                 101       \n",
      "=================================================================\n",
      "Total params: 105,271\n",
      "Trainable params: 105,271\n",
      "Non-trainable params: 0\n",
      "_________________________________________________________________\n"
     ]
    }
   ],
   "source": [
    "model_discriminator.summary()"
   ]
  },
  {
   "cell_type": "code",
   "execution_count": 154,
   "metadata": {},
   "outputs": [],
   "source": [
    "discriminator_optimizer = tf.optimizers.Adam(1e-3)\n",
    "generator_optimizer = tf.optimizers.Adam(1e-3)"
   ]
  },
  {
   "cell_type": "code",
   "execution_count": 155,
   "metadata": {},
   "outputs": [],
   "source": [
    "def get_discriminator_loss(real_predictions, fake_predictions):\n",
    "    real_preds = tf.sigmoid(real_predictions)\n",
    "    fake_preds = tf.sigmoid(fake_predictions)\n",
    "    real_loss = tf.losses.binary_crossentropy(tf.ones_like(real_preds), real_preds)\n",
    "    fake_loss = tf.losses.binary_crossentropy(tf.zeros_like(fake_preds), fake_preds)\n",
    "    return (real_loss+fake_loss)/2"
   ]
  },
  {
   "cell_type": "markdown",
   "metadata": {},
   "source": [
    "# Generator"
   ]
  },
  {
   "cell_type": "code",
   "execution_count": 156,
   "metadata": {},
   "outputs": [],
   "source": [
    "def make_generator_model():\n",
    "    model = tf.keras.Sequential()\n",
    "    model.add(tf.keras.layers.Dense(3*50*3, input_shape = (100,)))\n",
    "    model.add(tf.keras.layers.BatchNormalization())\n",
    "    print(model.output_shape)\n",
    "    model.add(tf.keras.layers.Dense(3*50*1, input_shape = (100,)))\n",
    "    model.add(tf.keras.layers.BatchNormalization())\n",
    "    print(model.output_shape)\n",
    "    model.add(tf.keras.layers.Reshape((3,50,1)))\n",
    "    print(model.output_shape)\n",
    "    model.add(tf.keras.layers.Conv2DTranspose(6, (3,3), padding = 'same'))\n",
    "    print(model.output_shape)\n",
    "    model.add(tf.keras.layers.BatchNormalization())\n",
    "    model.add(tf.keras.layers.Conv2DTranspose(4, (3,3),strides = (1,1), padding = 'same'))\n",
    "    print(model.output_shape)\n",
    "    model.add(tf.keras.layers.BatchNormalization())\n",
    "    model.add(tf.keras.layers.Conv2DTranspose(1, (3,3),strides = (1,1), padding = 'same'))\n",
    "    print(model.output_shape)\n",
    "    return model"
   ]
  },
  {
   "cell_type": "code",
   "execution_count": 157,
   "metadata": {},
   "outputs": [
    {
     "name": "stdout",
     "output_type": "stream",
     "text": [
      "(None, 450)\n",
      "(None, 150)\n",
      "(None, 3, 50, 1)\n",
      "(None, 3, 50, 6)\n",
      "(None, 3, 50, 4)\n",
      "(None, 3, 50, 1)\n",
      "Model: \"sequential_11\"\n",
      "_________________________________________________________________\n",
      "Layer (type)                 Output Shape              Param #   \n",
      "=================================================================\n",
      "dense_19 (Dense)             (None, 450)               45450     \n",
      "_________________________________________________________________\n",
      "batch_normalization_17 (Batc (None, 450)               1800      \n",
      "_________________________________________________________________\n",
      "dense_20 (Dense)             (None, 150)               67650     \n",
      "_________________________________________________________________\n",
      "batch_normalization_18 (Batc (None, 150)               600       \n",
      "_________________________________________________________________\n",
      "reshape_5 (Reshape)          (None, 3, 50, 1)          0         \n",
      "_________________________________________________________________\n",
      "conv2d_transpose_15 (Conv2DT (None, 3, 50, 6)          60        \n",
      "_________________________________________________________________\n",
      "batch_normalization_19 (Batc (None, 3, 50, 6)          24        \n",
      "_________________________________________________________________\n",
      "conv2d_transpose_16 (Conv2DT (None, 3, 50, 4)          220       \n",
      "_________________________________________________________________\n",
      "batch_normalization_20 (Batc (None, 3, 50, 4)          16        \n",
      "_________________________________________________________________\n",
      "conv2d_transpose_17 (Conv2DT (None, 3, 50, 1)          37        \n",
      "=================================================================\n",
      "Total params: 115,857\n",
      "Trainable params: 114,637\n",
      "Non-trainable params: 1,220\n",
      "_________________________________________________________________\n"
     ]
    }
   ],
   "source": [
    "generator = make_generator_model()\n",
    "generator.summary()"
   ]
  },
  {
   "cell_type": "code",
   "execution_count": 158,
   "metadata": {},
   "outputs": [
    {
     "data": {
      "text/plain": [
       "<tf.Tensor: shape=(10, 1), dtype=float32, numpy=\n",
       "array([[ 0.0614004 ],\n",
       "       [-0.10231433],\n",
       "       [-0.02739333],\n",
       "       [ 0.03744532],\n",
       "       [-0.07455835],\n",
       "       [-0.06257272],\n",
       "       [-0.01289695],\n",
       "       [-0.04766909],\n",
       "       [ 0.08908349],\n",
       "       [-0.01363639]], dtype=float32)>"
      ]
     },
     "execution_count": 158,
     "metadata": {},
     "output_type": "execute_result"
    }
   ],
   "source": [
    "model_discriminator(generator(np.random.randn(10,100)))"
   ]
  },
  {
   "cell_type": "code",
   "execution_count": 159,
   "metadata": {},
   "outputs": [],
   "source": [
    "def get_generator_loss(fake_predictions):\n",
    "    fake_preds = tf.sigmoid(fake_predictions)\n",
    "    fake_loss = tf.losses.binary_crossentropy(tf.ones_like(fake_preds), fake_preds)\n",
    "    return fake_loss"
   ]
  },
  {
   "cell_type": "markdown",
   "metadata": {},
   "source": [
    "# Training\n"
   ]
  },
  {
   "cell_type": "code",
   "execution_count": 160,
   "metadata": {},
   "outputs": [],
   "source": [
    "def train(dataset, epochs):\n",
    "    for _ in range(epochs):\n",
    "        for datum in tqdm.tqdm(dataset):\n",
    "            datum = tf.cast(datum, tf.dtypes.float32)\n",
    "            datum = tf.reshape(datum,(1,3,50,1))\n",
    "            #print(datum.shape)\n",
    "            train_step(datum)"
   ]
  },
  {
   "cell_type": "code",
   "execution_count": 161,
   "metadata": {},
   "outputs": [],
   "source": [
    "def train_step(datum):\n",
    "    #fake_datum_noise = np.random.randn(BATCH_SIZE, 100).astype('float32')\n",
    "    fake_datum_noise = np.random.randn(1,100).astype('float32')\n",
    "    \n",
    "    with tf.GradientTape() as gen_tape, tf.GradientTape() as disc_tape:\n",
    "        discriminator_optimizer = tf.optimizers.Adam(1e-3)\n",
    "\n",
    "        generated_datum = generator(fake_datum_noise)\n",
    "        #print(generated_datum)\n",
    "        real_output = model_discriminator(datum)\n",
    "        fake_output = model_discriminator(generated_datum)\n",
    "       \n",
    "        gen_loss = get_generator_loss(fake_output)\n",
    "        disc_loss = get_discriminator_loss(real_output, fake_output)\n",
    "        \n",
    "    gradients_of_generator = gen_tape.gradient(gen_loss, generator.trainable_variables)\n",
    "    #print(gradients_of_generator[0].shape)\n",
    "    #print(generator.variables)\n",
    "\n",
    "    gradients_of_discriminator = disc_tape.gradient(disc_loss, model_discriminator.trainable_variables)\n",
    "    #print(gradients_of_discriminator[0].shape)\n",
    "\n",
    "    generator_optimizer.apply_gradients(zip(gradients_of_generator, generator.trainable_variables))\n",
    "    discriminator_optimizer.apply_gradients(zip(gradients_of_discriminator, model_discriminator.trainable_variables))\n",
    "    \n",
    "    print(\"generated loss : \", np.mean(gen_loss))\n",
    "    print(\"discriminator loss : \", np.mean(disc_loss))\n",
    "    clear_output(wait=True)\n"
   ]
  },
  {
   "cell_type": "code",
   "execution_count": 162,
   "metadata": {},
   "outputs": [
    {
     "name": "stderr",
     "output_type": "stream",
     "text": [
      "6942it [03:01, 38.19it/s]\n"
     ]
    }
   ],
   "source": [
    "train(train_dataset, 1)"
   ]
  },
  {
   "cell_type": "code",
   "execution_count": 22,
   "metadata": {},
   "outputs": [],
   "source": [
    "# Fa_samples = tf.reshape(Fa,(6942,50,3,1))\n",
    "# #train_images_samples = (tf.cast(train_images_samples,dtype=tf.dtypes.float32)-127.5)/127.5\n",
    "# fake_fa = generator(np.random.rand(500,100))\n",
    "\n",
    "# real_predictions = make_discriminator_model()\n",
    "# fake_predictions = make_discriminator_model(fake_fa)\n",
    "\n",
    "# disc_loss = get_discriminator_loss(real_predictions,fake_predictions)\n",
    "# disc_grad = disc_tape.gradient(disc_loss,discriminator_model.variables)\n",
    "\n",
    "# gen_loss = get_generator_loss(fake_predictions)\n",
    "# gen_grad = gen_tape.gradient(gen_loss,generator.variables)\n",
    "\n",
    "# discriminator_optimizer.apply_gradients(zip(disc_grad,discriminator_model.variables))\n",
    "# generator_optimizer.apply_gradients(zip(gen_grad,generator.variables))\n",
    "# print(disc_grad,discriminator_model.variables)"
   ]
  },
  {
   "cell_type": "code",
   "execution_count": 233,
   "metadata": {},
   "outputs": [],
   "source": [
    "data = generator(np.random.randn(1,100)).numpy().reshape(3,50)"
   ]
  },
  {
   "cell_type": "code",
   "execution_count": 234,
   "metadata": {},
   "outputs": [
    {
     "data": {
      "image/png": "[encoded data removed]",
      "text/plain": [
       "<Figure size 432x288 with 1 Axes>"
      ]
     },
     "metadata": {
      "needs_background": "light"
     },
     "output_type": "display_data"
    }
   ],
   "source": [
    "colors = ['Greens', 'Reds']\n",
    "lineColors = ['Red', 'Green', 'Blue']\n",
    "labels = ['Accel','Gyro']\n",
    "# fig,axs = plt.subplots(2,2)\n",
    "# instance = 19\n",
    "# for i,F in enumerate([Fa,Fg]):\n",
    "#     ax = axs[i,0]\n",
    "#     pcm = ax.imshow(F[instance], interpolation='nearest', aspect='auto', cmap=colors[i])\n",
    "#     fig.colorbar(pcm, ax=ax)\n",
    "#     #pcm.set_ylabel(labels[i])\n",
    "#   #  ax.set_yticks([1,2,3])\n",
    "#    # ax.set_yticklabels(['z','y','x'])\n",
    "    \n",
    "for j in range(3):\n",
    "    plt.plot(data[j], color = lineColors[j])\n",
    "\n",
    "plt.show()\n",
    "%matplotlib inline"
   ]
  }
 ],
 "metadata": {
  "kernelspec": {
   "display_name": "pyHAI",
   "language": "python",
   "name": "pyhai"
  },
  "language_info": {
   "codemirror_mode": {
    "name": "ipython",
    "version": 3
   },
   "file_extension": ".py",
   "mimetype": "text/x-python",
   "name": "python",
   "nbconvert_exporter": "python",
   "pygments_lexer": "ipython3",
   "version": "3.6.10"
  }
 },
 "nbformat": 4,
 "nbformat_minor": 4
}
